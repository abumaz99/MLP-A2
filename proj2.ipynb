{
 "cells": [
  {
   "cell_type": "markdown",
   "metadata": {},
   "source": [
    "# Machine Learning in Python - Project 1\n",
    "\n",
    "Due Friday, April 9th by 5 pm UK local time."
   ]
  },
  {
   "cell_type": "markdown",
   "metadata": {},
   "source": [
    "Abu Mazhar, Adrian Lee, Elliot Kovanda, Gianluca Bianchi."
   ]
  },
  {
   "cell_type": "markdown",
   "metadata": {},
   "source": [
    "## 0. Setup"
   ]
  },
  {
   "cell_type": "code",
   "execution_count": 1,
   "metadata": {},
   "outputs": [],
   "source": [
    "# Install required packages\n",
    "!pip install -q -r requirements.txt"
   ]
  },
  {
   "cell_type": "code",
   "execution_count": 2,
   "metadata": {},
   "outputs": [],
   "source": [
    "# Add any additional libraries or submodules below\n",
    "\n",
    "# Display plots inline\n",
    "%matplotlib inline\n",
    "\n",
    "# Data libraries\n",
    "import pandas as pd\n",
    "import numpy as np\n",
    "\n",
    "# Plotting libraries\n",
    "import matplotlib.pyplot as plt\n",
    "import seaborn as sns\n",
    "\n",
    "# Plotting defaults\n",
    "plt.rcParams['figure.figsize'] = (8,5)\n",
    "plt.rcParams['figure.dpi'] = 80\n",
    "\n",
    "# sklearn modules\n",
    "import sklearn\n",
    "from sklearn.pipeline import Pipeline\n",
    "from sklearn.model_selection import train_test_split\n",
    "from sklearn.model_selection import KFold\n",
    "from sklearn.model_selection import GridSearchCV\n",
    "from sklearn.preprocessing import StandardScaler\n",
    "from sklearn.linear_model import LogisticRegression\n",
    "from sklearn.ensemble import RandomForestClassifier\n",
    "from sklearn.tree import DecisionTreeClassifier\n",
    "from sklearn.tree import plot_tree\n",
    "from sklearn.tree import export_text\n",
    "from sklearn.metrics import confusion_matrix"
   ]
  },
  {
   "cell_type": "code",
   "execution_count": 3,
   "metadata": {},
   "outputs": [],
   "source": [
    "# Load data\n",
    "d = pd.read_csv(\"hotel.csv\")"
   ]
  },
  {
   "cell_type": "markdown",
   "metadata": {},
   "source": [
    "## 1. Introduction\n",
    "\n",
    "*This section should include a brief introduction to the task and the data (assume this is a report you are delivering to a client). If you use any additional data sources, you should introduce them here and discuss why they were included.*\n",
    "\n",
    "*Briefly outline the approaches being used and the conclusions that you are able to draw.*\n",
    "\n",
    "In the following report we will devlop a model, based upon the hotel bookins data set, which aims to predict whether a booking is likely to be cancelled or not. We aim for our model to be used by the hotel so that they can give booked rooms out to other customers, provided the booking has a high likelihood of being cancelled. Our hope is that the results we produce will help the hotels better understand what causes customers to cancel so that they might improve these aspects of their hotel where possible. \n",
    "\n",
    "Before the model was devloped and tested we cleaned the data removing irregularities and what we deem to be incorrect entries. We then studied the data to gain insights about the most significant features affecting the cancellation decsion of a given booking, following this we removed those which had little relevance to our model's predictive capabilities. \n",
    "\n",
    "With the now good quality dataset we fitted several models, namely logistic regression, decision trees and random forests. When evaluating the models several different metrics were considered, with our initial thought being to optimise models based on their precision. This would minimise the false positive rate, which in turn would lead to the hotel cancelling bookings in advance with a very high likelihood that they would have been cancelled. In doing this the hotel would benefit by having more time to sell these cancelled rooms to other customers. The tradeoff in this case being that if these rooms were not resold the hotel would have empty rooms which would be losing them money. \n",
    "\n",
    "\n",
    "Ultimatley we decided that #### was the superior model with a precidictive accuracy of ####.\n",
    "\n"
   ]
  },
  {
   "cell_type": "markdown",
   "metadata": {},
   "source": [
    "## 2. Exploratory Data Analysis and Feature Engineering"
   ]
  },
  {
   "cell_type": "markdown",
   "metadata": {},
   "source": [
    "*Include a detailed discussion of the data with a particular emphasis on the features of the data that are relevant for the subsequent modeling. Including visualizations of the data is strongly encouraged - all code and plots must also be described in the write up. Think carefully about whether each plot needs to be included in your final draft - your report should include figures but they should be as focused and impactful as possible.*\n",
    "\n",
    "*Additionally, this section should also implement and describe any preprocessing / feature engineering of the data. Specifically, this should be any code that you use to generate new columns in the data frame `d`. All of this processing is explicitly meant to occur before we split the data in to training and testing subsets. Processing that will be performed as part of an sklearn pipeline can be mentioned here but should be implemented in the following section.*\n",
    "\n",
    "*All code and figures should be accompanied by text that provides an overview / context to what is being done or presented.*"
   ]
  },
  {
   "cell_type": "code",
   "execution_count": 4,
   "metadata": {},
   "outputs": [
    {
     "name": "stdout",
     "output_type": "stream",
     "text": [
      "<class 'pandas.core.frame.DataFrame'>\n",
      "RangeIndex: 119390 entries, 0 to 119389\n",
      "Data columns (total 30 columns):\n",
      " #   Column                          Non-Null Count   Dtype  \n",
      "---  ------                          --------------   -----  \n",
      " 0   is_canceled                     119390 non-null  int64  \n",
      " 1   hotel                           119390 non-null  object \n",
      " 2   lead_time                       119390 non-null  int64  \n",
      " 3   arrival_date_year               119390 non-null  int64  \n",
      " 4   arrival_date_month              119390 non-null  object \n",
      " 5   arrival_date_week_number        119390 non-null  int64  \n",
      " 6   arrival_date_day_of_month       119390 non-null  int64  \n",
      " 7   stays_in_weekend_nights         119390 non-null  int64  \n",
      " 8   stays_in_week_nights            119390 non-null  int64  \n",
      " 9   adults                          119390 non-null  int64  \n",
      " 10  children                        119386 non-null  float64\n",
      " 11  babies                          119390 non-null  int64  \n",
      " 12  meal                            119390 non-null  object \n",
      " 13  country                         118902 non-null  object \n",
      " 14  market_segment                  119390 non-null  object \n",
      " 15  distribution_channel            119390 non-null  object \n",
      " 16  is_repeated_guest               119390 non-null  int64  \n",
      " 17  previous_cancellations          119390 non-null  int64  \n",
      " 18  previous_bookings_not_canceled  119390 non-null  int64  \n",
      " 19  reserved_room_type              119390 non-null  object \n",
      " 20  assigned_room_type              119390 non-null  object \n",
      " 21  booking_changes                 119390 non-null  int64  \n",
      " 22  deposit_type                    119390 non-null  object \n",
      " 23  agent                           103050 non-null  float64\n",
      " 24  company                         6797 non-null    float64\n",
      " 25  days_in_waiting_list            119390 non-null  int64  \n",
      " 26  customer_type                   119390 non-null  object \n",
      " 27  adr                             119390 non-null  float64\n",
      " 28  required_car_parking_spaces     119390 non-null  int64  \n",
      " 29  total_of_special_requests       119390 non-null  int64  \n",
      "dtypes: float64(4), int64(16), object(10)\n",
      "memory usage: 22.8+ MB\n"
     ]
    }
   ],
   "source": [
    "d.info()"
   ]
  },
  {
   "cell_type": "code",
   "execution_count": 5,
   "metadata": {},
   "outputs": [],
   "source": [
    "pd.set_option('display.max_columns', 500)"
   ]
  },
  {
   "cell_type": "code",
   "execution_count": 6,
   "metadata": {},
   "outputs": [
    {
     "data": {
      "text/plain": [
       "Index(['is_canceled', 'hotel', 'lead_time', 'arrival_date_year',\n",
       "       'arrival_date_month', 'arrival_date_week_number',\n",
       "       'arrival_date_day_of_month', 'stays_in_weekend_nights',\n",
       "       'stays_in_week_nights', 'adults', 'children', 'babies', 'meal',\n",
       "       'country', 'market_segment', 'distribution_channel',\n",
       "       'is_repeated_guest', 'previous_cancellations',\n",
       "       'previous_bookings_not_canceled', 'reserved_room_type',\n",
       "       'assigned_room_type', 'booking_changes', 'deposit_type', 'agent',\n",
       "       'company', 'days_in_waiting_list', 'customer_type', 'adr',\n",
       "       'required_car_parking_spaces', 'total_of_special_requests'],\n",
       "      dtype='object')"
      ]
     },
     "execution_count": 6,
     "metadata": {},
     "output_type": "execute_result"
    }
   ],
   "source": [
    "d.columns"
   ]
  },
  {
   "cell_type": "markdown",
   "metadata": {},
   "source": [
    "### Guest Data Irregularities\n"
   ]
  },
  {
   "cell_type": "markdown",
   "metadata": {},
   "source": [
    "An initial check on our data to decide if a given booking was valid or not was to check that there were the correct number of guests on a booking. This first involved removing bookings with no guests at all. We then proceeded to remove all bookings which contain no adults as we thought this unreasonable for children to be making bookings without adults."
   ]
  },
  {
   "cell_type": "code",
   "execution_count": 7,
   "metadata": {},
   "outputs": [],
   "source": [
    "# Total guests \n",
    "d[\"n_guests\"] = d.adults + d.children + d.babies\n",
    "\n",
    "# Drop if no guests\n",
    "d.drop(d[(d.n_guests < 1) | (np.isnan(d.n_guests))].index, inplace = True)\n",
    "\n",
    "# # Drop if baby but no adult\n",
    "d.drop(d[(d.adults < 1) & (d.babies >= 1)].index, inplace = True)\n",
    "\n",
    "# # Bookings with only children\n",
    "d[(d.adults < 1) & (d.children >= 1)]\n",
    "\n",
    "#drop entries with no adults\n",
    "d = d[~(d.adults==0)]"
   ]
  },
  {
   "cell_type": "markdown",
   "metadata": {},
   "source": [
    "Finally we decided to join the children and baby variable into a 'family' variable."
   ]
  },
  {
   "cell_type": "code",
   "execution_count": 8,
   "metadata": {},
   "outputs": [],
   "source": [
    "d['family'] = ((d['children'] > 0) | (d['babies'] > 0))"
   ]
  },
  {
   "cell_type": "markdown",
   "metadata": {},
   "source": [
    "For the `adr` column, we removed rows with an Average Daily Rate of 0 as this would also be infeasible."
   ]
  },
  {
   "cell_type": "code",
   "execution_count": 9,
   "metadata": {},
   "outputs": [],
   "source": [
    "# drop entries with `adr` == 0\n",
    "d = d[~(d.adr==0)]"
   ]
  },
  {
   "cell_type": "markdown",
   "metadata": {},
   "source": [
    "Following the elimination of the invalid rows, we could make more eliminations by considering the parking space requirement for each booking. We said that it was reasonable for each adult on a booking to have their own car parking space, or not have one at all. However, if there was more than one parking space per adult this would be infeasible. We subsequently removed those columns."
   ]
  },
  {
   "cell_type": "code",
   "execution_count": 10,
   "metadata": {},
   "outputs": [],
   "source": [
    "# drop entries with more than one car parking space requested per adult (7 in total)\n",
    "d = d[~(d.required_car_parking_spaces/d.adults > 1)]"
   ]
  },
  {
   "cell_type": "markdown",
   "metadata": {},
   "source": [
    "#### Total stay and weekday_stay per weekend_stay\n",
    "Delete obervations when total stay = 0\n",
    "\n",
    "Long stays appear to check out. At least they are staying continouously for weekdays and weekends."
   ]
  },
  {
   "cell_type": "code",
   "execution_count": 11,
   "metadata": {},
   "outputs": [],
   "source": [
    "d[\"total_stay\"] = d.stays_in_weekend_nights + d.stays_in_week_nights\n",
    "\n",
    "d.drop(d[(d.total_stay < 1)].index, inplace = True)\n",
    "\n",
    "# Weekday_diff indicates whether stay was continuous (weekdays per weekends should be constant and not above 5)\n",
    "d[\"weekday_diff\"] = (d.stays_in_weekend_nights - d.stays_in_week_nights) / (1+(0.5*d.stays_in_weekend_nights)) \n",
    "#d2[((d2.total_stay > 20) & (d2.weekday_diff < -3))]"
   ]
  },
  {
   "cell_type": "code",
   "execution_count": 12,
   "metadata": {},
   "outputs": [
    {
     "name": "stdout",
     "output_type": "stream",
     "text": [
      "is_portugal  hotel       \n",
      "0            City Hotel      0.269590\n",
      "             Resort Hotel    0.165445\n",
      "1            City Hotel      0.667246\n",
      "             Resort Hotel    0.431115\n",
      "Name: is_canceled, dtype: float64\n",
      "0.3748762502987062\n"
     ]
    }
   ],
   "source": [
    "# Creates a binary column whether booking is from Portugal or not \n",
    "d['is_portugal'] = np.where(d.country == 'PRT', 1, 0)\n",
    "\n",
    "print(d.groupby([\"is_portugal\", \"hotel\"]).is_canceled.mean())\n",
    "print(d.is_canceled.mean())"
   ]
  },
  {
   "cell_type": "code",
   "execution_count": 13,
   "metadata": {},
   "outputs": [],
   "source": [
    "d.drop([\"country\", \"is_portugal\"], axis = \"columns\", inplace = True)"
   ]
  },
  {
   "cell_type": "markdown",
   "metadata": {},
   "source": [
    "#### Cancellation ratio\n",
    "Gives insight into fraction of bookings cancelled. \n",
    "\n",
    "Problem: 2 cancellations / 2 bookings = 1 cancellation / 1 booking = 1"
   ]
  },
  {
   "cell_type": "code",
   "execution_count": 14,
   "metadata": {},
   "outputs": [],
   "source": [
    "d[\"cancelation_ratio\"] = d.previous_cancellations / (d.previous_cancellations + d.previous_bookings_not_canceled)\n",
    "#d2.cancelation_ratio\n",
    "\n",
    "#d2[\"cancelation_ratio\"] = d2.previous_cancellations / (d2.previous_cancellations + d2.previous_bookings_not_canceled)\n",
    "d[\"cancelation_ratio\"] = np.where(d.is_repeated_guest == 0, 0,\n",
    "                                   d.previous_cancellations / (d.previous_cancellations + d.previous_bookings_not_canceled))\n",
    "\n",
    "#d2.cancelation_ratio.unique"
   ]
  },
  {
   "cell_type": "markdown",
   "metadata": {},
   "source": [
    "#### Customer's lead time\n",
    "Time between confirmation of booking and arrival. \n",
    "\n",
    "Problem: There's little variance in waiting time and waiting time is small relative to lead time. Therefore, near perfect correlation between lead_time and customers_lead.\n"
   ]
  },
  {
   "cell_type": "code",
   "execution_count": 15,
   "metadata": {},
   "outputs": [],
   "source": [
    "import scipy\n",
    "\n",
    "d[\"customers_lead\"] = d.lead_time - d.days_in_waiting_list\n",
    "\n",
    "#d2.customers_lead.mean()\n",
    "#d2.days_in_waiting_list.mean()\n",
    "\n",
    "#scipy.stats.pearsonr(d2.customers_lead, d2.lead_time)"
   ]
  },
  {
   "cell_type": "code",
   "execution_count": 16,
   "metadata": {},
   "outputs": [],
   "source": [
    "d[\"ppp\"] = d.adr / (d.adults + d.children)\n",
    "\n",
    "#d2.ppp.nlargest(5)\n",
    "#d2.adr.nlargest(5)\n",
    "\n",
    "# We drop the excessive ppp > 2000\n",
    "#d2.drop(d2[(d2.ppp > 2000)].index, inplace = True)\n",
    "\n",
    "\n",
    "#d2[(d2.ppp > 250)]"
   ]
  },
  {
   "cell_type": "markdown",
   "metadata": {},
   "source": [
    "### Room Type, Allocation and Price"
   ]
  },
  {
   "cell_type": "markdown",
   "metadata": {},
   "source": [
    "First we studied the avergae price per person \n",
    "per night for each of the different room types. The table below shows reasonable results for all rooms types except room type L. We thus choose to drop all features with room type L."
   ]
  },
  {
   "cell_type": "code",
   "execution_count": 17,
   "metadata": {},
   "outputs": [
    {
     "data": {
      "text/plain": [
       "assigned_room_type\n",
       "L     4.000000\n",
       "I    46.113427\n",
       "C    47.785518\n",
       "H    52.349578\n",
       "B    55.424493\n",
       "A    55.505688\n",
       "D    55.722988\n",
       "G    59.340325\n",
       "F    60.263067\n",
       "E    61.579533\n",
       "K    65.199925\n",
       "Name: ppp, dtype: float64"
      ]
     },
     "execution_count": 17,
     "metadata": {},
     "output_type": "execute_result"
    }
   ],
   "source": [
    "d.groupby(\"assigned_room_type\").ppp.mean().sort_values()"
   ]
  },
  {
   "cell_type": "code",
   "execution_count": 18,
   "metadata": {},
   "outputs": [],
   "source": [
    "d.drop(d[(d.assigned_room_type == \"L\")].index, inplace = True)"
   ]
  },
  {
   "cell_type": "markdown",
   "metadata": {},
   "source": [
    "We thought it more reasonable to consider a variable combining `assigned_room_type` and `reserved_room_type`. This is acting under the assumption that if a customer does not get what they asked for they will be unhappier and thus more likely to cancel."
   ]
  },
  {
   "cell_type": "code",
   "execution_count": 19,
   "metadata": {},
   "outputs": [],
   "source": [
    "# Compare whether assigned and reserved rooms are the same\n",
    "d['assigned_vs_reserved'] = (d['assigned_room_type'] == d['reserved_room_type'])"
   ]
  },
  {
   "cell_type": "markdown",
   "metadata": {},
   "source": [
    "We can observe from the histogram below (on a subset of the data) that there are a number of unusually low rates which form a second hump. We should exclude these.###not sure if we should"
   ]
  },
  {
   "cell_type": "code",
   "execution_count": 20,
   "metadata": {},
   "outputs": [],
   "source": [
    "#sns.displot(\n",
    "    #data = d2[(d2.ppp < 500)],\n",
    "    #x = \"ppp\",\n",
    "    #kind = \"hist\",\n",
    "    #bins = 50\n",
    "           #)"
   ]
  },
  {
   "cell_type": "markdown",
   "metadata": {},
   "source": []
  },
  {
   "cell_type": "code",
   "execution_count": 70,
   "metadata": {},
   "outputs": [
    {
     "data": {
      "image/png": "iVBORw0KGgoAAAANSUhEUgAAAl4AAAGJCAYAAABb8j2MAAAAOXRFWHRTb2Z0d2FyZQBNYXRwbG90bGliIHZlcnNpb24zLjMuMSwgaHR0cHM6Ly9tYXRwbG90bGliLm9yZy/d3fzzAAAACXBIWXMAAAxOAAAMTgF/d4wjAADFqElEQVR4nOzdd3hUVfrA8e+ZkkxJ7wkhJIQaehVRQEEBFbDAWrCufddV1/3Z1jaOfdV1197WhoLYFVFp0lR6B2lJCC2kJ5MymT7n98eEGDqBJJPA+TzPPJB775z7DiJ5895z3iOklCiKoiiKoijNTxPsABRFURRFUU4XKvFSFEVRFEVpISrxUhRFURRFaSEq8VIURVEURWkhKvFSFEVRFEVpISrxUhRFURRFaSEq8VIURVEURWkhumAHoCiKoiiKAiCs4hVgAtAB6CUtctNB568HPgTGS4ucWXfMBLwHDAL8wIPSIr+uO6cBXgYuBCTwkrTINxqM9wjw57ovp0mLfLT5Pl1Am0u8hBBSo1GFOkVRFEVpS/x+P1JKcYzLvgSeB349+ISwilTgNmDZQafuBVzSIjsJq8gAlgqrWCAtsgK4BsgCugCRwBphFfOlRW4VVjEcuAroDXiB34RV/CotcvZJfMxjanOJl0ajwefzBTsMRVEURVEaQQhxzG/e0iIXAwjrYfOzd4B7gH8ddPwK4Ia69+cJq1gMXEygMnYF8Ja0SB9QLqzic+BK4PG6cx9Ki7TX3fN9AolYsyZeqnSkKIqiKEqrJqziL8Dv0iKXH+Z0GrCrwdc7646dzLlm0+YqXoqiKIqitEEhaIRV7G1w5CVpkS8d6211jw9vAc46ymUNN54+uFx2oueahUq8FEVRFEVpfm780iJTT+CdZwIpwJa6R5BJwHvCKh6RFvkusBtIB0rqru8A/Fj3+/3nVjY4t/ugcxzmXLNRiZeiKIqiKK2WtMhpwLT9XwurWAi8uH9VI/AFcAdwQ111bARwe4Nztwmr+JrA5PorgLENzr0mrOINApPrbwQead5Po+Z4KYqiKIrSSgireL3ucWQqME9YRc5xvO0FwFh37WzgDmmR5XXnPga2AdsJVL1ekBa5BUBa5ELgc2AjsAWYIy1yVlN+nsMRUspjX9WKaLVaqVY1KoqiKErbIoTwSSlP+ydtquKlKIqiKIrSQlTipSiKoiiK0kJU4qUoiqIoitJCVOKlKIqiKIrSQlTipSiKoiiK0kJU4qUoihIkXr+X++fez2srXgt2KIqitBDVTkJRFCUIfH4f1317HdM2TsOgMVB4TyGRYZHBDktRmo1qJxGgKl6KoigtzC/93Pr9rUzbOI2k0CScfiefLvs02GEpitICVOKlKIrSgqSU3Pnjnby/7n1GJo3ksy6foRM6pv8+Ha/TG+zwFEVpZirxUhRFaSFSSu6dcy9vrHqDESkjeCnpJTqmdmR4/HB+tf3K9i3bgx2ioijNTCVeiqIoLeTRBY/y0rKXOKvdWbya+ipRsVHsmLODYdXD8OHjs3Wf4a5xBztMRVGakUq8FEVRWsBTi5/i6V+eZnDKYN7p+g4mnYm9y/ay4NEF+J70YdQYmVk+k/Lc8mMPpihKm6USL0VRlGb24pIXeXTBo/RN6ssngz9BW6nFU+thsXUx2lAtuhod/cr6saZmDb/n/o7T5gx2yIqiNBOVeCmKojSj11a8xn1z76NHfA++Gf0N/t1+QiNDmffAPNx2N6P/PZrEPolkzMoA4MfKHynLLqOttfpRFOX4qMRLURSlmby7+l3u/OlOusZ25aeJP+HL9mGINrD8v8sp21ZG/5v7kzoklcF3DqZjdkfCPGHMLJ9JdWE1taW1wQ5fUZRmoBIvRVGUZvDx+o+5beZtdIzuyNzJc2EHIGDXwl1s/Xor7Qa3o9/N/QBI6ptExlkZdFvXje0129nBDsq2lSH9quqlKKcalXgpiqI0sc9//5wbvruB9pHtmX/dfAxFBmrLanFWOvnlmV8wxZk496lz0Wg1+L1+aopqGPjXgfTa2AuAmbaZOCocVBdWB/mTKIrS1FTipSiK0oS+2/odk7+aTKI5kZ+v+5kYZwzlOeWEhIcw74F5+Nw+Rj47EmOMEYDaklpCzCGBZKznuUTaIvlq51eERIZQtq0Mv9cf5E+kKEpTUomXoihKE/kp+yf+9MWfiDXFMv/6+aSFplG8oZjQqFCWPL8E2w4bg/46iOR+yQA4Sh2YE8wk9EzA5/Ix6NZB9P69N8X+YtY41uCxe6jKrwryp1IUpSmpxEtRFKUJ/LzjZy77/DLCQ8OZd+08ukR1oWhDEQjYMXsHOT/mkDYsjd7X9gbAbXeDFhJ6JmCKNRGeEo7OqOPilIsBmLJyCoZoA2XbyvC61FZCinKqUImXoijKSfpl1y9MmD6BUG0oc6+dS6/EXpRll1FbVkttSS1LXlhCWHIYIx4fgdAI/F4/rioXyX2T0Zv0AMRkxuD3+plw5QQSixOZVzsPr8aL3+uncndlkD+hoihNRSVeiqIoJ2H53uVcNO0iNELDrGtm0T+5PzVFNZTnlKM36Zn3wDykX3Lec+dhiDQgpcRebCe+ezymOFP9OKERoUSmRSKEYIxhDLWhtUz7cRqGGAPlOeV4aj1B/JSKojQVlXgpiqKcoDUFaxjzyRh80sePk39kSOoQ3HY3ReuLCI0K5denf6VqbxVD7hlCfI94ABxlDsJTwonOiD5kvOj0aKRPcvOomwH4Mu9LpE8ihKB8h9pKSFFOBSrxUhSl0XxuH7ZdNvYu34uryhXscIJiU/EmRn88GqfXyYwrZzCswzD8Xj9FGwPzurZ/t528+Xl0PL8jWZdnAeCqdqEN0ZLQIwGhEYeMGRIWQlRGFEmaJHr4evB7+u+s/GwlhhgDlbsrT9s/a0U5lajES1GU4+Z1eSnfUc7OhTsp3lSMs9LJ3mV7cVQ4gh1ai9paupVRU0ZR5ari6yu+ZlTHUQCUZZfhKHNQlV/Fsv8uIyItgmEPD0MIgc/tw1vrJalvEjqD7ohjR3WIQiC4svuVePVePlv+GR67B41OQ1l2WUt9REVRmolKvBRFOSav00t5biDhKt1aij5MT1hSGKZYE9pQLXuX7cVeYg92mC0itzyXUVNGUVZbxud/+pwLO18IUD+vS6PX8PODP6PRaTjvX+cREhaC9EtqS2uJ7xGPMdp41PH1Jj3RHaM533Q+WrSs7byW9VPWY4w2Ul1QTW2Z2kpIUdqyI//YpSjKac/j8FC1t4ry3HLwgyHagDZEe8A1IWEhCI0gf0U+Sf2SiEiJCFK0zW+XbRcjp4yksKaQaZdN45JulwD8Ma8rMpT5/5yPvcjO8EeHE9s5Fgg0SY1MiyQyLfK47hOZFklsXiwjYkew0L+QZa8uo8cVPdAb9ZRtL8N4hvGwjyoVpa0TVvEKMAHoAPSSFrmp7vgHwADAD3iAB6VF/lx3zgS8BwyqO/+gtMiv685pgJeBCwEJvCQt8o0G93sE+HPdl9OkRT7a3J+x2RMvq7CGAv8GxgBuYK1FWq6xCutCIA3Y3x3wI4u0/Ke541EU5dg8tR5su21U7qxE+iWGGANa/YEJl6PcgdAKDJEG9CY9QiMoXFOI3+MnqkNUcAJvRvlV+YyaMoo9lXv48JIPuaLnFQD187okks2fb2bPkj10Gd+Frhd3BcBZ6SQkPIT47vEIcXzJks6gI6ZzDBcWX8j8svls6LyBNe+sYdjDw6jeV429xE5YYlizfVZFCaIvgeeBXw86fo+0SBuAsIq+wDxhFfHSIiVwL+CSFtlJWEUGsFRYxQJpkRXANUAW0AWIBNYIq5gvLXKrsIrhwFVAb8AL/Cas4ldpkbOb8wO2RMXrOQIZaBeLtEirsCY3OHeXRVpmtkAMiqIcB7fdTeWuSmy7bAAYY4xodAfOSLCX2Fn3/jq2fruV0PBQxrw8hvju8egMOoxxRoo2FOHz+IjJjDnuRKO1K6opYtSUUeRW5PL2uLe5rs919efq53XtrWLVm6uIzozmrAfOAgKPaH1OHykDUg6pFB5LZGokoxNGY9xpZNsZ29j2xjZ6XdMLU6yJsm1lmOJMaLRqtohyapEWuRhAWMXBx20NvowiUL3a7wrghrrr8oRVLAYuBj6sO/eWtEgfUC6s4nPgSuDxunMfSou0193zfQKJWNtNvKzCaiZQwku1SIsEsEhLQXPeU1GUxnPX/JFwCY04bMJVW1bL+g/Xs+XrLfhcPuK6xVGRV8HMW2dy3vPn0f7M9mj1WswJZkq3lOJ3+4nrFtfmH4mV1pZy3sfnsa1sGy+PfZlbB9xaf27/vC6hFcx/eD46g47z/nUeOoMO6Zc4yh0k90/GEGlo9H21IVrad2vPqO2jmOmfSVlEGaveXMV5z51H9b5qqguqiUw9vkeXitIqhKARVrG3wZGXpEW+dLxvF1bxHPAnIBq4rK7aBYGnZ7saXLqz7tiRzg1scG7RQecmHW88J6q5K16ZQBnwiFVYzwMcwOMWafm57vwLVmF9FtgM/NMiLTuaOR5FURpwVbmw7bJRtacKoRUYYw9NuJw2J+unrGfz55vxOr3EdYtjwO0DaH9We4rWFzHnH3OY/ffZDH90OF3GdUGj02BONFOeW47P6yMhK+GQMdsKm9PG6I9Hs6l4E8+f9zx3nXFX/bn987pCIkKYe+9cHGUORj4zkqj0KCBQGYzOiCY8JfyE7x/RLoJLki9hZvlM9ozbQ8zHMZRsLiG6YzRl28oISwhrdCVNUYLGjV9aZOqJvl1a5IPAg8IqzgNeEFZxlrRI9/7TDS49+Ke9Ez3XLJr7X0M90BHYbJGWgcDfgOlWYY0HrrVIS3cCz1Z/AQ77yNEqrP+wCuve/a8D/ogURTkhzkonhesL2fXrLmr21WCMMwYeXTVIkJyVTla+sZLpE6azYcoGIlIjOP/F87nk40tIOzsNIQRJfZMY/954zPFmFj2+iLXvr0VKiUarISwpjMrdlRSuL8Tn8QXx056Yalc1Yz8Zy9rCtVjPsXLfWffVn2s4r2vDlA0UrCog609ZZI7OBMBR4cAQaSC2a+xJPW7V6DRccsYlRGmjWN99PVJIVr62Ep1Bh9fppXKv2kpIOf1Ii5wHhAO96g7tBtIbXNKh7tjJnGs2zZ147SIwv2sqgEVa1gN5QA+LtOypOyYt0vIa0NEqrLEHD2CRlpcs0pK6/9Uy+aiinJqcNicFawrY/etuagprMMWZMMYZD5gr5K5xs/qd1UyfMJ1176/DnGhm1HOjuGzaZaSfk35IIhGdEc2EDyYQ0yWGVW+sYsnzS/D7/AiNICwpDHuRnX2r97WpjZ7tbjsXTbuI5fnL+efZ/+TR4QcudCrLLsNR6qBsaxnr3l9HXPc4htwzBAisBJU+SVKfpEMWJJyI6JRoxiWOY4d7ByETQ8hfkU/+8nyMMUbKs8vxONRWQsqpTViFTlhF5wZfDwYSgP1Pyb4A7qg7lwGMAGY0OHebsAqtsIoYAvO6Pmtw7nphFWZhFaHAjcD05v48zZp4WaSlFPiZwIpGrMLaAcgAcq3Cmrj/OquwTgSKLNKiugMqShOTMjDXaN+qfez+dTe1ZbWYE8yHTM52292sfX8t0ydMZ807azDGGjn3yXOZOH0iHc/reNS5WuZ4M+PfGU/K4BQ2f7GZeQ/Mw+v0IoTAnGjGZXOxb8W+NrHfoMPj4OLpF/PL7l+4Z8g9PD3y6QOSzf3zuvx+PwseW0BIeAijnhuFNkSL3+vHWeEksU8iIWEhTRKPRqvhukGByfw7Ru5Ao9ew4vUVaPQapF9i22lrkvsoSmsgrOL1unlgqQRWLuYAWuBDYRWbhFWsB/4LTKpbtQjwAmCsu3Y2cIe0yP17bH0MbAO2AyuBF6RFbgGQFrkQ+BzYCGwB5kiLnNXsn1HK5n12ZxXWjsD7QCzgA6zAHAIT2kIJVMRKgX/UVcSOSqvVSp+v7T22UJSWtj/hqthRQU1RDTqDDkOk4ZAEyuPwsPmLzWyYsgGnzUl4u3D639yfThd0OurcLL/Xj7vGTWhEaP2YPo+PRdZF5M7KJbF3IqNfGo0hKjCx3FHuQKPTkDIwhdDw0Ob74CfB5XVx2eeX8WP2j/xl4F94/cLXD0i63HY3e37bg9ALZt89m+KNxYz+92g6jOgAQE1BDdGdoonvFt+kcfl8PtJfTMcnfby84WU2f7qZUc+NIv2cdBxlDjoM79BkiZ6iNBchhE9Kedr3D232xKupqcRLUY5OSomjzEF5bjm1JbXojDpCI0MPeUTodXrZ8vUW1n+4Hke5A3Oimf4396fL+C7HTLicFU6klBijjdhL7JgTzPXvkX7JildXsOHjDUSlRzH21bGEJwcmmDttTqRf0m5Qu/qErLXw+Dxc/uXlfLv1W/7c98/8b8L/0Ig//hz8Xj/5q/JxVblY/9F6Nk3bRO9re3PG3WcAgc2vQyNDSRmY0ixtHu77/j5eXPMin2R9wq4bdmGKMzHp80m4bC7MSWaS+iQ1+T0VpSmpxCtAJV6KcoqQfkltWS3l2eXUlteiN+kD1aiDEi6f28fWb7ey7oN11JbUYoo30e/GfnS9uOtRV8hJv8RZ7sTvCzRIjcqIQmfQUZZdFugrFW864P2bPt3E0peWYoo1MfblscR2DUzhdFW7Ar2tBqZgijM1zx9GI/n8Pq7++mo++/0zJveazJRLpqDVHPhnUbKlhIrcCkq2ljDvvnkk9k1k3Fvj0Og0uO1ufC4faWeloTfpmyXGjUUb6f1Wb65IuoKr11zNmnfWcPZDZ9Ptkm7Yi+2knZXW6pJZRWlIJV4BKvFSlDZO+iX2Ejvl2eU4KhyEhIUQEh5yaMLl8bH9++2sfW8t9iI7xlgjfW/oS7fLuqELPfK/hVJKnBVOfG4fEakRRHeMPuRRYeXuSoo2FhEaEXpA4rFj3g4WPLoAbYiW8184n3aD2wGBzvjuajdJ/ZLqq2HB4pd+/vzdn5myfgoTu09k+qTp6DQH/nnUFNWQvyIfn9vHt9d/i1av5bJpl2FOMOP3+qktqaXdGe0wx5ubNdZer/Vij20Py85axncTv0Oj03DFN1fgcXgwRBpIGZhyyjStVU49KvEKaJvNdRRFwe/zU1NYw+7fdgeSAq+P8JTwQ6pcfq+fbTO28fnEz/n1mV/xuXyccfcZXPndlfS8qucRky4pJU6bk5rCGowxRtLOTiOpT9Jh52dFpkXSbnA7PLUeXFWu+uMdz+vIha9diBCCWXfNIuenHCCwEXRoZCj7Vu+jcnfwWiJIKbl95u1MWT+FcV3GMW3itEOSrv39unQmHfMfno+n1sO5T52LOcGMlBJ7sZ3YbrHNnnQBXN33aip9lSwsXki/m/pRW1LLpumbMEQZqCmqobZUbaCtKK2dqngpShvj9/kDK+uyy3FVuQiNCD3sxGq/z0/u7FzWvLuGqj1VhEaE0vva3mRdnkWI+egTsV1VLtw1bswJZmI7x2KINhxXJcVZ6aRgdQF+rx9jrLH+eHlOObPunoW9yM7guwbT+9reCCHwuX3UltYSnxVPdMfoFq3WSCm5e9bdvLriVc7veD4zrpqBQXfgo7qG87pWv72arV9vpf8t/Rlw2wAgsPm1Kc5Ecv/kFunQv8u2i/SX07kg+gLeGvAWX1z+Be5qN1d+dyUI0Oq0tB/avs3vFqCcmlTFK0AlXorSRvi9fqoLqwO9m+weQiJCDptASb9kx7wdrHlnDbadNvRmPb2v6U3Pq3oec+Wbu8aNq8qFMcZIbJdYTHGmRidDnloPhesKcdqcmBL+eH9NUQ2z7ppFRW4FPa7swZB7hqDRavB7/diL7cR0iiGua8tsMSSl5IF5D/DCkhcY0WEEP179Iyb9ofPNSraWUJFTQeG6QhY8uoB2g9sx9tWxaLQa3DVu/D4/aUPT0Bla7nvJ8A+Gs3LvSpYOXErlykoWWhbS5/o+DL5zMNX7qkkekExESkSLxaMox0slXgHqUaOitHI+j4/KPZXsXLyTwnWFaHQawpLDDkm6pJTkzc/jq6u+Yv5D87EX2+l3Uz+u+v4q+t/S/6hJl8fhoaagBoB2g9rR/sz2mOPNJ1SB0pv0pAxMwZxkpqagBr/PD0BYYhjj/zee5P7J/D79d+Y/NB+vy/vHFkM55RT/Xlx/fXN6fOHjvLDkBYa2H8rMyTMPm3TVVxVrXPzy9C+Y4k2c+9S5aLQafB4f7ho3yX2TWzTpApjcazJOv5M5JXPIOD+DmE4xbJq+CXuxHUOUgbJtZfi9zf9nqCjKiVEVL0VppXxuH9UF1ZTnlON1eAmNCkVvPHTFnJSS3b/sZvXbqynbVobOoKPHFT3ofW3vY65y8zq9OCuc6Ew64rrGEZYU1mStEPw+P2XbyijPKceUYKrv4u51eVloWUjevDyS+icx+sXRhEaEBhYJFNkJSwkjsVdik3R9P5xnf3mWh+Y/xMCUgcy7dh6RhkM3mt7fr0sKyQ+3/0DlrkoueusikvslI6WkZl8Nib0T6/dlbElltWUk/TuJYXHDeKfjO5RsKWHOPXPodmk3hj08jJqCGhJ6JRDVoeVjU5SjURWvgNP+D0BRWiOf28eepXtw17gxRBkOm0BJKdm7dC+r31pNyeYStKFaek7uSZ/r+2CKPXqbBp/bh6PCgTZES0KvBMJTwps80dFoNcR1j0Nr0FLyewnGGCM6gw5dqI5Rz4xiWfwyNn26iRk3z+CCVy4gLCkMc5IZe6GdQm8hiX0Sj7ra8kT8Z+l/eGj+Q/RO7M3sa2YfNunavw+jX/pZ8d8V2HbYGHznYJL7JQNQW1xLZFokkR0OfW9LiDXFMrbTWH7M/pHi5GLaD2lPYt9Ets3YRq9rehGWGBbYQDsprMn//BRFOXnqUaOitEL2EjvuGnfgm+dBj7KklOSvyOf7m75n1l2zKMsuI+vyLK749grO/MeZR026/F4/9iI7rioXcV3jSB+eTlSHqGarLgkhiOkYQ8rAlPoJ+wBCIzjz/87kjL+fgW2HjRk3zqA8p7x+i6Haslr2rdrXpPsQvrnyTf4x5x9kxWcx79p5xBhjDntdWU5gH8Y9v+wh56cc0oal0fva3kBg8YDerCc+Kz6obRsm95yMX/pZpFmE0+Zk8N8GI32SVW+uQmfQ4ff6qdylNtBWlNZIPWpUlFZGSsmeJXvwe/2HzMsqWFvA6jdXU7CmAKEVdL24K/1u7EdYUthRx2zYbT4mM4bItMgWn5vkqAjsF4kAY/QfKx5zZuWw6PFF6Aw6zn/xfFIGpgSuL3OgCdHQbmC7k94O5/2173PTjJvoFNOJxTcsJjk8+bDX7e/X5ahwMPOWmRhjjVz6yaUYIg14XV5clS7aD22PITK4jUrtbjuJLybSM64nn6R9QmhUKPPun8fuX3ZzyZRLiOkcg7PCSfqI9GZr6KoojaUeNQaoipeitDKuShdOW6Cysl/RhiJ+/OuPzLxlJoXrC+kyoQtXfHMFwx4adtSkS/oljlIHjjIHke0jSR+RTmyX2BZPuiCQbLU/sz26UB32Env98U5jOzH21bFIKfnpzp/InZMbuD7WiPRJ9izbg7PSecL3nbZxGjfPuJn0qHTmXzf/iEnX/n5dGr2GBQ8vQPol5z13HoZIQ/2fY0KvhKAnXQDmEDOXdLuE5QXLscXbcJY7GXTHIBCw8rWVaPVahBCU7yg/9mCKorQolXgpSitTva8ajU6DEIKSzSXMumsWM26cwb5V++h8UWf+9OWfGPHYCMJTjtzxff8G2fZiO+YkM2nD0ojvER/06kdIWAjtBrfDFGOiprAG6Q9U3NsNasf4d8djiDQw/6H5bJy2EQBDlAGNVsPeZXupLWt8c9CvNn/Fdd9cR7uIdsy/bj7tI9sf9rqG87qWPL+Eqr1VDLlnCPE9Aptd24vtRHWMIqJd62nTcHWvqwH4sfJHhFYQmRZJ5ws7k78in/zl+RhiDFTurjygoa2iKMGnHjUqSivic/vIW5CH0+Zk1Rur2LV4FwjIPD+T/rf2P+YqOiklrkoXHoeH8ORwYjrFtIoKzcH8Xj8lW0qw7bQdsMF2dUE1s+6ahS3PRq9renHGXWcgNAK33Y2nxkPygGTCEo/+WHW/LSVbGPDOACINkSy6YRFdYrsc8dr9/bp2LtzJ0n8vpeP5HRn5zEiEEDhtTnQGHe0Gt2u2uXAnwuPzkPJSCnGmOH4d+ytl28qQPsnnEz8nplMMl0y5BEe5A1OsiZQBKcEOV1HUo8Y6quKlKK2IvcSO1+ll1t2z2LV4FxkjM5j46URGPjPymEmXq8pFTUENIWEhpA1NI2VASqtMugA0Og0JPRKI6xqHvdiO1+UFIDw5nPH/G09in0Q2frKRBY8swOf2EWIOCWwxtGoflXuPPWnc5XUx+evJuHwuvvzTl0dNuuzFdspzyqkpqmHZf5cRmRbJsEeGIYTA6/Ti9/pJ7N187S1OlF6r5/Ksy9laupU8fR7aEC3GGCNZk7Io3VJK3s95GGOMVBdUn1C1UFGU5qESL0VpJaSU2PJsFK0vwl5kZ8DtAzjv+fOI6XT41Xf7uWvcVO+rRhuiJXVIKu0Gt8MYYzzqe1oDoRHEdoklqV8SzgonntrACkZDpIELX7+Q9HPTyZ2Ty093/YS7xo3OoMMQbaBwbSHlO8o5WrX+4fkPs65wHY8Me4Sz0s464nVuu5vCdYUgYP7D89HoNIz61yhCzCH4fX4c5Q4Seycedn/K1uDq3oHHjZ9t/YzYzrE4bU763tgXvUnPyjdWIn0SvVFP2fay+se6iqIEl0q8FKWVcFW6cNgcbJ+5HaEVdLu021Gv99QGus0LIWg3+OS6zQdTZGokqWek4qn11E+i1xl0jHpuFFl/yqJgVQHf3/I99hI7ulAdpngTJZtKKM8+fPI1b8c8/r303wxJHcKjIx494n39vrp5XX4/vz3zG/YiO2c9cBaxnWOBwD6MMZ1iCE8+8ly6YDsz9UzSo9L5dNOnmJJM6Iw6dAYdva7pRdXuKrbN2IYhykBtae0BCxoURQkelXgpSitRlV+FvcjOvpX7yBiZccR+XF6nl5qCGnweH0n9kmh/VnvCEsPa9MbIpjgT7c9sjxACR6kDCDRgHXr/UAb9bRDl2eXM+PMMKnZUoNVrMSeaKd1WSsnvJQdsMVRaW8p131xHeEg4Uy+bik5z5OkkZdmBfl3bv9/OniV76DK+C10ndAXAUe7AGGusT8JaKyEEk3tOJr86nyUFS4jrGofL5qLX1b0wRBtY8+4avE4voRGhga2EWmA7JkVRjk4lXorSCnhdXir3VJL3cx4A3Sd2P+Qan9tHTVENHoeHhF4JpA9PJ6JdRJNt8RNsoRGhpA5JJSQiBHuRHSklQgj63tCXEY+PwF5iZ8ZNM/7YrzIpjIq8Coo3FuP3+pFScvOMmymoKeD1C1+nY3THI95r/7yuyt2VrH5rNTGdYjjrgcAjSU+tByQk9kqsn/Tfmk3uNRmAqRumEpYUhj4ssHK13039qC2pZdP0TYSEheCsdFJdUB3MUBVFQSVeitIq2EvseB1esn/IJiojiuQBf/SaOqDbfLc/us23haSgsfTGwAbbYclhB2yw3WVcF8a+PBbpk/z41x/Jm5+H0AjCksOoyq+iYG0Bb694m++2fceVPa/kmt7XHPEe++d1+b1+Fjy2oP6x5v6O765KF0n9kg7ZhLy16pHQgz6Jffhyy5d4pIf4bvG4q9x0v6w7YSlhrP9oPa4qF8YYI6VbS/G51apwRQmmU+9fbkVpY/ZPqs9fkY+rykX3id0RQgQSrmI7jnIHMZ1iSB+RTkzHGLQhrWt1XVPT6rUk9k4kplMM9iI7Pk8gUUgdksq4d8YREh7CvAfm8ftnv9dvMbRx90bumXMPHSI68OZFbx5xntv+eV0+n49fnvoFR5mDYY8MIyo9Cikl9mI7sV1jMcebW/Ijn7TJvSZjc9qYlTMLc4IZQ1Sg0/7A2wbirnaz/qP16Aw6fG7fca0KVRSl+ajES1GCzGlz4qp0kT0zG51BR+eLOtcnXVFpUUHtNh8sGq2GuG5xJPZKxFHqwOsMtJuI6xbHhPcmENE+giUvLGHFaytw+Vzct/s+3H43L2S+gMl35L0qy3PKcZQ62PLlFgpWF5D1pywyR2cCgS2KwpLCiO4Y3SKfsSld2fNKAKZunFq/WtRT46HjmI7EdIph0/RN2IvtGKONlGeXN+kemIqiNI5KvBQlyKryq7DtslG8qZjMMZmEhofitDmJ6RjTKrrNB4sQgqj0KJIHJuOq/GOD7YjUCC5+/2ISeiaw/sP13PXBXWyq2sSdne+kv7E/e5fvPWy3dnuxnbLsMsqyy1j3/jrisuIYcs8QINCSQ6PTkNAzoU3OmUuLTGN4h+F8v/17qlxVmOJNGGONeOweBv1tED6XjzXvrkEbokX6JbadtmCHrCinrbb3L4yinEK8Li9Ve6rYMXcHAN0ndUdKid/jJ7xd621j0JLCk8JJPTMVn8eHozyw4tEQZeCity6iZkINPyT/QIYtgztS7qjvX7Z32d76a+GPeV0+p49F1kWEhIcw6tlRaEO0+Dw+3DVukvomoTe23SR3cs/JOL1OvtnyDUIEql7eWi+pQ1NJ7JvIthnbsO20YYwxYsuz1SeyiqK0LJV4KUoQ2YvtuKpd5M7OJT4rnvju8bir3RhjjYRGts6mncGwf4NtvUGPvTiw4rFKU8XHZ36MwWdg/EfjmX37bGpLazFEGtCGatm7bC/2Evsf87q8PhY9sQhXpYtzHj+HiHYRSCmpLaklrnvcEdt3tBWTsiah1+iZtmkaAMYYI+ZEM65KF4P/Nhjpk6x6axUanQaNVkN5rtpAW1GCQSVeihIk+yfV71myB6/TW99CwmP3EJ0R3eYaoTa3EHMIKYNTMMWZqC6o5r7191HkKuK5/s9x/hXnU7atjO9u/A7bThshYSGERISQvzKfog1FOEodbJy6keKNxfS+tjcdRnQAAk1SI1IjiE5ve/O6DhZrimVsp7HM2zGPwppChBDEdIrB5/SR2DuRtGFp5M3Lo2RzCYYYA1V7q3BUOI49sKIoTer0ma2rKK2Ms8KJs9LJ9u+3ExIeQuaYTLxOLzqDDlNc266+NBddqI7kfslM/3E6s4pmMT5pPJNSJyFuFpjjzfzyzC/MuGkGY/4zhsTeiQghqNpbRcnvJWyatonEvokMumMQENjbUmfUEZ8V36abzzY0uddkvt/+PZ///jl3nXEXxmgj4e3CsZfYGXTHIHb/upuVr63kwjcuRBuqpTynnJSBKSrJV1oNYRWvABOADkAvaZGb6o6/D5wFOIAq4C5pkevqzpmA94BBgB94UFrk13XnNMDLwIWABF6SFvlGg/s9Avy57stp0iKPvN1FE1EVL0UJkqr8Ksq2l2HbYaPLuC7oDDpclS6iMk7NHl1NJduWzWObHiPVlMqjCY/W96XqenFXRv97ND6Xjx/+8gO7Fu0K9Oby+Vn81GIM0QZGPTMKjU6D1+XF6/CS3DcZXeip8/PnhK4TMOvNTNs4rf5YTGYMfq+fqIwoOl/YmfwV+eQvz8cQZaCmsIbaUrWBttKqfAmcDew66Pi3QA9pkX2B54HPG5y7F3BJi+wEjAHeEFaxv4x9DZAFdAEGA/cLq+gGIKxiOHAV0LvumguEVYxphs90APWvu6IEgdfppWpvFblzcoFAp3q/L9B9PSwpLMjRtV5un5vJXwcmkU+7fBpdB3fFWeHEbQ9MFE87O41xb49Db9Iz9765bJq+iZ8f+BlPrYdznzwXc4IZ6Zc4yhwk9EzAEGUI8idqWia9iUu7X8ry/OXklOcAgR0BIttH4qxwMuC2AWj0Gla8tgIkhISHULZNbaCttB7SIhdLi9x7mOMzpEV6675cBnSoq2YBXAG8XnddHrAYuLjBubekRfqkRZYTSNiubHDuQ2mRdmmRLuB9AolYs1KJl6IEQU1xDY4KBzvn7yR5YDJR6VG4qlyEtwtvMx3Tg+HR+Y+ypmAN/zz7nwzrMIyIdhGkDknF5/ThtAU22I7vEc+E9ycQnhLO0heXUra9jP439yd1SCoQmNcVlR5FRPuIYH6UZnN1r6sB+HTjp/XHojOikT6JOcFM1qQsSreUkjc/j9DwUBwVDqoL1VZCSgsIQSOsYm+D1z9OcKS7gR+lRe7ffDSNAytkO+uOncy5ZqMSL0VpYdIfmFS/a9Eu/F4/WZOygEAVLLJ9ZJCja73m583nhSUvcEa7M7CMsNQfN8WaSB2SitCK+sdmke0jmfD+BFIGpZBxXgb9bu4HBJrVhoaHEtct7pSd1zQqYxTxpnimbpyKlIFKVkhYCFHpUTgqHPS9sS96s56Vb6zE7/VjiDIENtD2qg20lWbmxi8tMrXB66XGDiGs4hrgcuC2g041LNse/D/3iZ5rFirxUpQW5qhw4LA52D5zO8ZYI+nnpOO2uzFEGDBGG4MdXqtUVlvGdd9chznEzNTLpqLXHthvKzQilNQzUgmNDK3fYNsYY+SiNy/ivOfOQ6PV4HV68Xv8JPZNRKs/dbdd0mv1XN7jcraVbWNt4dr641HpUQgEIWEh9L6mN1W7q9g2Yxt6kx6P3UNVflUQo1aUYxNWcQVgAc6XFlnc4NRuIL3B1x3qjp3MuWajEi9FaWHV+dWUbCqhZl8N3S7phkanwV3tJqpj1Cmzuq4pSSm5deat5Ffn8+oFr5IZk3nY6/RGPSkDUghPCT9gg20I7NHoKHeQ0DuB0PBTvz/a/seNDSfZ6016ojtG46xw0nNyTwzRBta8swav04shOlD18rq8RxpSUYJKWMXlwFPAedIiD06OvgDuqLsuAxgBzGhw7jZhFVphFTEE5nV91uDc9cIqzMIqQoEbgenN+0lU4qUoLcrjCFQWcn7KQWgE3S7ths/jQ6PTEJagJtUfzntr3+PrLV9zeY/Lub7P9Ue99oANtgvt9Sse7cV2YjJjiEg5Ned1HWxI6hAyojL4dNOn+Py++uORaZEIjUCr19Lvpn7UltayafqmwOpPr5/KXWoDbSW4hFW8LqxiL5AKzBNWkVN3aipgAL4TVrGu7hVbd+4FwFh37WzgjrqJ9AAfA9uA7cBK4AVpkVsApEUuJDDZfiOwBZgjLXJWs3/G/XMA2gqtVit9Pt+xL1SUVsi2y8bOBTv57sbvSDs7jTH/GUNtaS2RaZHEd48Pdnitzvay7fR7ux+xxljW376eaOPxNTqVUlK5u5KijUUIITDGGGk3qN1p1abjkfmP8PQvTzP/uvmcm3Fu/fHyHeWUbi3FGG3k80mf4652c+V3V6Iz6nBWOOkwvINa4KE0CyGET0p56vRvOUGnz79CihJk0i+pyKsgb34eSMialBXYl9HrJ6Ld6VGJaQy3z83krybj8Dj4+NKPjzvpgroNtjtEkTo4ldCIUBJ7J55WSRcEmqkCTN049YDjkamRaPWBzbIH3j4Qd7Wb9R+tR6vXIoSgIq8iGOEqymnj9PqXSFGCyFHhwFnhJPvHbMLbBTZ+dlW5MMWZCI049ecdNdZjCx5jdcFq/nn2PxmRPuKExjAnmEk7O+20rOBkxWfRN6kvX27+EpfXVX9cG6IltkssTpuTzDGZxHSKYdP0TdiL7RhiDFTursRV5TrKyIqinAyVeClKC6ncU0nB6gIcZQ66XdoNoRF4HV6iM9r+PoFNbUHeAp7/7XkGpQzi8XMeP6mxTtW2Ecdjcs/JVLoq+SnnpwOOh6eEozPq8Ll9DPrbIHwuH2veXYNGq0Gj01CWXUZbm4aiKG2FSrwUpQV4HB5q9tWQ81MOGr2Grhd3DezLaNRhjFUtJBoqd5Rz7TfXYtKbmDZx2iGtI5Tjd2XPKxGIQx43avWBqpfL5qL9We1J7JvIthnbsO20YYwxUr2vGke52kBbUZqDSrwUpQXYi+xU7q6kYE0BGaMyMEYbcVW6iM6IRqNV/xvuJ6Xk1u//aB3RKaZTsENq09pHtmd4h+F8v+17qlwH9ukKTw5HH6bHU+vhjDvPQPokq95chRACvVlP2Xa1lZCiNAf1L76iNLP9k+p3/LwDCEyq9/v8IFD7Mh7kg3Uf8NWWr/hT1p+4oe8NwQ7nlDC512RcPhdfb/n6gOMarYb4bvG4Kl0k9kmkw/AO5P2cR8nvJRgiDdSW1mIvsQcpakU5danES1GamaPcgaPMQe6sXKIzo0nsk4jT5iSiXQR6o3qMtl92WTZ3/XQXqRGpvD3u7dN6blZTmpQ1Cb1Gf0Az1f3MCWaMUUZc1S4G/nUgCFjx+gogsBtA6dbSAxrRKopy8lTipSjNrHJ3JXuW7sFd46b7xO4IIfC7/USkHrmFxLK9y1hbsPaI5081bp+byV9PptZTyyeXftKo1hHK0cUYY7ig8wX8nPczhTWFB5wTGkFs11jc1W5iOsXQ+aLO7Fuxj/zl+YSEheCqclFdoDbQVpSmpBIvRWlGnloPNYU15PyYg86oo/OFnXHXuDFEGTBEGw65Prssm0s/u5Qz3zuTAe8M4P9m/x8Oz6k/yfnxhY+zat8qHjz7wRNuHaEc2eSek/FLP59t+uyQc6Z4E6Y4E85KJwNuG4BGr2HFayuQ/sB+l6VbS+t3AFAU5eSpxEtRmlFNUQ1l2WWUbi2l09hOhISF4K5xE5URdcCjtHJHOffMuoesN7L4duu3XNb9Mga3G8xLy16i79t9WbpnaRA/RfNauHMhz/36HANTBp506wjl8MZ3HU9YSBjTNh36uFEIQWyXWLy1XsKSwsialEXpllLy5uehMwRaTlTuUVsJKUpTUYmXojQTv8+PLc/Gjrl/TKr3uQP7MpoTzEDgEdvLy16m0yud+O/y/9IvqR+//PkXvrr8K3698Vf+dd6/2GXbxdkfnM19c+475apfB7SOuGwaIdrTr9FpSzDpTVza7VJW5K8guyz7kPPGGCPmRDOuShd9b+yL3qxn5Rsr8Xv9GKONlOeU43F4ghC5opx6VOKlKM3EUe6gpriGHfN2kNArgdiugW7h0RnRaHQavt36LT3e6MHfZ/8dc4iZTy79hGU3L+PstLMB0Gl03H/W/ay5bQ0Dkgfw4tIX6f9Of5btXRbkT9Y0pJTcNvM29lbt5ZULXqFzbOdgh3RKu7rX1QB8uunTQ84JIYjpFIPX4cUQaaD3Nb2p2l3Ftu+2oQ0JbC9k22lr4YgV5dTU7JtkW4U1FPg3MAZwA2st0nKNVVgTgClAJuACbrdIy6/HGk9tkq20FQVrCljz3hpWvbGKEY+PoPOFnbGX2CnvUs6Dvz7Iol2LCAsJ48GzHuSeM+/BpDcdcSyv38uLS17EstCC1+/l3jPvxXquFYPu0HlibcUHaz/gxhk3MrH7RL740xdqFWMz8/q9pPw7hWhjNFvv2HrYP++CtQXYS+zoDDo+u+QzNFoNV3x7BRqdBkeZgw4j1AbayolTm2QHtETF6znAD3SxSEsP4L4Gx5dZpKUz8GdgqlVYT/v/IMqpwW13U11QTfaP2YRGhtLx/I7sKtnFIwWPMHTqUH7Z/Qu39L+F7DuzeXj4w0dNuiBQ/Xrw7AdZc+sa+if35/klz9P/7f6syF/RQp+oaWWXZXPnT3eSGpHKO+PfUUlXC9BpdFzR4wq2l21nTcGaw14T3TEav8ePzqCj3039qC2tZdP0TWh0GoRGULlTzfVSlJPVrImXVVjNBJKqhyzSIgEs0lJQd/py4PW6YyuBIuDs5oxHUVpKTVENxRuKqdxZSdqENF7e+TKjVo3ii71fMKrjKNbetpZ3xr9DUlhSo8btkdCDpTct5emRT5NTnsOZ753JP+f984BNkFs7j8/D1V9fTa2nlimXTCHGGBPskE4bV/cOPG48XE8vAEOkgci0SFwVLrpP7E5YShjrP1qPq8qFIdqAbZcNt93dkiEryimnuStemUAZ8IhVWFdZhfUXq7COsgprLKCxSEtJg2t3AmnNHI+iNDu/z49tp43sudms7buWv3f9Oy9lv0SqMZXvr/yeOdfMoXdi7xMeX6fR8dCwh1hz2xr6JfXjud+eo/87/VmZv7IJP0XzeXzh46zct5L7z7qfczPODXY4p5Uz2p1Bx+iOfLrpU3z+w0/ZiM6Ixu/zI4Rg4O0DcVe7Wffhuj+qXrtU1UtRTkZzJ156oCOw2SItA4G/AdMBHXDw5LLDPmuwCus/rMK6d//rkHcpSivjKHcwP3s+D3V9iO8u+Q6fxoelg4Wlk5Yyruu4Jnus1jOhJ0tvWspT5z5Fdlk2Z753Jg/9/FCrrn4t2rmIZ399lgHJA3ji3CeCHc5pRwjB5J6TKagpYNGuRYe9JiQshKj0KBzlDjqN7URM5xh+/+x37MX2QNVrp6p6KcrJaO7EaxeB+V1TASzSsh7IA7oDWIU1vsG1HYDdBw9gkZaXLNKSuv91+PRMUVqHbaXbuOyry7il8BZK4kqYrJvML8N+4erEq4lKjmry++m1eh4e/jCrbl1F78TegaTmnQGs2reqye91siocFVz7zbUY9UamTVStI4Jlcq/JAEzdMPWI10SlRwGBfUYH3TEIn8vHmnfXoNFpQKCqXopyEpo18bJISynwM4EVjViFtQOQAWwDvgDuqDs+CEgCjrmqUVFao7LaMu7+6W56vtmTOUVz6JPTh/um3ce/zvsXIfYQItpHoDM039qR3om9WX7zcp445wm2l21nyP+G8Mj8R1pN9UtKye0/3M6eqj28MvYVusR2CXZIp63u8d3pl9SPr7Z8hdPrPOw1epOemMwYHGUO2p/VnsS+iWybsY2q/CqMMUZV9VKUk9ASqxpvB+63CutG4Dvg1roJ9g8AQ63Cmg18CFxrkRZvC8SjKE3G7XPz0tKX6PRqJ15Z8Qp9Yvrwiv8VLv3kUoaOGorQCvxeP5Gpkc0ei16r59ERj7Lq1lX0SuzF0788zcB3Bx5xBVtL+mj9R3z+++dc1v0ybux3Y7DDOe1N7jWZSlclP2X/dMRrItMiA39/PX4G3DYA6ZOsfW/tH1Wv3arqpSgnotn7eDU11cdLaQ2klHyz9Rvun3s/uRW5pEWm8ezIZzmj+AwWPLqAfSv3cdX3V6Ez6tCF6Eg9M7VFWyZ4fB6e/fVZnlz8JFJK/nn2P3l0xKNBebyXU55Dv7f7ERkayYa/bFCrGFuBvVV7SftPGpd1v4wvL//yiNeV55ZTuq0Uc4KZmbfNpGh9EZd/dTlhSWE4yh2kj0hHb9K3YORKW6b6eAWozvWK0kir9q1ixIcjmPj5RIrtxTw76lm23rGVi5MupnJXJfnL8+kwvAPmBDMeu+eQfRlbgl6r57ERj7HylpX0TOjJU788xcB3Wr76tb91hN1t5+NLP1ZJVyuRGpHKiPQRzNw+k0rnkStXke0j0eq1+Fw+Btx6UNULsO2ytVDEinLqUImXohynPZV7uO6b6xj07iB+2/Mbtw24jew7s3nw7Acx6o3YdtXtyyih+8TueF1etCFazPHmoMXcN6kvK25ZgWWEhS2lWzjjf2dgWWDB7WuZ+TnWRVZW5K/gvqH3qdYRrczknpNx+Vx8veXrI16jDdES2yWw1VXKwBSSByST/WM2lXsq6+d6eWrVHo6K0hgq8VKUY6hx1/DYgsfo+lpXPt7wMWMyx7D+9vW8Ne4tEsMSAXDXuKneV03u7Fwi2kfQbnA7XJUuotKj6qsDwRKiDeHxcx5nxc0ryIrP4onFTzD43cGsK1zXrPddvGsxz/zyDAOSB/DkyCeb9V5K403KmoReo2fapsM3U90vPCUcnVGHx+H5Y67X//6Y62XbbWuZgBXlFKESL0U5Ap/fx3tr3qPzq515cvGTdIzuyE9X/8Ssa2bRM6HnAddWF1Sz57c9OG1Oul/WPXBQBr5ptRb9kvux8paVPDr8UTYVb2LQu4OwLrTi8TV9xcLmtNW3jph62VTVOqIVijZGc2HnC5mfN5+C6oIjXqfVB6peLpuL5P7JpAxKIeenHGy7bBijjdjyVNVLURpDJV6Kchjzdsyj/zv9ufn7m/H5fbx10Vusu30dYzuNPeRavzfQqT53di7aEC1dxnfBWekkLCms1W0oHKIN4Ylzn2DFLSvoHtedxxc9zuD/DWZ94fomu4eUkttn3s7uyt38d8x/6RrXtcnGVprW5F6T8Us/n/3+2VGvC08ORx+mx213B6pe/gZVL1TVS2k6wipeEVaxU1iFFFbRs8Hxh4RVbBNW4RdWMe6g95iEVXwqrCJHWMV2YRWXNTinEVbxqrCK3Lrzfz3ovY/UncsVVtEipXmVeClKA1tLtzL+0/Gc//H5bCvdxoNnPUjOXTncNvA2dJrDL8apLauldFspRRuKyDgvA0OUAZ/TR2Ra87eQOFH9k/uz6tZVPDLsETYWbWTQu4N4ctGTTVL9mrJ+Cp/9/hmXdruUm/vf3ATRKs1lfJfxhIWEHXHvxv00Wk2g6lXlIqlvEu0GtyN3di62nbbAXC9V9VKazpcE9m3eddDxn4ELgcWHec+9gEtaZCcCfUPfEFYRXXfuGiAL6AIMBu4XVtENQFjFcOAqoHfdNRcIqxhzrACFVZwhrGKysIrr9r8a8wFV4qUoQGltKX/78W/0fKMnM7fP5KqeV7H1b1t59rxniQiNOOp7bbts5M3LAyBrUhaeWg8h4SEYY4wtEfoJC9GG8OTIJ1l28zK6xHbhsYWPMeS9IWws2njCY+aW5/K3n/5GSngK745/t8VXcyqNY9Qbuaz7Zazct5LssuyjXhuWGEZoeCjumj+qXmv+t0ZVvZQmJS1ysbTIvYc5vlxaZO4R3nYF8HrddXkEkrOLG5x7S1qkT1pkOfA5cGWDcx9Ki7RLi3QB7xNIxI5IWMWbwKfAJGB83Wvc0d5zMJV4Kac1l9fFi0tepNMrnXh95esMbjeYpTctZdrEaaRHpR/7/dUuKvdUsmPeDmK6xJDQKwFXlYvojtEITdtIOgamDGT1rat56OyHWF+4ngHvDOCpxU81uvrVsHXElEumEGuKbaaIlaZ0da+rAY6r6hXXNQ5XlYvEPom0GxKoelXkVWCMMVK5sxKPQ1W9lKBI48AK2c66Yydz7kjOA7KkRV4mLfJPda/LGxOsSryU05KUki83f0n317tz39z7iDZG89mkz/jtxt8YkjrkuMepKaxh96LdeOwesiZmIX0SoRWYE4LXQuJEhOpCeXrU0yy7eRmdYzvz6IJHOfO9M9lUvOm4x3hi0RMsz1/OvUPvZVTHUc0YrdKURmaMJMGcwLRN0zhWQ21zghlDlKG+6oWEte8G5npJKVVfL+XoQtAIq9jb4PWPJhy94V/eg3/qPdFzh1MgLfLwe20dp9O+g6xy+llbsJY7f7qT3/b8RkRoBP8671/cdcZdGHSGRo3j9/qpyKsgZ1YOerOeThd0wmlzEpUWhS60bf6vNTBlIGtuXYN1kZV//fYvBrwzAMsIC/efdf8R57gB/LLrF5759Rn6J/fnqZFPtWDEysnSaXRc0eMKXl3xKqsLVjMwZeARrxUaQWyXWPJX5JPYK5HUoankzs2l7019ieoQReXOSqI6RKE3qm72ymG48UuLTG2GkXcD6UBJ3dcdgB8POreywbndB53jMOcOIKziwrrfLhFW8TkwHahPwKRF/ni49x2Oqngpp5VV+1Yx7INhLNu7jL8O/Cs5d+Zw/1n3NzrpgsCk+uINxZRnl9P5ws7ojDr8Xj/h7VpPC4kTEaoL5ZlRz7D0pqVkRmfy8PyHOfO9M/m9+PfDXm9z2rjmm2sI1Yaq1hFt1PE+bgQwx5sxRhtxVbsYcGtd1et/f1S9qvZUNXe4h9hcsplbv7+Vd1e/2+L3VlqFL4A7AIRVZAAjgBkNzt0mrEIrrCKGwLyuzxqcu15YhVlYRShwI4GE6nDuq3udAcQDdzY4dm9jglV7NSqnjZzyHIa+N5RqdzVzrpnDsA7DTmq8vcv3suCxBeyYs4OJ0ydiTjCjN+pJHdIcP9AFh9Pr5PGFj/PCkhfQaXQ8PuJx7jvrvvrql5SSyV9PZvqm6bw97m1uHXBrkCNWToSUks6vdqbWU8uee/ag1WiPer292M7e5XsJTwln1t2z2LNkDxM/nUhkh0hcNhcdRnRokarX+sL1PPXLU3y1+SskkjhTHEX3FqERqqbQGh3PXo3CKl4nMDE+CSgFaqRFdhJW8U8CyVU8UE2g2tRPWmSJsAozgYnxAwA/8JC0yC/rxtMCrwD7ewH9R1rkaw3u9xhwQ92X06VFPtQkH/YoVOKlnBaKaooY+v5Qdtp28vXlX3Nxt4uP/aajcFW72D5zO9/d8B1x3eOY8N4EqguqaTeoHWGJYU0UdeuxfO9ybvjuBraWbmVQyiA+vORDsuKz+Hj9x1z37XVc0u0Svr78a7WKsQ17bMFjPLn4SeZdO++Yc/SkX7Jn6R58bh+Vuyv57obvyBiVwXn/Og97kZ2YTjHEdmm+xRWr9q3iycVPMmNboKgxrss4jDojX2z+glW3rGJAyoBmu7dy4k6FTbKFVayQFjn4WMeORv1YoJzyql3VXDjtQnZU7ODNi9486aQLoKaghp3zd+Jz+8ialIXX6UVv1GOKNTVBxK3PGalnsPa2tdw39D5WF6ym/9v9efjnh7njxztIDktWrSNOAZN7TQZg6sapx7x2/1wvd42b+B7xtD+7PXk/51GWXYYhxkDFjopmWeG4dM9SLpx6IYPeHcSMbTO4rPtlrLl1Dd9f9T1/GfgXAObkzmny+ypKAwckjnUVtUb9tK0SL+WU5va5mfj5RNYUrOHxEY83yaMwn8dHxY4KcmbnYIgykDEqI7AvY0bw92VsTgadgefPf57fbvyN9Kh0nvn1Gard1Uy5dApxprhgh6ecpG5x3eif3J+vtnyF03vsRVumOBOmOBOuqrq5XgRWOGr1WqS/aed6Ldq5iPOmnMfQ94cyK2cWV/S4gg23b+Cry7+iX3I/AIa2H4pJb2J27uwmu6+i7Ces4j5hFSVAT2EVxftfQCXwS2PGOnW/SyinPb/0c+N3NzJ3x1xu7X8rj414rEnGdZQ52Ld6H1V7qugyoQtCG6j0hCe17Un1x2tI6hDW3raWJ855grfHvc15Hc8LdkhKE5ncczJVrip+zD72Ai0hBLGdY/HUeojrHkfasDTy5udRtr2u6pV3clUvKSVzc+cy/IPhnPPROSzcuZBre1/L5js2M33SdHol9jrg+lBdKOemn8uSPUuodlWf8H0V5QjeAQYR6KA/qMGrvbTI2xozkJrjpZyy7ptzHy8ufZGLu17Ml5d/edR2CI2xd9le5t4/l92/7uaKb65Ab9JjijeR3De5ScZXlGDJr8qn/X/ac2n3S/nq8q+Oeb2UkvwV+bhr3NQU1vDNNd+Qfm46579w/gnP9ZJS8lPOT/V94XQaHdf3uZ5/nv1PMmMyj/reV5a/wt2z7mbGlTMY33V8o+6rNL9TYY5XUzjt/wCUU9NLS1/ixaUvclb7s/h04qdNlnS5qlyUbitlz5I9pJ6ZSkRqBDWFNUSlRTXJ+IoSTO0i2nFO+jn8sP0HbE4bUYaoo14vhCCmUwx7l+4ltmssHUZ0YOeCnZRtKyOqYxTlO8qJTItEZzj2/39+6WfGthk8tfgpVhesJkQbwl8G/oUHznqADlEdjiv+0ZmjgcA8L5V4Kc1BWEV/4BmgI4EcSgBSWmTH4x1DPWpUTjmfbvyU/5vzf2TFZzHjqhkY9U23Z2LVvip2zNuB9EmyJmbhrnETGhGKIbrxfcAUpTWa3GsyLp+Lr7d8fVzXG2OMmBPMuCr/mOu1+p3VaPVa8EPlnsqjvt/n9/H575/T962+XPrZpfxe8jt3Db6LHXft4I2L3jjupAuga2xX0iLTmLNDTbBXms1HwDf8sVfjuLpfj5uqeCmnlHk75nH9t9fTLrwds66eRYwxpsnG3j+pPnd2LuZEM+3Pak9taS2JfRLVij7llDGx+0Tu+PEOpm2cxo39bjzm9furXruX7CamSwzp56azc8FOSreWEp0ZTXluOZHtD616ef1ePtv0GU/98hRbS7di0pu498x7+b+h/0dSWNIJxS6EYHTH0fxv7f/Yadt5XPutKkoj+aRFvn0yA6iKl3LKWFuwlks/uxRziJnZ18ymfWT7Jh2/trSWPb/tobaklm6XdkNKiUanISzh1OvbpZy+oo3RXNj5QubnzaeguuC43mOINhCWGIbT5qT/rf0BWP12oOolffKAqpfH5+GDtR/Q/fXuXPPNNeRX5fPQ2Q+x6++7eGH0CyecdO03ptMYQLWVUJrNb8Iq+p3MACrxUk4JOyp2cMHUC/D4PMy4cgY9Eno06fhSSmx5NnLn5CK0gm6XdMNlcxHZIRJtyNG7fCtKWzO552QkkumbjrR7yoH2V718Lh8xmTFkjMxg9y+7KdlcgjHWSHluOfYaO2+vepsur3Xhxhk3UlpbimWEhV1/38XTo55uspYkIzNGohEa1VZCaS5DgWXCKjYIq1ix/9WYAdSjRqXNK7YXM+aTMZTUlvDln7486a2ADsdV5aJ4UzEFqwrIGJWBMcaIvdhORLuIJr+XogTbuC7jCA8JZ9qmadxz5j3H9R5jtJGwpDAc5Q7639qfvPl5rH5nNSP+PYIpBVN4/8332Ve7j1hjLE+PfJo7Bt1BpCGyyWOPMcYwKGUQP+/4Ga/f22QLaxSlzt9PdgD1N1Jp02rcNYybNo6c8hzevOhNLu1+abPcp7qgmtw5uQB0n9QdV5ULc4KZ0PDQZrmfogSTUW/ksu6X8dH6j9hetp0usV2O630xmTHsLtxNdMdoUkan8Fn1Zzww5wFKfaXE6eP41zn/4q9n/pWwkOZ9PD8mcwzL85ezMn8lZ7Y/s1nvpZxepEUuAhBWkUhgNWNxY8dQjxqVNsvj8/CnL/7Eyn0reXT4o9w+8PZmuY/P7aM8u5wd83YQ2SGSlIEpeB1eojpENcv9FKU1uLrX1QBM2zjtuN9jiDIgEgT/3fRfHhj2AHPGzMFr9/JEjyeY33s+N7W7qdmTLvijrYR63Kg0NWEV3YVVbAS2AtvqHjl2a8wYKvFS2iQpJTd/fzOzcmZxU7+bsJ5jbbZ72Uvs7Fy4E1eli+4Tu+Nz+dCb9Bhjm65NhaK0NudmnEuiOZFpG6dxPI22bU4bTyx6gjN+PoMXd7+ISW/i+tzruePFOxhXM46o2CgqcivwOr3NHvsZqWcQERqhJtgrzeEN4FlpkdHSIqMJ9PR6szEDqMRLaZMe+vkhpqyfwrgu43hr3FvN1s5BSoltp43c2bloQ7V0GdcFV6WL6I7RaLTqfx/l1KXT6LiixxVkl2ezat+qI15XVlvGo/MfpcN/O2BZaCHaFM2/+/6bOb3ncN/4+9D79Kx5Zw3akMAKx6r8ptvD8Wixj8oYxfL85VQ4Kpr9fsppJVpaZH0ZWFrkdCCqMQOo7xxKm/PK8ld47rfnGJI6hM8mfdask2ddlS4K1hRQ8nsJmaMz0Zv0IMCcaG62eypKa3F17yM/biy2F/PA3AdIfzmdp355iqSwJKZcMoVtf9vGHefegU7qiOwQSeboTPYu3UvRhiIM0QbKc8rxupq/6jU6czR+6Wd+3vxmv5dyWvEJq8ja/4Wwiq6AvzEDqMRLaVM+2/QZf5/1d7rGdmXmVTMx6U3Ner/qfdXkzMoBoPvE7jhtTiJSI9Ab9c16X0VpDQalDCIzOpPpv0/H5w/skbuveh/3zLqH9P+m8/yS5+kQ2YFPJ37K5r9u5to+16LT6AiNCCUyNRJXhYv+t/RHaESgr9f+qtfe5q96jckM9PNS87yUJvYwsEhYxRxhFbOBxcA/GzOAWtWotBnz8+Zz3bfXkRSWxOxrZhNratzmu43lc/so3VrKzgU7iesWR1xWHPYiOxGpqoWEcnoQQnB1r6t5YvETTFk/hdUFq/nfmv/h8rnom9SXR4c/yiXdLkEjDv0ZPiojiqq9VUS0jyBzTCY5P+VQuK6Q+Kx4ynPKiUiNQBfafN+CMqIz6BTTiTm5c5BSqt0llCYhLXKWsIoewGAC+zQulRZZ2pgxVMVLaRPWFa7jkumXYNAZmHXNrEbt33ai7CV2dszbgdfhpfuk7nhrvRijjBii1L6Myuljcq/JANw440ZeX/k6fZL68P1V37Pm1jVc1v2ywyZdAKHhoUSkReCscNLv5n6Bqtc7LV/12lW5i+zy7Ga/l3L6kBZZLC1yprTI7xubdIGqeCltwE7bTi6YegEun4vZ18ymd2LvZr+nlJKKHRXkzMohJCyEzDGZOG1OUgakqJ+cldNK17iuTO41mYLqAh48+0HO73j+cf8/EJ0eTdXuKiLaRZA5NpOcH3MoWFtAQo+EFql6jc4czesrX2d2zuzj7kWmKIcjrOJI/boEgX5eCcc7lqp4Ka1aaW0pYz4ZQ1FNEVMvm8o56ee0yH1dlS72LN2DLc9G54s6o9Fq0IXoMMU175wyRWmNpl42lfnXz2d05uhG/eAREhZCVIconBVO+t/cH6Ft2ble56Sfg06jY84O1VZCOWl2YCfwKDAEGFT3Glj363FTiZfSatnddsZNG8f2su28csErTMqa1GL3rsqvIndWXaf6ukn1UelRaPVqX0ZFaYzI9EikXxKeEk6nCzpRsKqAgtUFLbLCMSI0gqHth7IgbwFun7vZ7qOc+qRFZhCYRD8c+Am4GdBKi9wlLXJXY8ZSiZfSKnl8Hi7/8nKW5y/nobMf4m+D/9Zi9/a6vBRtLGL3r7tJ7p9MVHoUSAhPCW+xGBTlVBFiDiEqPSqwh+Phql7N3NdrdMfR2D12luxZ0qz3UU590iJ/lhZ5NYGJ9QXAEmEVNzd2HJV4Ka2OlJLbZt7Gj9k/ckPfG3hq5FMten97iZ3c2bn4Pf4D9mUMCQtp0TgU5VQRlR4FQFhSGJ0v7EzBmgL2rdpHaFQo5dnNW/Ua0ynQVkJ1sVeaQt0ejbcBdwBrgTWNHUMlXkqr8+iCR/lg3Qdc2PlC3hn3TotOZpdSUpFbQe6cXIwxRtLPTcdT66n/xqEoSuPpTXqiMgJVr3439QtUvepWOPp9/matevVL6kesMVb181JOirCKCcIqvgMWEFiYOFpa5AXSIlXipbRtr694nad/eZrB7Qbz+aTP0WtbtlGp0+Zk56Kd1OyroevFXfF7/ISEh2CMUfsyKsrJiOoQhRACc6KZzhd1pnBNIftW7cMQZaA8uxyf29cs99VqtJyfeT5rCtZQYi9plnsop4VvgWTgRwJbBN0trOL5/a/GDKQSL6XV+HLzl9z50510ie3CD5N/wBzS8tvyVOVXkftTLgjodmk3XNUuojOiERrVQkJRTobeqCe6YzTOcucfVa+3/6h6Ve6tbLZ7j+44GoC5O+Y22z2UU94TwA9ANYEVjge/jpvq46W0Cot2LuLqr68mMSyRWVfPIs4U1+IxeF1eCtYUkL8in/ZntcecYMZR4SAsKazFY1GUU1FE+wgq8iowx5jpMr4L277dxr4V+0jsm0hFTgWRqZFoQ5p+5fD5mecDgXle+xvCKq2TsIpXgAlAB6CXtMhNdccTgClAJuACbpcW+WvdORPwHoG2Dn7gQWmRX9ed0wAvAxcCEnhJWuQbDe73CPDnui+nSYt89HBxSYt8vKk+o6p4KUG3sWgjF0+/mFBtKD9d/RMZ0RlBicNebCfnxxykX5I1KSvQQqJ9VLM2eFSU08kBVa8bD6x6+by+ZpvrlRqRSo/4HvXbBymt2pfA2cDBLRqeA5ZJi+xMIFGaKqxi/z/O9wIuaZGdgDHAG8IqouvOXQNkAV0IrEa8X1hFNwBhFcOBq4DedddcIKxiTLN9sjoq8VKCanflbsZOHUutp5Zvr/yWvkl9gxKHlJLynHJ2zN1BWHIY7Ya0w+/xE95OtZBQlKYU2T4SoRWY4kx0ndCVog1F5C/Pb/a5XqMzR1NQU8Cm4k3NMr7SNKRFLpYWufcwpy4HXq+7ZiVQRCBBA7iiwbk8AhtXX9zg3FvSIn3SIsuBz4ErG5z7UFqkXVqkC3ifQCLWrFTipQRNWW0ZYz4Zw77qfXx86ceMzBgZtFicFU5y5+TiKHfQ/bK6fRljjYRGhgYtJkU5FekMOmI6xQT2cLypHxqd5oCqV/W+6ma575hM1VairRJWEQtopEU2XB2xE0ir+30aB1bImuJcs1GJlxIUtZ5axn86nq2lW/nvmP9yRc8rghpPVX4VObNy0Og0dL24Kx67JzCpXu3LqChNLiI1AqEVGKINdL24K8Ubi9m7dC+GKANl28uapeo1rMMwQrWhqq1EMIWgEVaxt8HrH41498HPiA/+x1k2w7kDb2gVWmEVJ71Co1GJlxCinRDiSiHEFUKIdid7c+X05PV7ufLLK1m6dyn3D72fu4fcHdx4nF72LttL0boiMkZmoDfp0YZq1b6MitJMdKE6YjrH4LQ56fvnvmj0Dapenuapepn0JoZ1GMbiXYtxeBxNPr5yHNz4pUWmNni9dDxvkxZZBiCsIr7B4Q7A7rrf7wbSm/jc4eLwAUJYxUmtADnuxEsIcSWwjsBz1iuBtUKIy0/m5srpR0rJX2b+he+3f8+1va/l2fOeDXZI2EvsZP+QDQT2ZXRVuojuGI1GpwrCitJcIlMj0eq1GKINdLukGyW/l7Dntz2Bqld281S9xmSOweVz8cvuX5p8bKXZfUGgWzzCKgYBScCvhzmXAYwAZjQ4d1tdtSqGwLyuzxqcu15YhVlYRShwIzD9GHEsA74VVnG5sIoL978a80Eas1zrcWCwlDIPQAiRDswiMFHtiKzCuhNw1r0AnrVIy2dWYV1I4Fnq/mUsH1mk5T+NiEdpgx5f+Dj/W/s/xmSO4b0J76ERwU1upF9SuqWUvJ/ziOoYRUKfBBylqoWEojQ3bYiW2M6xFP9eTJ8b+rD1262sfmc17c9qj9PmpHpfdZPvGDE6czT3zb2P2TmzGZ05uknHVpqGsIrXCUyMTwLmCauoqVut+ADwsbCKbMANXCstcv9eUy8A7wuryCHQTuKOuon0AB8TaDOxff+10iK3AEiLXCis4nNgY9256dIiZx0jxLPqfv1Lg2OSQGPV4/uMx7u0Vgjxq5Ty7GMdO1hd4jXOIi2bDjq+EHjRIi0zjzdYAK1WK32+5ln1ojSvt1a9xV9++AsDUway4PoFhIUEP7lxlDtY+MRCVry8gjPvPZPMMZmY4kwk900OdmiKcsrzuX3sXLwTvVHP8leWs/nzzYz+z2jaDWqHx+EhfXh6k/b1klKS8lIKcaY4Nv5l47HfoDQpIYRPSnna9+dpTLlhrhDiESFEkhAiWQjxMPCtEMIkhFCTYZSj+mbLN9zx4x10iunED5N/aBVJF0DV3ipyZ+WiM+joMq4LXqeXyPaRwQ5LUU4L+6te++d6aUO0rHlnDdpQLT6Xj+qCpp3rJYRgdOZoNhVvIr8qv0nHVk4PdY8s7xZW8Wrd15nCKhq1JL8xmael7tcnDjr+PIEy29F+LJlqFVYNsBz4p0Va9i8JfcEqrM8Cm+uO7zj4jVZh/Qfwx8oHtciszfl1969c9dVVxJnimH3NbBLMCcEOCQCPw8POhTsp21ZG10u6ggBDhAFjtNqXUVFaSnhKOOU55egMOrpd1o3fp//O7sW7aXdGO8qyywhPCUerb7qq1+iOo5myfgpzd8zlhr43NNm4ymnjVUDPHz3EygjMCxt0vAMcd8VLSqk5yuto/1cMt0hLH6B/XYAf1R2/1iIt3Ql0jP0FOOwjR4u0vGSRltT9L5V4tS2/F//O+E/Ho9fq+enqn+gY3THYIdWzF9vJ/jEwqT5rUhbuajdRHaPUvoyK0oK0ei2xXWJxVjjpe0NftKFaVr+z+o+qVxOvcGy4fZCinICh0iJvoW7eurRIGxDSmAFOpp1EyvG8xyItu+t+9QD/BYbVfb2n7ldpkZbXgI5WYY1tTDxK67ancg9jp47F7rbz9eVf0z+5f7BDqif9kqKNRexatIv4HvFEZwZWMYYltI5HoIpyOglPDkdn0qE36+l+WXfKtpWxa9GuP1Y4eppuXm+COYF+Sf2Yu2MufulvsnGV04az4Rd1rSUalUudSDuJKwi0k1h3rHYSVmE1W4U1qsGhq4C1VmHVWYU1scF1E4Eii7SUNSJ2pRWrcFQwdupY9lbt5cNLPqz/KbO1cFQ4yP4+G6/TS9akLFyVLiLTmmeDXkVRjk6j0wSqXjYnfa7v80fVK6R5ql5jMsdQWlvK2oK1TTquclrYIKziagL9vNKBNwhsUXTcmrudRCLwlVVYtQRmZ+0ArgNCgR+swhpKYOlnKYHdyJVTgMPjYML0CWwu2cy/R/+byb0mBzukQ9h228iZlUNIeAgZ52XgqnQR0S4i2GEpymkrPCmccnM5Gp2GrElZbJy6kZ0Ld9J+aPsmn+s1OnM0z/32HLNzZzMgZUCTjKmcNv4B/BtIJjBvfQZwf2MGaEziVbo/6QKQUu4UQpQe7Q11k+X7HeH0wEbcW2kjfH4fk7+ezK+7f+X/zvw//nFmY3aEaBluu5sds3dQubuSnlf1xOf2YYozERqh9mVUlGDZX/UqXFtI7+t6s/nLzax5Zw3p56T/0derQ1ST3Gto+6GY9Cbm5M7hoWEPNcmYyqlPWEVPoAvwvLTI2050HNVOQmlSf5/1d77d+i2Te03m+fOfD3Y4h1WRV0HOrBwg0Kne6/ASnREd5KgURQlLCkMfpkdn0NHj8h6U55STNz8PQ5SB8pzyJpvrFaoL5dz0c1myZwnVrubZlFs5tQir+CuBhYAPAKuFVVx6omM1JvGyEGglsQ/IB54k0EqiBlB/cxW+3/Y9r618jXPSz+GDiz8Ielf6w3FVuyhaX8Se3/aQMiiFsKQwdEYdxljVQkJRgk2jDVS9XFUuel/bG51Bx5p316AN0eJ1eqkpqGmye43OHI3H72HhzoVNNqZySvsr0Eta5BkEFgn+34kO1BLtJJTTQGltKbd8fwuRoZF8fOnHhGgbtbq2xdjybOTNy8Pv9dfvyxiVHoVG2/qSREU5HYUlhmGIMKAN0ZJ1eRYVuRX1Va+mXOE4JnMMoNpKKMfNIy1yL4C0yI2A+UQHalTrfiFEOwKZngR+kVLuO9EbK6cOKSV/+eEvFNmL+OTST0iNSA12SIflqnJRnldO9o/ZGGONpA1Lw2VzEZ4cHuzQFEWps7/qlb8ynz7X9WHzF4G5XhkjM3DanNQU1BCZdvK7S3SJ7UJaZBqzc2c3QdTKaSBUWEV3/mjjfsDX0iI3H+9AzdpOQjk9fLrpU77c/CUTu09slSsY9yvPLWfngp3Yi+30uroX7ho3EakR6I36YIemKEoD5gQzhigDGp2GHlf0oGJHBTvm7WjSqpcQgtEdR5Ndnk1eRd6x36Cc7kwENsL+oe5lbPB1o/acbswm2VuBCw5uJyGl7NaYG54stUl267K3ai+93uxFqDaUjX/ZSLw5PtghHZbT5mTnop388Jcf8NR6uOr7q3BVumg/tD3GGDW/S1Fam5qiGvJX5KM36Zk+YTrmRDMTp0+ktriWxD6JTbKn6pebv+RPX/yJt8e9za0Dbm2CqJWjUZtkBzRmYssh7SQI9N9STlNSSm6acRM2p413x7/bapMuCFS7di3eRU1BDb2v6Y30SwxRBgzRhmCHpijKYZjjzRijjQitoMcVPbDl2dgxdweGaANl28vwe0++6/yojFFohEY9blRalGonoZywt1a9xZzcOdzY90bGdx0f7HCOyFHhoCq/it8/+53QiFCy/pSFu8ZNVEYUQqh9GRWlNRIaQWyXWNzVbnpd3Qu9Wc/a/61Fo9fgdXipLjj5xfTRxmgGtxvMzzt+xuv3NkHUinJsqp2EckJyynO4d+69dIjswH/G/ifY4RyRlJLynHL2/LaH6vxqek7uiUavQavXYo4/4UUpiqK0AFOcCWOMEaGpq3rttLFjzg5Co0Ipy26aqtfojqOpdFWyIn9FE0SsKMem2kkojebz+7jum+uo9dTy4SUfEhHaerfacZQ7qN5XzabpmwgJC6HHFT1w2VxEZ0arfRkVpZWrr3rVuOk5uSd6sz7Q10uvDVS9Ck/+Z/4xnVRbCaVlqeZFSqO9sOQFlu5dyj1D7uGc9HOCHc4R7a925S/Pp2p3FT2v6onOoAMNal9GRWkjTHEmTHEmhBD0vKonlbsryZ2dS2hkaJPM9RrcbjARoREq8VKOi7CKJ4RVRAmrEMIqfhBWUSqsYmJjxlCJl9IoG4o28NiCx+ge152nRz4d7HCOylHmoLowUO3Sm/X0uLIHzgonMR1jAgmYoiitnhCC2M6xeGo99LyqJyFhIaz5X9NVvXQaHaMyRrE8fzkVjoomilo5hV0sLdIGnAd4gbOAhxszgEq8lOPm8rq49ptr8Us/Uy6dglHfetswSCkpyy6jYFUBtjwbPS7vQYg50E0/IlVVuxSlLTHGGgNzMiX0vKonVXuqyJmV02RVrzGZY/BLP/Pz5jdRxMopbP9fthHAF9IitzV2AJV4KcfNusjKhqINPDL8EQamDAx2OEdVW1qLvdjOpmmb0Bl19Lq6F84KJ1EdotCbVMNURWlLhBDEdIrB6/DS46oehISFsPZ/a9HqtXhqPSdd9RqdORpAtZVQjoddWMWDBBrJzxVWoQEatUeeSryU47JkzxL+9du/GJA8gIeHNaqq2uKkX1K2rYzCdYVU7Kgg609ZhISHIP2ySbYaURSl5RljjJgTzeCHXlf3ompvFdk/Zge62Z9k1SsjOoPOMZ2ZkzuH420qrpy2bgCSgPulRRYBHYGpjRlAJV7KMdnddq775jr0Gj0fX/oxem3rrhjZS+zUltWycepGtKFael/TG2eFk4jUCELCWufm3YqiHJ0QgpjMGDwODz2u7EFIeAhr32vaqteuyl1sL9veRBErp6jh0iL/Li3yawBpkTlAUWMGUImXckz3z72f3Ipcnh31LN3juwc7nKOSfknZ9jKKNxVTnl1O1qQsDFEG/F4/UelRwQ5PUZSTYIg2EJYYht/rp9fVvajOr2b7zO0YIg2Uby8/qarX/seNanWjcgx/O85jR6SWdilHNSd3Dm+seoMRHUZw95C7gx3OMdUU1eCocLDxk7pq17W9cdqchCeHExoRGuzwFEU5Cfvneu35bQ89Lu/Bpk83sfb9tXS+qDPOSic1RTUn3Crm3PRz0Wl0zNkxhzvPuLOJI1faOmEVA4EzgDhhFX9tcCoSNcdLaSoVjgpu/O5GwkPC+fCSD9GI1v3Xxe/zU7qtlNItpZRuLaXbpd0wxhrxuXxEZUQFOzxFUZqAMdpIWPIfVa+afTVkz8zGEGmgdGspHofnhMYNDw1naPuhLMhbgNvnbuKolVNAO2AgYAYGNXglEZj3ddxUxUs5ojt/upP86nzem/Ae6VHpwQ7nmGoKa3BXu9nw8Qa0IVr6XN8HV6ULc2Jgs11FUU4NMZkx7C7cTdafstg4dSNr31tL53Gd8dZ6KVxbSMrAlBPamWJM5hgW71rMkj1LWnVz6FOdsIqxwFMEKkm1wG3SItcLq0gApgCZgAu4XVrkr3XvMQHvEUiG/MCD++dh1a08fBm4EJDAS9Ii32hMTNIivwO+E1ZxgbTIn07m87XuEoYSNF9u/pKpG6cyrss4/tz3z8EO55j8Xj9l28so215Gye8ldL24K6Y4E55aD9Edo4MdnqIoTcgQZSA8JRyf20fva3tTU1jD9hnbMcYZcdqcFG0oOqH5XvVtJXJUW4lgEVYRDXwCXCstsjfwAH+sGnwOWCYtsjPwZ2CqsIr9BaR7AZe0yE7AGOCNurEArgGygC7AYOB+YRXdTjDENGEVkXWxviasYpWwiuGNGUAlXsohCmsKuX3m7cQaY3l3/LsIIYId0jFVF1bjqnGxfsp6NDoNfa7vg7vaXb/JrqIop5bojtH4Pf76BTRr31+Lz+3DlGCiurCaki0lSH/jWkP0S+pHrDGWOTvUBPsgygSKpUVuAZAWuQjoIKyiP3A58Hrd8ZUEVhOeXfe+KxqcywMWAxc3OPeWtEiftMhy4HMCfbhOxB3SIiuFVZwF9CLQtf7FxgygEi/lAFJKbvn+FsocZbw17i2SwpKCHdIx+Tw+yraVUZFbQfGGYrpM6EJYUhjuGjcxnWLaROKoKErjGCINRKRG4HV66X1tb+xFdrbN2IYQgrDEMGw7bZRllzWqL5dWo+X8zPNZU7CGEntJM0avHEU2EC+sYgiAsIpLgTAgA9BIi2z4H2YnkFb3+zRg1wmcayxv3a8jgSnSImfTyGlbKvFSDvDBug+YuX0mV/e6mklZk4IdznGp3leN1+llw8cbEFpB3xv64q5xY4w2Yoo1BTs8RVGaSXRGNH6fn24Tu2GMMbLi1RWU55QjNAJzopmy7WXYdtoaNebojoHHjXN3zG2GiE9zIWiEVext8PrHwZdIi6wEJgLPCatYDZwDbCaQfB2cRR/8U7U8wXON4RdWcSWBKtrPdcfUqkblxOy07eTuWXfTLrwdr17warDDOS4+t4+y7DJseTYK1xTSZVwXwlPCcVW5AtUujap2KcqpKjQilMjUSPxOPyOfGYnP5WPW3bOoKapBo9VgijdR/HsxVfuqjntM1c+rGbnxS4tMbfB66XCXSYtcLC3yHGmRA4D7gRTgNwBhFfENLu0A7K77/W4g/QTONdYdBB5Tvistcqewii7AgsYMoBIvBQC/9HPDtzdQ467h/YvfJ9rYNiakV++rxufysX7K+kC16899cdvdhISHYIpX1S5FOdVFZUTh9/lJ6pfECMsI7EV2Zv99Nu4aN1q9FmO0kcK1hdSW1h7XeO0i2tEjvofaPiiIhFUkN/jyUWB+XYf4LwgkPgir2N/K4de66xqeyyCwifWMBuduE1ahFVYRQ6Ba9dmJxCYtcrm0yEv4Yz7ZdmmRjWr8phIvBYCXl73Mol2L+OvAv9b/xNfaeV1eSreVUrm7kn0r99Hpgk5EpEbgrnYT2zkWjVb99VaUU11oeCgRaRE4K5x0uqATg+4YRHl2OXPvn4vP40Nn0BEaEcq+Vftw2pzHNebozNEU1BSwqXhTM0evHMGTwiq2CqvIIVCduqnu+APAUGEV2cCHBFY+7p9z9QJgrHvPbAKT4Mvrzn0MbAO2AyuBF/ZP3m8sYRVZwirWAXl1Xw8QVvGvRo3R1jJ6rVYrfT5fsMM4pWwu2Uz/t/vTPrI9625bhznEHOyQjkt5bjll28pY9OQi9q3Yx6QvJmFOMONz+0gfno5GpxIvRTkduGvc7Fq8C2OsEaEV/Prsr2z9eiudL+rMiMdHIITAVe3C7/XTfkj7Y+7ZOjtnNmOnjuXF81/k/4b+Xwt9ilOfEMInpWzT/UOFVSwgUIV7VVpkP2EVAtgoLbLn8Y6hvjOd5jw+D9d9cx0ev4ePLvmozSRdXqeX8pxyqvKryF+WT+aYTKI6ROGqdAWqXSrpUpTTRkhYCFEdonBWOBFCcNb9Z5E2LI3sH7JZ/dZqIFAZA9i3eh9ep/dowzGswzBCtaHMzlX9vJRDhO9v2gogLVICjdouQX13Os0988szrC5Yzf1D72do+6HBDue4Ve6pRPok6z9cDwL63tgXr9OLNkRLWFJYsMNTFKWFRaZHAoEfyjQ6DSOfGUlcVhxr31vL1m+2AoHthrxOLwXrCvB5jvzkxKQ3MbzDcBbvWozD42iR+JU2wyusQk/dKklhFakEOuUfN5V4ncZW7VvFk4ufpHdibx4/5/Fgh3PcPA4PFTsqqC6sZs+SPXQ8ryPRGdE4bU5iOsWg1Td+qxBFUdq2EHMICb0TcJQ78Hv96I16xvxnDOHtwvn1uV/Z89seAExxJpzldd3tfUf+fjk6czQun4vFuxa31EdQ2obXgG8IbJb9OIFGrS80ZgCVeJ2mHB4H135zLRqh4eNLPyZUFxrskI6bbZcN6a+rdgH9buqHz+1Do9MQnhIe5OgURQmWiJQI4rPisRfbkX6JKdbE2JfHEhIWwrwH51GyJdB705RgoqaghpLNR+5ur9pKKIcjLfIT4BngU8AEXC8tcnpjxmjTk9yUE/fw/IfZWrqVZ0c9S+/E3sEO57h5aj3Y8mzYS+zs/mU3GSMziOkUg73ITkznGHSh6q+0opzOojtG46n1ULm7krCkMKLSoxj979H8+Ncfmf332Vz8wcWEp4RjTjRjy7OhC9UR0/nQHS56JfQiKSxJbR+kHEJa5BJgyYm+X32XOg0t3LmQ/yz7D0PbD+W+ofcFO5xG2d+FumG1y+/1IzSCiNSIIEamKEprIIQgvns8XoeX2pJaTPEmkvomce6T5zLvwXnMumsW498bjyHSgDnRTOm2UrQhWqLSow4ZZ3TmaKasn0J+VT7tItoF5wMprUrdqsZDyqTSIkce7xjqUeNppspVxQ3f3oBJb+KjSz5Cq2k786Hcdje2nTYcZQ52LthJhxEdiO0ai6PcQWR6JHqjPtghKorSCmh0GhJ7J6I1aOt7d2WMymDIPUOw7bQx9965eF2BSfimeBPFm4qpLqg+ZJwxmWMAtX2QcoAXgX/XvV4HKgj0BjtuKvE6zdwz6x52Ve7ixfNfpFNMp2CH0yi2nTaERrDuo3UA9Ls5UO1CQmT7yOAGpyhKq6Iz6EgZkIL0Sdx2NwC9Jvei51U9KVxbyKLHFyH9Eq1eiyHaEOhuX3Zgd/vzOp4HoNpKKPWkRf7Q4PUVgS74/Rozhkq8TiPfb/ue99e9z+jM0dw+8PZgh9MormoXlbsqcdgc5P2cR/uz2xPfPR6nzUlkh0hCzI3ao1RRlNNAaHgoyf2TcVe78bkD7SOG3DOEjJEZ7Ji7gxWvrgACSZo+TB/obl/5R3f7BHMC/ZL6MTd3Ln7ZqI4ByulDA2Q05g1qjtdposRews3f30yUIYr3Jrx3yETS1s6WZ0Oj1QTmdknof3N//D4/fq+fyDRV7VIU5fBMcSYSeyVSuK4Qc6IZjU7DOU+cQ21pLRs+3oA50UzPK3sSYg5B+iT7Vu0jdUhq/Q9zYzLH8Nxvz7G2YC0DUgYE+dMowSas4gv+mOOlBfoQ2KLouKmK12lASslffvgLxfZiXrvgNVIjUoMdUqO4qlxU7q3EUekgd04uqWemktAzAafNSURqRH1HakVRlMOJaB9BbNfYQJsJKdEZdIx+aTSRaZEs/fdS8hbkARAaEYr0SwrWFNR3t9/fVkI9blTqzAR+qHt9DVwjLfKOxgyg9mo8DUzdMJVrvrmGSVmT+HzS522u2lWwrgB7kZ3lrywn58ccJrw/gYSeCdiL7aSdnYYh0hDsEBVFaeWkX1K4vpCaghrMiYGt0ar2VjHjxhm47W4uevMiEnsnAlBbUktoVCgpA1LwCi+xz8cyMGUgC29YGMRP0PadCns1NgVV8TrF7a3ayx0/3kGiOZE3L3qzzSVdzkonVXurcNvd5M7Kpd3gdiT2TsRZ6SQsKUwlXYqiHBehEST0TMAQZcBRFtgGKCI1gjH/GYMQgtn3zKZydyUApvi67vYbi9ALPeekn8Nve36j2nXoykfl9CCsorewiqsafP22sIrP616DGjOWSrxOYVJKbvzuRipdlfxvwv+IM8UFO6RGK88pRxeqY/2H65F+Sb9b+iGlxOv0Ep0RHezwFEVpQ7R6LUl9kxA6gavKBUB8j3hGPjsSd7WbWXfNwlEeSMpMCSZq9tVQuqWU0Zmj8fq9LNy5MIjRK0H2OFDV4OsRBB43LgQebMxAKvE6hb256k3m7pjLTf1uYlyXccEOp9EcFQ5qCmrw2D1k/5hN8oBkkvsl46p0YY43Y4hW1S5FURpHb9KT0j8Fr9NbP4+rw7AOnPXAWVTtrWL2PbPxOr0IITAnmqnIq2CwdjCgtg86zXWQFvlDg68d0iI/khb5BpDQmIFU4nWKyi7L5r6599EhsgMvjXkp2OE0mpSS8pxytAYt66esR/ok/W/pDwQ2yY7JPHSLD0VRlONhiDKQ3D8ZZ4UTnycwZ7j7xO70/XNfSn4vYf7D8/H7AjtimBPMROVHkWpOVRPsT28H9yya2OD3jXr8ohKvU5DP7+P6b6/H4XHw0SUfERHa9rbScVY4qSmswePwsG3GNhL7JpI8IBlXtQtjtBFjrDHYISqK0oaFJYYR3yOe2uJa/L5Aj66Bfx1Ipws6sWvRLpa+uBQpJRqdBnOCmaHGoWSXZ5NXkRfkyJUg0QmrqP9mKi1yB4Cwikga2ZpLJV6noBeWvMDSvUv5+5C/MyJ9RLDDaTQpJWXZZehNejZ8tCFQ7bq5P0II3NVuYjvHqmqXoignLSo9ipjMGGqLa5FSIoRg+GPDSR6YzOYvNrPh4w0AaEO0nJN8DgAzN8wMYsRKEE0HPqxLtID6pOu9unPHrdmXdVqFdSfgrHsBPGuRls+swpoATAEyARdwu0Vafm3ueE516wvX89iCx+ge152nRz4d7HBOiKPMgb3YDgK2fbeNhF4JtDujHe4aN4YoA6Y4U7BDVBTlFCCEILZbLO5aN7UltZgTzGj1Ws5/4Xy+v+l7VryygrDEMDLHZDIieQSajRp+2PADt/a7ldAI1T/wNPM08CGwV1hFDoEmqp2B74CnGjNQS/XTmGSRlk0HHXsOWGaRlrFWYR0EfGkV1kyLtHhbKKZTjsvr4tpvrsUv/Uy5dApGfdt7HFdf7TLrWf32avxef321y1XlImVgCkKjql2KojQNjTawoXb+inwcFQ6M0UZCw0MZ+8pYvvvzdyx8fCGmOBPJA5LpG9WXJZVL2L1yNx2GdFBblZ1GpEV6gWuEVXTij70Z10qLzGnsWMF81Hg5gZ29sUjLSqAIODuI8bR5jy98nI3FG3l0+KMMTBkY7HBOSG1pLY4yBz63j23fbiMuK47Uoal4aj2EhIVgTjAHO0RFUU4xulAdyf2SQYK7JrChdlhSGGNfHos2RMuce+dQsaOCEfEjqPZVs862jsI1hXhdqk5wupEWmSMt8ou6V6OTLmi5itdUq7BqgOXAPwE/oLFIS0mDa3YCaQe/0Sqs/wD+UX9AFTsOa8meJTy/5HkGpgzkoWEPBTucEyL9krJtZejD9Kx5Zw0+t++Aaldin0Q0WjUtUVGUphcSFkLKgBT2LtuLRqdBZ9AR2yWW8/51HrPunsWsu2ZxxitnALDMtYy+9r4UrS8iqV8SWr02yNErbUlLfBcbbpGWPkB/oAz4qO74wXsVHTalskjLSxZpSd3/UonXoWrcNVz3zXXoNXqmXDIFvVYf7JBOiL3EjqPCgc/lY8vXW4jtEkvasDS8Ti86g47wpPBgh6goyinMGGMksU8ijnIHfm9gpWPqkFSGPzKcmsIaCh8tJFwXzsKShZjjzdhL7BRvKq5fFakox6PZEy+LtOyu+9UD/BcYZpGWMgCrsMY3uLQDsLu54zkV3T/3fnIrcnnuvOfoHt892OGcEOmXlG0vIzQilI1TN+Jz+eh3Sz+EEDhtTmI6xaDRqWqXoijNK6JdBHHd4rAX2ZH+QH2gy/guDLhtALZtNjrnd2adbR02tw1zopmq/CrKtpbR1vY9VoKnWb+TWYXVbBXWqAaHrgLW1v3+C+COuusGAUmAWtXYSLNzZvPmqjc5J/0c7jrjrmCHc8LsxXactkAzw81fbCamUwzpI9Lxurxo9VrCk1W1S1GUlhGTGUNkeiT2Env9sX4396PrxV1JWZGCHz+/lv4a6G6fYKY8t5zy3PIgRqy0Jc1dQkgEFliFdYNVWDcS2NvourpzDwBDrcKaTWCJ5rVqRWPjVDgquHHGjYSHhPPBxR+gEW2zIuT3+SnZWlJf7fI6vfS7uR9CI3DZXERnRqMNUXMoFEVpGUIjSMhKwBhjpLa0NnBMCM7+59mcFXUWAF//+jUQWBVpTjRTuqW0fpNtRTka0dbKo1qtVvp8vmCH0Spc/fXVTNs4jfcmvMeN/W4MdjgnrCq/isK1heiMOqZPmI45ycyk6ZPw+/w4bU4yzslAZ2ipdSCKoigBXqeXPcv2IP0SQ2Rgb1i33c3g7wbj9rv5JvIbuo7vCoDP7aO2rJaUgSlqPuoRCCF8Uspj/mMurGIM8AyB4pAeeEFa5EfCKg7p/ykt8te695gINDMdRGAB34PSIr+uO6cBXgYuJDC//KW6PRaDom2WSBS++P0Lpm2cxvgu4/lz3z8HO5wT5vf6A3O7IkPZ9OkmPLUe+t0YqHY5K5zEdIxRSZeiKEGhM+hI6Z+C3+PHU+sBIMQcwpjOY6iMquSbN79h77K9QKC7vTHaSOHaQhzljmCG3aYJqxDANODP0iL7AeOAt4VVhFPX/1NaZGfgz8BUYRX7v0HcC7ikRXYCxgBvCKvYv4fiNUAW0AUYDNwvrKJbi32og6jEqw0qrCnkLz/8hVhjLO+Mf6dNb59TXViN2+7G7/WzafomItMi6Xh+x/oVRRGpbW+fSUVRTh2hEaEk90/GVeXC5w48bRmVNgqAvG55zHtgHmXby4BAoqY36dm3ah+uKlfQYj5FRNX9GkGgI4KLBv0/pUUe3P/zigbn8oDFwMUNzr0lLdInLbIc+By4svk/wuGpxKuNkVJyy/e3UOYo4+1xb5MUlhTskE6Yz+OjbHsZhigDm6ZvwmP30O+mfmi0GpwVTqI6RKE3tc3WGIqinDrM8WYSeyVSWxrYUHto7FB0QoftAhs+t49Zd8+iprAGCPQDEzrBvtX76qtkSp0QNMIq9jZ4/ePgS6RFSgIJ1tfCKnYRWHR3PRAOaKRFHqn/Zxqw6wTOtTiVeLUx7699n5nbZ3JN72uYmDUx2OGclOp91XhrvUifZNOnm4hIjSBzTCZ+nx/pl0SmRR57EEVRlBYQ0T6CmE4x2IvsmLVmBkYPZLV3NUMtQ6ktqWXWXbNwVQeqXIZIA36vn4K1Baq7fUNu/NIiUxu8Xjr4krpHh/8ELpYW2QEYxfH3/5QneK5FqcSrDcmryOPvs/9Ou/B2vHrBq8EO56T4PD7KssswRAeqXe5qN31v7ItGp8FV4SKifQQhYWofNEVRWgchBHFd4whvF05tcS0j4kfg8DmoGFjB4LsGU7Gjgrn3zq1/HGmMMeKqdlG0vqh+6oRyXPoCKdIif4P6R4r7gN4AwiqO1P9zN5B+AudanEq82oj9jxhr3DV8cPEHRBmigh3SSanOr8bn8uH3+dk0bRPh7cLpfGFnpF/i8/qI6hAV7BAVRVEOIDSCxJ6JhEaGMiR0CACLShbR+9reZP0pi4LVBSx6YlF941VzvBl7qZ3i34vrjynHtAdIFVbRFaBuU+pMYDsN+n8Kqzi4/2fDcxkE2lfNaHDuNmEVWmEVMQTmfH3WIp/mMFTi1UbM3D6Tn/N+5sa+N3J+5vnBDuek+Nx1c7uiDWz+YjOuKhd9/xyodjltTsJTwgmNCA12mIqiKIfQhmhJ7pdMz/CeROuiWVS6CCEEZ957Jh1GdCB3Vi4r31hZf705wUzl7kpKt5aq7vbHQVpkEXAb8KWwivXA18BfpUXmU9f/U1hFff9PaZH7n+W+ABiFVeQAs4E76ibSA3wMbCOQvK0k0J5iS0t9poOpPl5tgMfnodebvdhTtYecO3NIDk8OdkgnpXxHOaVbSgmNCGX6hOnoDDou/+ZyNDoN9kI7aWenYYgyBDtMRVGUI3LanEz6eBI/lP/A+vPXExcah9fp5Yfbf6B4UzFnPXgWWZOygECTaHuRnfiseGIyY4IcefAcbx+vU52qeLUB7655l21l27h/6P1tPunyOr2UZ5djjDGy5astOG1O+tzQB61ei6vShTnRrJIuRVFaPUOUgYt6XQTAoqJFQKCdxOj/jCaifQRLnl/CrsWBhXQarQZzQl13+z2qu/3pTiVerVylsxLLQgvJYcncO/TeYIdz0ir3VCJ9EumXbPh4A+YEM10ndEVKidfhJbpj9LEHURRFaQUm9J8AwPy98+vncBmjjYx9ZSyhEaHMf2g+Jb8Huh9odBoMMQYK1xVSsrkEn+f0enKj/EElXq3cc78+R2ltKU+NfApziDnY4ZwUj8NDxY4KDDEGtny9BUe5gz7X90EbosVV5cIYa8QYYwx2mIqiKMelXUQ7esT3YGntUmqKaurncEW2j2T0f0YjpWT2PbOp2lsFgC5UhznRjG2njb1L9+KoUB3uT0cq8WrFdlfu5j/L/kPvxN5c3+f6YIdz0ip311W7fJL1H63HFGei6yWBfc68tV5iOsW06S78iqKcfsZkjqHIWcQe4576DbUBEnslMvLpkTgqHMy6axZOmxP4Y1Ntv8/PniV7KMsuw+9T7SZOJyrxasUenv8wLp+LF89/Ea1GG+xwToqnNlDtMsYa2fbdNhxlDnpf1xtdqA53jRtDlAFTrCnYYSqKojTK6MzRAKzRryHEHFKfYAGkn5PO0HuHUrm7kjn/mIPX+Ucz1dCIUExxJsq2lZG/PF9tMXQaUYlXK7Vq3yo+2fAJYzuNbfPtIwBsu2wgQPoD1S5jjJHul3UHwF3tJqZzDEKjql2KorQtwzsMJ1Qbyrxd80jul4z0Sdx2d/35Hlf0oPe1vSnaUMSCRxccUN3S6DSEJYfhcXjY/etubLtsqt/XaUAlXq2QlJJ759yLRmh44fwXgh3OSXPb3djybBijjWybsQ17sZ3e1/ZGZ9DhtrsJCQ/BFKeqXYqitD1GvZHhHYazeNdifKE+kgck46nxHLBV0OA7B9Px/I78f3vnHSZVef3xz9leWdilLB2kd7CiWBAVELFi78aOmkSjiWm/dROjiYlGjT32qNHYoiIRsXdQEaQoSO9l2WXZXs/vj/edZXZZpLg7dxbP53nuszP33pn5zt07937f8573vMvfXc6HN39YL/IFboRkUpskNny9gbVfrq1n3Iy9DzNeUchri17j/RXvc/GIixncfnDQcn4whcsLkRhBVZnz+BySWicxYFJYtKt3JjGxdioahtEyGdtrLBU1FXyw4gNSslLoMKwDZZvL6qYKkhjhiJuOoPPIzix6bREvnf0SG+ZuqPcesQmxpHVMo7ygnFUfr2Lrmq1WcHUvxe52UUZVTRU3TL+B1PhUckfnBi3nB1NRVMGWFVtIapPEd69/R/H6YoacO4T4lHiqyqqIS44jrUNa0DINwzD2mHG9xgHw5pI3AWjVuRVt+7WlZGNJnXmKS4xj/F3jOejnB1G0rojXLn6Nz+/7vF5ZCREhOSuZ+NR41s1ax4Y5G7aLjhktHzNeUcZDXz7Eos2L+OWoll8sFWDL8i110azZj80mMSORgae5as4VhRVk9ckiJs5OQ8MwWi6D2w+mY1pHpi2ZVrcus3cmGd0yKNlQUrcuJjaGoecO5eSnTiarbxazH53NKxe8Qv7i/HrvF5cUR1p2GkXri1jx0QpKNpZg7D3YHS+KKCwv5Kb3b6JTeid+cfAvgpbzg6nYWkHhqkIS2ySy+H+LKVpTxOCzBpOQmkB1eTWxibGkZVu0yzCMlo2IMLbXWOZvms+arWvcuhih3cB2JGclU5ZXv15XZq9MTnz8RPa9dF/yl+Tz8nkvM+fJOfUS7yVGSG2XSmxCLKtnrGbT/E3UVFrR1b0BM15RxK0f3eqKpR7Z8oulgpuTMSY2BhS+evQrEtISGHymy1krLywnq3cWsfEtu0yGYRgGbCsrMX3p9Lp1sfGxZA/LJiYhZrtyETFxMex3+X6c8MgJpHdKZ+bdM5ly+ZS6YqshElITXNHVFVtY+clKyvKt6GpLx4xXlLBiywru/OxOhnUYxvnDzg9azg+mvLCcojVFJGcms2TaErau2uqiXWkJ1FTWEBPrhlEbhmHsDRy9z9EA9bobAeKT4+m4b0dqKmqoKqva7nXtB7fnlKdPYfBZg9kwewMvnvUi37z4Tb3E+lDRVYCVn6xk86LNdYn7RsvDjFeUUFcsdWzLL5YKULCkgNiEWFSVrx75ivjUeAaf5aNdBeW06dWGuMQf/ST1hmHsJbRPbc++Hfdl+pLp1Gp9U5SUkUTHfTtSvqW80Tka45LiOPgXBzPh/gkkZSTx0a0f8cbP3qBkU/3crsT0RFLbpbL5u82snrGa8sLy7d7LiH7MeEUBn6/5nKfnPs2xvY+tazW1ZMoKyihaW0RS6ySWTl9K4cpCBp0xiMRWia6VJm7Uj2EYxt7E2H3GsrlsM7PWzdpuW2r7VDoM6UDpptIdjlTsfEBnJj07ib7H92X1J6t58YwXWTJtSb19YuJiSMtOo7q8mlUfr2LLciu62tIw4xUwqsr10/eeYqmqSv7ifGKTXNTuq0e+Ii45jiFnDwGcKWvdszXxyfFByjQMw2hyxvWuX1aiIRndMsgekU1VSRVleWWN1ulKSEvgiJwjOOZvxyCxwju/fYe3f/12vamIwBddzUxiw9wNrP3Ciq62JMx4BcyrC1/lgxUfcMmISxjUflDQcn4wBUsLKF5fTFLrJJa9s4wty7Yw6PRBJLVOctGuWsjomhG0TMMwjCbn4C4HkxqfukPjJSJkdMmg26HdSG6bTPG64h1Gv3qM7sGpz51KjyN7sHT6Ul444wVWfrSy3j6x8a7oatmWMlZ+tJLC1YVWdLUFIC3tnxQbG6s1NXvHkNqqmioG3z+YtUVr+e6a78hOyw5a0g9i65qtrJu1jtT2qUiM8NLZL7F19VbOfO1MktskU5pXSkaXDNoNahe0VMMwjGZh4jMTmbZkGvm/zCc9MX2H+6kqReuK2DR/E1qjJGclNzpfraqyeOpiPr7tY6pKquh/cn8O+vlBJKQm1Nuvuryass1ltOrairb920Zlr4KI1Kjqjz651yJeAfLglw+yaPMifjXqVy3edJVuLmXDnA0kZyYTExfD8veXk784n4GnDSS5TTK1NbVojdKqm+V2GYax9zKu1ziqa6t5b/l737ufiNCqUyu6HdqNtI5pFK8vpqp0+1GPIkKf4/pw6nOn0unATnz78re8dPZLrPtqXb394pLiSOuURsmGElZ+vJLiDcVN+bWMJsSMV0AUlhdy03uuWOp1B18XtJwfRMXWCtZ9uY74tHjikuLcSMZ/fkVsYixDznW5XeUF5aR3TicxPTFgtYZhGM1HqJ5Xw7ISOyI+OZ4OQzvQ+cDO1FTWULKhpF4h1RBp2WlMuGcCh9xwCKV5pUy5bAoz7ppRbzJuESGlXQpxiXGsmbmGjfM2WtHVKMSMV0Dc8uEtbC7bzJ/G/ImU+JSg5ewxVWVVrJ21FomVutD3yg9dnZkBpwwgJSsFrVVqq2tp3aN1sGINwzCamb5Zfeme0X2HeV6NISKkdUij26Hd3DRDG0uoLN4+WV5ihEFnDOKUZ06h/aD2fP2vr/nvef8l79u8evvFp8STlp1G4cpCVn68ktLNpT/4exlNhxmvAFi+ZTl3zbiL4dnDOW/oeUHL2WNqqmpYP3s9tRW1JLVOAlw+wqyHZxGbEMvQ84cCrphqWnYaSRlJQco1DMNodkLTB32X/x3LCpbt1mvjEuNoP7g9XUd2RWvVRb8aKZTauntrjn/4ePa/cn+2rNjCfy/4L7MenlVvX4kRUju4fNvVn60mb2GeFV2NEsx4BUBdsdRjWm6x1NqaWjbM3UB5QTnJbZPr1q/+ZDV5C/Lod1I/UtuloqpUl1fTZp82Aao1DMOIHKHuxt2JeoWT0jaFbqO60bpna0rzSrebbghcPa8RF4/gpCdOonWP1nz5wJe8evGrbFm+pd5+CWkJpLRNIX9xPqs/taKr0YAZrwgzc81Mnpn7DBP6TOCofY4KWs4eoapsXriZorVFpLTf1k1aWVzJjLtnEBMfw7ALhgFQUVhBWvu0uoiYYRjG3s5RPY8iRmJ4c+meGS+A2IRY2g1oR9eDuxITF0Px+uJGI1Zt+7flpCdPYuh5Q9m0YBMvnfMS856dV6+oal3R1UpXdDV/aX6jeWRGZDDjFUFUlevfbPnFUguWFZC/JN+VjRA3/LmqrIo3fvoGBUsK2PfSfUnrkIaqUlVWRZt92tTtZxiGsbfTJrkNB3Y+kLeXvk11beN1unaV5Mxkuh7claw+WZTmlW5XSBVcF+VBPzuIiQ9NJKVtCp/+7VOmXjWV4vX1RzaGiq5umr/JFV1tJI/MaH7MeEWQVxa+wocrP+TSfS9lYLuBQcvZI0J1Z1LapRAT606f6opq3vzFm2z4egNDzxvK8IuGA1BZVElKZgrJWcnf846GYRh7H+N6jaOwopCZa2b+4PeKiYshq28W3UZ1Iy4pjqJ1RY3O+dhxREcm/XsS/U/pz9rP1/LCGS+waMqiekVVY+NjSe+UTsXWCiu6GhBWQDVCVNZUMvi+wawrXsfiaxbTIa1D0JJ2m7L8MlZ/tprEjETiklwNvNrqWqbfMJ2VH65kwKQBjLpxVF10q2hdEV0O7EJq+9QgZRuGYUScT1Z9wqhHR5FzRA43jb6pyd63tqaWLSu2sPnbzcQkxJDcpvGG7aqPV/HBHz+gNK+U7qO7c9hvDiM5s/6+1RWu6Gp6p3TaDWzX7EVXd6WAquRKa+C9sFUpwD5AeyAOeBLoBVQAV2iOfuRflwI8AhwA1AI3ao6+5LfFAHcBEwAF7tAcva/JvthuYhGvCPHgFw/yXf533DjqxhZpuiqKKlj75VriU+O3ma6aWt79/bus/HAlvSf0ZtSvtpmuyuJKkjKSSGnbcktlGIZh7CkHdj6QjMSMXa7ntavExMaQuU8m3Q7tRkJaAkVrixqt1dV1VFcmPTeJXmN7seK9Fbxwxgsse7f+KMu4xDjSOqZRmlfKyo9WUrSuKPDol+boFs3R4aEFeAj4n+ZoPvBn4DPN0T7ARcDTkishI3c9UKE52hsYB9wnuRIa1XUuMBDoCxwI/FJypX/kvlV9zHhFgC3lW8h9P5fO6Z259uBrg5az21SXV7Nu1jokRkhIc7W6tFb58E8fsnT6Unoc2YMj/u+IetNdVBRVkNUnq9EpMAzDMPZ24mLiOGqfo5i5ZiYFZQVN/v6JrRLpcmAXOgztQEVhBaWbS7czTUkZSYy5ZQxjbhmD1ipv3fAW7+W8Vy+3S0RIaZtCXHIcaz9fy8Z5G+sVZY0CLsJFsgBOB+4F0Bz9HNgAHOq3nRG2bRnwAXBi2LYHNEdrvIH7D3BmRNQ3ghmvCNCSi6XWVNWwbvY6qsuq69Xq+vSOT1n06iK6HNKFMbeMISZu26lUVVrlhjC3a1nf1TAMoykZu89YarWWt5e93SzvLzFC6+6t3aTbbXY86Xavsb2Y9Owkuh7Sle9e/44XzniBNTPX1NsnPjmetI6u6Oq6Weu2e48mIYEYyZXVYcv3TtsiuXIwkAVMkVzJAmI0RzeF7bIc6OYfdwNW7MG2iGPGq5mpVyx1WMsqlqq1yqb5myjbXFbPRH1x3xfMf3Y+HfftyDG3HUNsfP1aZBVbK8jsnVmXfG8YhvFj5IfW89pVEtIS6LRfJ7JHZFNVUkVp3vbRr9R2qYy7axyH/fYwKrZWMHXyVD752yf1jJrECMmZyVSVbD9nZJNQSa3maJew5Y6dvOInwJOaoyGRDftBG3ap6B5uiyh2Z2xmfv32r6msqeT2sbcTIy3ncKsqeQvzKFxVSGqHbcnxsx+bzezHZtNuUDvG/n1sXb5XiLL8MhJbJZKenR5pyYZhGFFFzzY96ZPZhzeXvNnsuVMSI2R0yaDbod1IbZ9K8bpiqsrqGygRof/J/Zn070l0GN6B+c/O56WzX2LjvI3Nqm1PkFxJxXURPgqgObrZr28Xtlt3YKV/vBLosQfbIk7LcQItkBmrZ/DsvGc5rs9xjOk5Jmg5u0XhykLyv8t3U074hPl5z87j83s/J7NPJuPvHl83N2OIsvwyYhNi6bRfp3pdj4ZhGD9WxvUax4rCFSzavCginxefEk/28Gw67d+J6rJqSjaV1CumCtCqSysmPjiRg352EEXrinj1J6/yxf1fNFqiIkBOA77WHP02bN3zwFUAkisHANnAR41s6wkcAbwatu1yyZVYyZVMnKF7rtm/wQ6wu2MzoapcP/16YiW2xRVLLVpfxMa5G0lpv61W18JXFvLp3z4lo3sGx95z7HbzLpZtLiMuKY7OB3QmPqV5hyQbhmG0FCLV3RiOiJDeMZ3uh3WnVadWFK8vprKkfrHUmNgYhp43lJP/dTKZfTL56pGveOXCVyhY0vQDAfaQi9mWVB/iV8AhkivfAY8D54V1Q/4VSJZcWQxMA67yifQA/wIWAouAz4G/ao5+08z6d4jV8WomXvrmJSb9ZxJX7HcF90+8P2g5u0xZQRmrP61fq2vJm0t493fvkpqdyvH/PJ60Dmn1X7O5jLjkODrt18lMl2EYRhhFFUVk3pbJuF7jmHL2lIh/vqpSuqmUDfM2UFNeQ3Lb5O3yb2uqavjq4a+Y/fhsJEYYfuFwJj4wsclHpe9KHa8fA2a8moHKmkoG3TeI9cXrW1Sx1MriSlZ9torY+Ni6shErPljB9Bumk5yZzPH/PJ5WXVrVe42ZLsMwjO9n9OOj+Xzt5+T/Mp/EuMRANFRXVFOwuID8ZfkkpifWXePD2ThvI+/+37ukZ6dz8WcXN/lUb2a8HNbV2Aw88MUDLM5fzK8P/XWLMV3VFdWs+8oNIQ79INfMXMPbN75NYnoiE+6bsGPTtb+ZLsMwjB0xttdYSqtK+WTVJ4FpiEuMo92gdnQd2RVVbXTS7faD23PS4ydxyC8Psfl1mxEzXk1MQVkBue/n0qVVF34+8udBy9klaqtr2TBnA5UllXXTT6yfvZ43r3uT2IRYjr3nWNr0bFPvNWV5ZcQnxzvT1czTTBiGYbRkxvUaB0Q2z2tHpLRNoduobrTp1YaSTSVUbK2otz0uKW67HF6jaYlYyC9XcnOAm4AhOZozL1dy38MVMNvqd3kiR3P+Hik9zcUtH95Cflk+fx/39xZRLFVrlY0LNlKyqYS0bJe7lfdtHm/87A0QGH/3eNr2b1vvNWV5ZcSnxNNx/45mugzDMHbCiI4jyErO4s2lb3IrtwYth9j4WNr1b0dahzQ2zttI8fpiUtqm2Gj0CBER45UrufsCI9m+bsZPczQn8tmGzcSygmXcPfNuRmSP4Nyh5wYtZ5fIX5xP4YrCOtOVvySfqVdNpba6lvF3jafD0PpdpWa6DMMwdo8YieGYXsfw7Lxn2Viykfap7YOWBEBym2S6HtyVgmUF5H+XT2xirKWNRIBmt7e5kpuImz9pMttXnd2raGnFUgtXFpL3bR6p7VORGKFwVSH/u+p/VBZXcvRfjqbT/p3q7V+aV2qmyzAMYw8IdTe+tfStgJXUJyYuhqw+WXQd1ZW4pDhKNpYELWmvJxIRrz8AT+VozrJcyW247a+5knsrsAD4dY7mLG24Q67kXgdsm88pSvP9Plv9Gc/Nf47j+x7PkT2PDFrOTinZWMKGuRtIaefCy8Xri5l65VTK8ssYc8sYuh1afxqr0rzSumkpGlarNwzDML6fY/Y5BoA/fvBH3l/+Pm1T2tI2pS3tUtvVPQ4tqfGpEU9uT8pIosvILmxZsYXSTaUR/ewfG816B82V3IOBA4AbG9l8Xo7mrMqVXMFVm50CDGy4U47m3AHUzef0h9g/NEvUTFVZ89kaktsmk9E1Y7fMhapy/ZuuWOpfjv5Lc8hrUsq3lLNu1joSMxKJTYilNK+U1ye/TvH6Yo646Qj2OXqfevub6TIMw/hhdG7VmRP7ncirC1/l27xvv3ffpLik7cxYu5TtDVpoXVZKFgmx25eH2F1iYmPI3Cdzu8FURtPSrHW8ciX3RuCnQKhkbhdgA3BJjub8r8G+5UDnHM3Z/H3v2Vx1vLRWWTJ9CTVVNcTExZDZK3OXDdiLC17k1OdP5cr9r+S+4+5rcm1NSWVJJas/W43ECImtEikvLOf1y18nf3E+o341ioGn1fe+ZroMwzCajpraGgrKC8grzau3bCrZ5B6Xbb+uqLJop+/bKrHVTg1a+NImuU3EU2KsjpcjogVUcyV3OTAR+BbIytGcDX79JOCOHM3pvrP3aG7jldQ6CVWlPL8cYtipAausqWTgvQPZWLKRxT9dHDVJk41RXVHN2plrqSyrJCUrhcriSqZOnsqmBZs48JoDGXbBsHr7l24qJSHdTJdhGEaQVFRXsLlsc32DFm7aSjdt97yypvJ73zNGYshKzmrUpPVv25/zhp3X5N/DjJcjqAOQCLzuE+9rgTzghIC0bEdsfCypHVKpqawh/7t8CpYWkNk7k1ZdWhGXWP+Q3f/5/SwpWMItY26JatNVW1PLhq83UFFcQWr7VKrLq5l27TQ2LdjEiEtGNGq6Elsl0nHfjma6DMMwAiQxLpFO6Z3olN5p5zvj0l+KK4u/15yFr/sm7xs2l25G/fi3I7of0SzGy3DYlEGeL+7/goJlBfQ7sd92RqOmsobygnIkVuoZsIKyAnr/ozep8aksvHohyfHJTa6rKVBVNs7fyJblW0jLTqO2qpZp101jzWdrGHzWYEZeN7JeImdpXimJ6Wa6DMMwfizU1NawpXwLm0o3oaoMaDegyT/DIl6OH/0BABcN+vDWD9m6aitzn57LsAuG0Wdin7roVmzCtgjY5oWbyV+cT2bvTG5edDP5ZfncNf6uqDVd4GpzbVnmTJfWKG//5m3WfLaGfif12850lWwqIalVEh3367hddM8wDMPYO4mNiSUrJYuslKygpez1WMTLU7q5lGnXTmPhKwup2FpBStsUhpw7hAGnDNiuoFxNZQ2L1i3i2HnHMrDNQGZeOpOEpB8+oqQ5KFxdyPqv1tfV6nov5z0W/28xvcb3YnTu6Hqz1JdsKiEpI8lFusx0GYZhGE2IRbwcZrw8oeT62IRYFr22iK+f+rouz2nQmYMYdMagevNXXfHlFby27jX+1e9fjGwzksw+mbTqvH0OWJCU5pWyesZqktokEZsQy0e3fMS3L39L9yO6c/Rfjq43PYSZLsMwDKM5MePlMOPlCR/VGBMX46JaUxYx54k5FK0pIj4lngGTBjDknCEsiF3AiR+fyNgOY3nsgMfq54BFiQErLyxn9WeriU+JJy45js/+/hnznplH55GdGXfHOGITYuv2LdlYQlKbJDqOMNNlGIZhNA9mvBxmvDwNjVeI2upalr61lNmPzaZgSQExCTE89bOnWJK6hHdGv0PvtN51+1ZXVFO+pdwVoeuTSUaXjHoGJ1JUlVaxesZqVJWkjCS+fPBLZv1zFh2Gd2DCPRPqJcyb6TIMwzAigRkvx4/+AOyMmLgYeo/vTa+xvVj54UoemfYIi1IXccDnB7BqxioyL8wks1cmAHGJcaR1SKO6opq8b/MoWFxQFwGLlAGrqaxh3VfrqK2qJTkrmTlPzmHWP2fRdmBbxt853kyXYRiGYQSIRbw8qsry95ZTXVZNUmYSsfHbG6XK2kpGvzeavLI8/jD9DxR95KoJdx/dnREXjaDdoHb19g9FwGLjYsnqm0V6p/RmNWC1NbWsn72e4vXFpGWnseD5BXz8l49p06sNEx+cSFLrbTlqJRtKSMpMotO+nQKJyhmGYRg/Lizi5TDjFUZlSSWFqwopXFFIbU0tSRlJ9SJE/1z6T25acBO/7v9rru59NRvnbWT2Y7NZ8f4KADof1JnhFw2n434d65VoqDNg8bFk9WkeA6aq5C3Io2BZAanZqXz3+ne8f9P7tOrWiuMfOp6Util1+5ZsKCE5K5mOIzqa6TIMwzAighkvhxmvRqiuqKZ4XTH5S/OpLq0mIT2BkoQSDn33UFLjUnl/9Pskx26r25W/OJ85T8xhybQlaK3Sfmh7hl80nG6HdqtvwMq9AUtoegOWvySfTQs2kdohlRXvreDtX79NavtUjn/4eNKy0+r2K9lQQkrbFLKHZ5vpMgzDMCKGGS+HGa/voba6lpJNJRQsKSBnbg6Pb3ycu4fdzaSukxrdf+vqrcx5Yg6LpiyitqqWzD6ZDL9wOD2P7lmvXladAUuMJat3Fumd0xvt2txVtq7dyrov15HaPpXVn61m+vXTScxI5PiHjyeja0bdfma6DMMwjKAw4+Uw47ULLMlfwoB7BzAgfQDP9X6O+Ph4Elsn1hv9GE7JxhLmPj2Xb178huryalp1beWq4U/oU8/w1DNgoQjYbhqw0s2lrJmxhsSMRDbO28gbP3uDuKQ4Jj40sS7pH8x0GYZhGMFixsthxmsXOP3503l+wfO8d8F7jMwc6fLAVhaCQmLrxB2OCCzfUs785+Yz79l5VBZVkto+lSHnDqH/yf2JT95WDb+6vJqKwgpiEmJ2y4BVFFWw+tPVxCbFUrC0gKmTpyIxwnEPHEe7AdsS/c10GYZhGEFjxsthxmsnfLrqUw559BBO7Hci/z3zv3Xrq0qrKFpXRMGSAmqqakhslbjd1EIhKksq+ebFb5j79FzKNpeRmJHI4LMGM+iMQSSmJ9bttzsRsKoyX6urRinZUMKUK6ZQW1XLsfccS/bw7Lr9zHQZhmEY0YAZL4cZr+9BVRn16ChmrpnJ/Mnz6de233b71FTVULyhmPzF+VQVVxGfGk9CekK9pPoQ1RXVLHrNVcMvXldMfGo8A08byOCzBpOStW3UYciAxSXFkdk7czsDVlNVw9ov11JZWElFcQWvXfoalcWVjL9zPJ0P6ly3X53pGpH9g3LIDMMwDOOHsqvGS3IlEbgdGAdUAl9pjp4rudIeeBLoBVQAV2iOfuRfkwI8AhwA1AI3ao6+5LfFAHcBEwAF7tAcva+pv9+u0niSkgHACwte4NPVn3LF/lc0aroAYuNjyeiSQffDutP5wM7EJcVRvL6Ysvwyamtq6+0blxjHwFMHcsbLZzA6dzSp7VOZ8/gcnj3hWT6+7WOK1rm6YHFJcaRlpxGXFMfGeRtZ8cEKClcWUlNVg9YqG+dtpDy/nKqKKqZOnkrF1gqO/svRdaZL1UXBUtqZ6TIMwzBaHH/Gmae+mqODgBvC1n+mOdoHuAh4WnIlZOSuByo0R3vjDNt9kitt/LZzgYFAX+BA4JeSK/0j81W2xyJeO6CiuoKB9w0krzSPxdcspl1qu52/CGd6yreUs2XFForXFiMxQmLrxEbNj9a6oq2zH5tN3jd5SKzQZ0Ifhl0wjNY9WtftFx4BS85KZuuqrUisMOWyKRStLWLMn8bQa2yvus8v3VjqTNdwM12GYRhGdLArES/JlVRgDdBFc7S4wbZioKfm6Cb/fCbwS83R9yRX5gMXao5+7rf9B5iqOfq45MrrwOOao8/7bbcBpZqjNzXxV9wlfvR9rTvi3s/vZWnBUv581J932XQBiAjJbZJJbpNMZe9KClcXsmX5FrRGSWpdvyCrxAg9x/Skx5E9WDNjDbMfnc2i1xaxaMoieo7pyfCLhtO2f9u6CFh1eTVFa4uIiY9h6pVTKVpTxOG/P9xMl2EYhrG30AvYDPxOcuVooAy4CZgNxIRMl2c50M0/7gas2I1t+zep6t3AjFcj5Jfl88cP/ki3jG78bOTP9vh9EtISaNe/HW16tKF4fTH5S/IpLygnIT2BhLSEuv1EhC4ju9BlZBfWz17P7Mdns+ztZSx7exldDuniquGP6EhcUhzxlfFMuWIKW5Zv4eDrD6bfia4LNNS9mNYhjQ7DOpjpMgzDMKKLBGIkV1aHrblDc/SOBnvFA/sACzRHb5RcGQa8BQzG5WeF0zCZWvdwW0Qx49UIN39wM1vKt3DvhHtJikva+Qt2QlxSHK17tKZVl1aUbCohf3E+RWuLiE+JJ7FVIhKz7RzIHp7N+DvHs3nhZmY/Ppulby1l9Ser6TC8A0PPHcqcJ+aQvyif/Sfvz+AzBwNmugzDMIwWQCW1mqNddrLXClx+19MAmqNzJFeWAQMAJFfahUW9ugMr/eOVQA8gfNvUBts+b+R1EceS6xuwOH8x98y8h/077c+Zg89s0veOiYshvWM63UZ1o+vBXUlslUjJxhJK80qpra6fiJ/VL4ujbj2K0144jX4n9mPTvE1Mv346G+duZPhFwxnxkxGAN10bzXQZhmEYLR/N0TzgbVyCPJIr3YGewELgeeAqv/4AIBv4yL80fFtP4Ajg1bBtl0uuxEquZAJnAM9F4vs0hiXXN+C050/jhQUv8P6F73N498Ob7XNClBeWU7iqkK2rtoJCUpukRuttFa8vZv5z80lslciwC4chIvVMV/aw7B1W0jcMwzCMoNmNchL7AI8CWUANkKs5+rLkSgfgXzgjVglM1hx9378m1b9mP1zE7Deaoy/4bbHA3cB4/xF/1xy9p0m/3G5gxiuMT1Z9wqhHR3FS/5N4+YyXm+UzdkRVaRVb12xly7ItOy3ICmHdi9lmugzDMIzoxwqoOsx4eVSVQx49hC/WfsH8yfPpm9W3yT9jV6ip9AVZl+y4IGud6eqYRvZQM12GYRhG9GPGy/GjPwAhnl/wPJ+t/oxrDrwmMNMFEJsQS0bXDNI7pVOaV0rB0gKK1xcTlxhHYoZLxDfTZRiGYRgtE4t4AVU1VfS7px+byzaz5KdLaJvStknf/4dQV5B1+RaK1xVTU1VDq66tzHQZhmEYLQqLeDnMeHneXfYua4vWcs7Qc5r8vZuKyuJKyraUkZ6dbqbLMAzDaFGY8XKY8TIMwzAMo9kx4+WwsIlhGIZhGEaEMONlGIZhGIYRIcx4GYZhGIZhRAgzXoZhGIZhGBHCjJdhGIZhGEaEMONlGIZhGIYRIcx4GYZhGIZhRAgzXoZhGIZhGBHCjJdhGIZhGEaEMONlGIZhGIYRIcx4GYZhGIZhRIgWN2dSbW0tItJckzXGALXN9N5NhWlsGkxj02AamwbT2DSYxqahuTTGNsN7tjha3CTZzYmIrFbVLkHr+D5MY9NgGpsG09g0mMamwTQ2DS1BY0vGuhoNwzAMwzAihBkvwzAMwzCMCGHGqz53BC1gFzCNTYNpbBpMY9NgGpsG09g0tASNLRbL8TIMwzAMw4gQFvEyDMMwDMOIEGa8DMMwDMMwIoQZL8MwDMMwjAhhxmsPEZEY/1eC1mIYxu5hv1vDMILCjNceICJDgNtEJEZb0OiEkFk06iMiWSLSO2gdRvMjIj0AWtjvNi7scasgtfwQQmZXRDpFi5aWRkPd0fg9WoLGoLEb8Z7RC+iuqtE+7QMAIjJSRNoGqTdaf3wikgT8GbhURPoGrWdniEhi0BoaEnZDHSQivURkUNCaGsPf8P8gIl3886g8J8MRkQTgWBEZKiIjgb+KSFrQunYXERFVVRE5ErhVRNoFrcU/niQiRwSlZXcJ031E+PNoIkzj4PDnxjbMeO0Z04H+InJ50EJ2hm8tXwpc4J8H9T8P3ZyzRaR9QBrqISKpqloOvAB0As4SkX4By9ohPtIa+j9GzTyr/oY6EXgMuAx4XETGBCyrMcqBocDx0GJuCIlAPPAk8BRwj6oWtwTTGI4/R/YHDgMeVNVNQWoBEJFDgEuAuUFp2VXC/98ici7OgLcNUNJ2hN9bROR84Hcikh6gpKjFjNcuIiIHiMihItJXVUuA24Ce4oja46iq1cC3uBsOkY56icjw0OeKyK+AV4HXRWRyJHU0oqstrrs4U1WnAf8E+gNnRrH5Ohy4Eur+r1GBv6H+DpgAbAQqgLnR9rtQ1XycztEi0rYlmBdVLQJW46Ls64EWeSPzUbongHOBr/26wBoPInImcDdwp6rm+8hi1BJmFscA+wPnqGqeiETNpNOhe4uIHA90BG7w56/RgKi6MEYr/sbyZ1xr/j8ichGQBYwHekRjl6PPW8r2Tx8ChonIqRHWkAA8JCKvisi+wEG46FsOcIeI/DSSesJR1Tzgb0CGiExQ1Q+A+9lmvgLvdmxoDFT1XmCtiJzR2PYA6Qw8AowCzgDO9xGNY0Ska6TFiEgHERkvIrEiMkxEPhCRs/z/9HMgE2jrozDRcgzrEdZ9ux+wDjgUF1H8lYic4LUPjIbzdFdQ1WLgHFwE72a/rjpSxqGR//MyoCfOCKKqldHWUIB650GsT4u4DjgFOFBEYlW1JlCBYYhIjIikAs8BVwHVfn1U/saCJOpOtGgh7IQfgDNdl6jq+cAvcAZiMC6KdKGPegV+coVpPhRnIu4XkUtx/+dngYzw/ZobVa0ETgRS/ec/qapzVHUqMA64xUfBIkrYxb4MuAL4rYiM9+brPqAP7v/aP9LawvE316NE5MiwnJgZwH6h7cGpq0clcD5wA3CGqi4VkaOAm3A32ojhz+0rgJ8AY3HRlddxv9XpwGigN87AxEfRMawjlIMkIsfhGk37qOocnP5PgCtE5A84s9smQKk7JPxaJCLniMjJqjobOA6YKCK3AUTCOISOp3/cXkSyVXUG7vw4SkT+6LXURpP5CtcNxPu0iDOAt3Dn8YCgtIVopHFYgovOKvBbvy5qGziBoaq27GDBmYMHgdP88zj/NwlnJm4Cpgets4Hmo3Am51i/fIybdysP18rrFQEN0uB5Ns4wfNJg/dHABtzNQ5pbV4PPHgO8hjMGvwXeBI7120YD/wH6RMH/8xfAl8DTOGNzCLASGBGQntA0YwOBvkAy0Mofvwf8sRsLzAFOCEhjK+BPwL+AY8LWj8e1xN8HPgKSg/7/fs93OBxnGvv75x2BfXD5XucCU4AJQevcyXc4Fpjn9dYC1/j1g3Hdpn+PsJ5rgf8Cs/y1OxnXbbcIuCPo49VAq4Q9vgx4FPij/22l4fJS7weGR4nGc4BfAxf7a2o2sBnXlRv48Yy2JXAB0bzgWhe1wO3+eaz/GxO2zwxgv6C1ei39gVuBfcPWZQHd/Y/2DeD0ht+hiTWE/xivAa72j7OBL4AXGuwf8ZsfLvrxL+CQsHX/B0wFjvfP2wT0PwwZmzZsM/rt/Q1iOi4XrRK4rDn/jzvReJy/WX2Jy5MZAHTAGa8XcMb/uIbnQ4Q1JgG34PKKTgwdy9A5h+tynByEtl3UfxVwJzAcZ7jf9teiMX57fJDHdxf0d8GZ2564Rs4sIDts+zBgdAT1XOF/PwI875cYv+1gnMltF23H0+t+FzgQ15i5069v46/ndwEJAWucDHwInIDrRQgZ7M7+nL0t6OMYbUvgAqJpaWAaQj/KM4Ea4KRG9jkYWAp0Clo30BpYDswGhvh1MQ32uxF4IkKargFm4lvsfl028AEBRgn9cboN2Aoc1GDbn/wNrl1A2kLG/gTcIIQX/fnX3q+P8RezHGAJwZjW/sD/cN11g4G/41reg8P2SQ+dlwHoGwbcjosOhczXY7iRjLFh++UCNwZ1Hn6P/qH+7yHAK8AC3Mi7DOBXwNX+tx1VBqGR79EZl0N5BvAp0Nev/wlwRNh+EfkeuEEVmbgcqWlsM66D/N+koI9ZA72Ci3I+g2s8X4IzWnF+SfbnROeAdfbHRV/TcPm704BYvBnEjRbvF/TxjLYlcAHRsrAt0jDBX6wfCN2AcUP4y/HRorDXDAK6Ba09TM/huBGM19O4iTzXG4uUZjx+gmvtvhNmGOLD9uuE65bqEun/bdjzPriuu+dp0PUK9A7g/5YW9vgEXGSwq7/xzsV1N3Zq8JqXG2qPgM4+uC7Yl8PWDcV1ZT/CtmhMYKYAZ7ymAH8BeuDM1824KNyJfp8efp/BQencgfZkXGrAU2HPO/rHBwDzgcOD1tmI7u2MIK5LdAZulGtrv+5Af30a3dx6Gln3uP/sF8PW/QyXbpAc5DnbUHfY32RcfvEjuDzFkJm5Ch9VCnrBRTRvxzUGp+Ibg/6aNT5ofdG6BC4gmhZcF8os4Ahc5Og7oKffdgkubNqBALp3GtEa+nEOwbWOO/vnh+OicD+nfgs/za8b0lxa/OO+/mY3HxjQQOsh/m9sU2vYBY2j/YX2Sq+vC/APXH2kvgH+H/v6G9QluNyku3DdSyf4m/DP/bH8HdDVv2Y8Ls8rYpFWf8wScY2SD4GT2NYVOtwfy0ERPnbh3YcZbItiDMWNrPobLmqQjDNiQ8P2bxXU/7zBd2hoWPrhctCeCFt3LM40TAxa706+y2hcRG6y/3+cgDO4j+LylGZH4juEXW+6hl2/98d1ff7GP/8J7lof0XN2F/Wnhb4HLlqbD6T6dWfguhwHBKCrscZ8Aq7bfm3YtjNxDcbAc2SjdQlcQLQsuK6TqbjW8Mm4fIB/AyvCfryBhnUb0TzBX5BvxyUyHuXXH4ZraV7fYP8mNzwNfoyXeZOQjRuUMJlthvB8fB5FAMfpCH8huB3XclyEGxzR3et8loASrYHTgBJ/gb3GH7sO/mLWxe/zBq7bsYd/PiB0TkZIY6j7rpe/0N7ib6YnsM18pUVKj/+8bFy0op8/Hv/GlbMIN18LcLl8+4TdjCNu+nfhuxxAWOTcH+cPgHv980MIy0eMlgVnbN4OO0dW4NIZFuCioGNxgzD+ieviO6qZ9RwU9viXuAbNcn/ujvPn6xx/3nwADAz6GHqtndhmtq7E3YceAi7Cma/3cb0EL/nrQsQjtYR1xeJM6524xuAAnKn9wuu7wz+OOkMbTUvgAgL98vVNQ4a/WO/nf5xdcRGIzbiRd8lhN5loCEuPwrUge+GShzfh6v2EkpqPAI6MoJ6ROPPQwT+/ABcin+kvfPMi+WMMu9EOw+VLhUc7nsQNyRZ/0Yho67HBeTfQX0xvx0VoLvX/00dxjYEDcF2i+wV17vH93XcnBajrJX9DGojrOn4SV+olyW/PwXWtR23LG5cPcz/OJIQimjHAhUAxcH/QGneifw7wFfB7tnU1Z+OMwz8irOVzf9MfgTPimThj/qA/d2NxUdvWQEbQx85r7uG1ng+ch4vKHY2LdL+K67KLwUUTDyWAxr8/nm/gcs1O8//zC3CN2PtxAYD2uBzEcwggXaOlLYELCHrBJcifz7b+89Pxw5z9if5zYGTQOhvRPRHXzTge+NKvuxM3qmR82H7NekPEmZcOuJyjZfg8Gr+tH67Y3ym4WkSROC6JYY9beYNQjh+t6Nf3wI2+CyShlgY5dv6C9ZT/+xguovQWLs9wLTAugtr2uPsughrDRxU/7W9QA4GHcRGuCcAxuCjhgUH8j3fxe4QSu9vgRoe+jY98ef25wGFB69yF8+R/uGKZx4at2wcX/Y7owCNcdCgP36Xo1/XARePOCPq47UDzb3E5aE/hy58AKbjSQK9F+hjuQON0XCPndrYNAOmIG5B0X9D6WtoSuICgF1zL8hvgbFyL6CBcLtcduKk6IhY12kW9vcIuzqHW8nj//Cx/8R7VzBoaS14d4m969cpZRPjY9MWF6X/pjYHgWmL3+QvY/n6/I3Hdnp0a+y7NrLGfP6+uw+e74CJbf8QZ2Ku9obkT2JcI1ulhD7vvAvpfNzRfr+HM1x3+BrYIH/2NpoVtkdheuGKoD/nnGbg8uaW45OlFwMHhr4mWJew7hA+aeROXM5Xon4/ARaCaNbUgTEu4EZwOLG+w39+JIuNFg1HnuMjW1/563tqvSwLeI4DGTZiu8Dzh/+BM7els6/3p4//PHYI+pi1piZoqvZEirKJyDICqPo6LMFwLnKuuovFoYA1wnqq+G4zS+vji+G1wN5bLRKSXuqrPvYCjReRoXI7Vz1T14+aqFCwiMRq6coicJCKTRWR/VZ2LMwxdgEl+mqVIMwBXM+g6XPTjfpwBuxd3cXhZRP6MS7L/raquDX2XCJKCM3xHAqeKyItAW+BUXBL1g7ju7dbABnXVviOCqq4HqnAGQHANkMuBfUUkSVW/xkW9OuEuyJE+duFaa8N+w+fgyoPchjt+PwGOVtXXo61itqqqiJyIOydXACNF5BFVLVTVa3BRzr643/GnodcEp3h7/Hc4BrhW/JyrqjoW1zW6zFfVvx74szbjZNgNKrt3FJGBXssxwCoR+VxEThCR03F5u7OaS8vuENLtz+H2AKp6O66B2Bo4R0SycLm6GTizE2mNod9WjZ8GCFU9HTda/UJcYxFcY6cK16tg7CpBO78gFlwr/jb8SBG/7nxcNeXLicIE3DCdx+C6yX6P60obgssLmA5MiqCOa3D1eXJxXYzX4UzOIFwZhBzCuv0ipKkNblTgOJyxuRkXXfqLP145uG6RM/z+gYxOxXVvf+v//gEXodvItuhHK3wifQQ1tcjuuwa6/4VLmg4NaY+qSJHX1BOXIxOqSH+AP9b3h+0TylGLOv1hmtfgig5vBh4O2/Yuzih0j9R3wDWkPgQW+3NguF8/Ddd4uIIIpTrspu6r/DX0njDNV+PyYj/C5VAGWvIE15h/kPpdty/j6gjej2uIDQv6WLa0JXABgXxp15WyChfpSmFbuPoVXHJmx6A1NtA7gPrJ4Uf6i/Wfvf4Ytg03bpYLHa5MxVn+8Th/wUjEGbCvcV18N+BGvfUnoLwEnPF6M+x5IS6Csx7XBfV7XLfIsID/p2P8BfYg/3wkrkEQWKkSWm73Xbju/wF3B63pe7QOwFX8z/bPE/3vZglwV9D6vkd36BrZClfSIDSCOhvXaPhn2L4RM+a4SHFo4vNsXBd9uBGcQpQke1N/UM3h/vd/OK5I6j/xhWWBn+IaPG0D1ngcroF4Fi7X9O6wba/i0loCmeGjpS+BC4jIl6x/0WjtH/fDJX/e6n+0B+Ec/AFB622gub0/yR/HVQoPrT8bKMIN6W3ygqgNtLTDdSPMwo26G4QLgV+Or0KPiyZtwrXighjhFjouKbhRgFfhSkj8yq/viss72ccfs4gVcP0ezUf6c7BZc/J2U1ND8zXF/1YS2JZbGHWRGLbVFboSZ74Dr7XXQN8QtkXi/uV1hgo0j/fXoVcIcO69XfgOJ/rf1ndefyjPpwNuUE9EZsVooOkSXNpA6HkbYCFwZdDHq4HOcEMzFJfOEpqeLGQYH8J1kQNkBqyxK657NpQX2wPXwL4rbJ/Ar6EtdflR5HipqorIybgJUt8TkRNUdSHuxBqDy6t4CXhFVT8PTuk2vOZxuNbPtbhuvKtwF3BwJugtYIqqljaznGJc9+ZinHE5SlULcd0mT/h9vsPXm1L/q4wkYZ9Zg4tu3Q78TVX/4vPSVqnqV6q6FPirqq6OtMaGqMsfnAw8IyKHBq0HGs2dKsC1xmNVdWWDvJqowetOwSX7PqSqtUFrCiEirXAjVp8UkThcV83BwD9E5BqcUfwvbg7OtKB0NkZYTuxgXLT4EVzC98VAf38+bMDdmP/VzFqyRaSzf3y2iKTjEtDPCu2jqgW4JPCCcP1BEv6bEZGrcQ3ph4CrRKSnutzKm3E9FyeKSLKq5geo8Re4gTUPAUeKSCtVXY6bdusUEbkNIBquoS0VicJraJMROplEpCdumP4fcRfmP+KSV58RkXa4+iRxqjovQLn1EJFh+CRxVf3Q67wPl8SYhwtRX6uqH0RIzwW42ef/DXTD1e4Z5PXU4PI+LvLGJlBEpC/OBE5S1a+88YqaG3FDRGQMUB2p/+WuEH7MROR/wHeq+tOAZe0UEYlT1eqgdYQjIrG4enFXARW4nKMhuLy5jrhrUwzO1ByvqisDktooInIALsL1rare5tf9A/ebvxKYHXbTbjZjLiKjcIMSpuOKsx6tqptE5E1cr8VkXB3Gq3H15b5rDh17iogchzOJ1+KM9zjcoJAHVXW5T6iP80Y2KI1jcY2EC3G5c31wx/xjVS0Rka640ayBX+dbMnu18QIQkdG45Or7VPUJv+5sXD2iX6lqs7bS9gQR6YDTty9uip/QDTATl9PQFfdDeKMZNRyD6058X/3IJBG5CZfb1QfX/RSHy+9oh0sOnttcenYXEXkAl8f3V1WtDFrPrhBt0aSQ+RKRK3F5e9dGs4GNFsIafMNwN6kvvPkahisbkI+bVaLCR2Qm4Aap/ETdyNGoQkSOwJVjWAr8QlVX+PUP4wzlYapa1IyfHx6NeQ1XYPRMVX0lbJ/HceV1WuOu6wuaS8+eICKDcEnqy1X1XL/uRJz5qsFF51cEKBE/Mv4qYIaq/tmv+xOukfAQ8K6qlgQoca/hx9DV+A3OJJwbWqGqzwC/Ae4WkeyghIVoJBy+FZdLUY4LQQOgqvmq+pCq/l5V32jGkhEZuBFBjwG/EZF/+LB+G5wZvBeXR5GMG9F4VTSZLs+DwHstxXRBVJYNiNruu2hERBKhLk0gDZeHmSsi+6or/TIXN//mCcDDYaVZNuIGrkSF6QrrXuwuIq1V9X1cRfJ2wOk+6oGqXgKcE0HTlYGLZN8B3B/ePa+qF6rqecBp0WC6Grk2b8J1MQ8TkfMAvHF8F1d8tiyyChvVWIYrIzNSRIYDqOpvcYb7vMiq27vZ6yJeYa3NeFxrs1REOuIuev9R1clh+3ZS1bWBiWW7C8uBQDqu2+l9ETkWV5NonqrmRljXIbihwv+HSwIvxkXAxgEH4oaRnwW8GvQxNJqXaOy+izZ89/aduPynf+AaTZ1x3V+9cRGNmSJyJC7C9YyqfhWM2p0jIsfjRlsuxM1reg1uhGsOrmTH45HM+RORa3GDi65V1a0iciOuK2wMLln9ZJw5rA26AdPgmj4B171crKozROQqfEkgVX3K75OmqsUBajwQZwy34nIMb8E1qF9QX0dQRNppM9Zk+7GxVxmvMNM1EfcjjAeeUtX/+qTML4Bpqnph+P4B6s0GrlbV34nIwbhE9U9w/f9vqepV3nxNBuao6u8irO8I4K+4kUNxuKHwo4FbVHVZ0MfPMKIF3230HLAFN8x+K26kYgYuKXkSLoH+HOByH0WKSkTkcNzv/gSc+dofOEVV80XkMNz3Or+58nwaXlfEFWk9D7hQ3aCo0Ppf4gzhGuAKjWCx4V1B3MCJM3HnxZ24UdXrcSbxTFx6xnOBCQRE5Ge4Kd1m4UraHI+LcF+BG6DwSBT2ZrR44oIW0BSEWuTedB0H3IQr/PZL4CURuURVH/VJovNF5G+qOi8KTMNAYIiI3Isbkn2Kqs7zSZazRGS9qv5RRJJwLZCI4qNuN+JGK01W1adF5JVQ6ywKjp9hRAsf4Lq3p+JGJx6F61Z8BpdreDtu4vprotF0NTA7w3CFfffHDeI53ZuuQ9QN9JmoqluaS0sj15XDcPlvC8XNoFAuIrGqepuIvAIUqOrG5tKzJ/jI5km4//l1uBHo89RVgv83rnvxk+AUgoicipu27AgReRBYhzuWn4pILW7k6vogNe6ttPgcLx81ellE+olLSj/DL91woxWvBO4TkQvUDX9tr9EzevED3EjFBFxraA2Aqm7GtTj6+v1eCao1p6rv4CYKv09ERkc6JG4YLQF1ZQzAJZ+/66PTrXB15XJwUezfqer0oDQ2hs/hC+Wl9ferFdeN93Nc7tlyERkP5IhIx+Y0XSIyWkSuF5HbROQ6nzeXiKt1hqqGpqY5WUT6qurCaDBdjeRLJeIKNV+FM+HHe9M1GVfs+mFVXRWERvHlYnA1Iu/ykbmeuAELNeLKLc3ANRKse7EZaPHGS10NlGpcwndr3OigGNyM75NV9UFcF+NjvruxGoKt7xL6bJ838xauOOom4GYRSfC7tQay/YUx0MiSunpTNwC3iEhykFoMI9oIu5b8GigUkatEZC6uS/4aXImDJ6P0JjZJ3OCZMcCr4srWvI/Lm/oAyPdJ7H8G7lHVdc0lxPdWPMS2emYnAvNw1dNTfb4UInImriRQ1OQdhuVLHeaNzVrgAuBUVR2nbgTrBbip6SJOg4hmZ/+3GtcoOAo4VlUrReQyXH2xNqpaEYTWHwMtOsdL6tcaegp3Ql2K67b7naoeKyL74SYffilKRrvE+lbFaJzeFFX9p39+Oa6uT2ii37tUdUpAUrdDRFK0+Yu1GkaLxEdn/oa7Bl2uqk9IlNeQAxCRDbio+7Gq+plfdxguz2sDLrn+LlV9rbnyOkVkX1wu1AWq+knY+meB03EjGUcApbjejLNVdX5T69hTvPlOwQ1GuElVHxaRe3DpPCtwOX8/wX2/iPa4NEikvxzX/XkhrkflGdwMFR/jBoFcE4TGHxst2njBdubrSZyZ+TluFvUvcDVILlfV1/0+gSSEi6v+u9U/nohrsd2MO/FzcBe5w3C5IPk44zjDEtgNo+UgLah4r4jEq2qVuJp3Y3EDeE4O294WZ3TSVXVDc16LRGQSMEFVLxY3Ir1Gt82i8DJuEuzncIVS10VL92LD4+GjcROAi4BeuDy5cbg0kqeCbPyLyKW4RsHZqrrYrzvca03HRRpvMdPV/LR44wXbma9ncK23m3An/nrfXx0YItIPN0T3BqAKN3rxTNykyL/A/RBW+n2PAVar6jcByTUM4wcgUV68N2QYQsYqFMUWkdnABlUd57sXh6jq/ZFo/Pncp/GqekJY123o77+Br1X1T82pYU8RkaHqa7CJK5R6Pw1qGwbZgPbHMxV337ldVT/xKS1V/jwIFUq2Ho0I0eJzvGC7+eXOxtVN+Tvwpo8aBfY9vel6Cnhd3fDrWFxR1xNxoy4vVFcP5zwRGauq0810GUaLJqqL9/qb7Ym4yNznIvKQj9SNALqJyNu4kczrQ/tHQNYM4EgROSX883yD+jvcNGmB5uY2hogMAO4UkXfElQRahIvQ/UXcaHQg8iPAwxLpQ4YvNLVbit8lZLrOwk39hJmuyLFXGC9odHLfatxUQaEfb8TxF7MXgHvVlbOIwYWd++AiXRep6mLfuvwVYNMxGEYLR91k7B8HrWNHiJu79mzciO+TcJGla9UxAHgY11X6cqSMjqp+iUu9+KWITPJaasVN7zYJV+E98BI2jRyPhcBE4HNcju7HuPqRyUCXyKpzNIiudRE36XY1sBw3MrW1N12nAD/FzZxgRJC9oqsxHImi+eVEZH9cJes+qrpO3GSuX+NG6hyFG634CW5S1xujKZHeMIy9D39NmoabmPk3fl1H3Ojq+1X1ngC1tcYVa87BRcA242qKnaZRUMSzQZL6xcBwnGl9TFW/FDfi+zRc/av+wIEa4PyL4qrkT8TVgKxQ1WtF5FXc1G8bcXP+XhwNx/bHxl5nvKCuNs3NuKq7gY58EVdI7x6gEDex9Q1+/VG44oRbga9U9R1LpDcMo7kRkXdwxqBHqDtURG4AylX1H4GKc1qG4AZFbQa+CeW/BkkD03UZrs7ir3GjA4txEbl/h+XOVWsz1jvbGSJyEW5+4rNwXd81qnqq3zbC77ZBbbq3QNgrjRdE1/xyvu//ZWCsRslEuIZh7P2EJdL3AFqFJYG/jZvO6De4/J+ncKkPbwcmNkoRkZFAd+B1oBZ4EfiLqr4nIqF5LPfFTRheFaDO8EFmf8GViTgICFWorxI3e8uXQfUCGY69YsqgxogW0wWgbgqGs4CnReRKVf0oaE2GYez9eNM1Efg9sM53h/1cVY8SkWnAFJz5OklVZ1nUvVGG4koUKTAdN4dhIoCqloir1/Umrn7k6kiLE1cD8nDc4IT3gZm4JP+/4waajffnwRW47zIfVybECIi9Jrk+2lFX/f1q4CmfTG8YhtHkhI/iFlcI9fe4Ca+nAm1xXXio6jhcF9mZqjorAKktAlV9CLgLuB44FJc2covPjQMYgzNlEZ9OTUSOxXUlrsTlE6fj0mwuxZWQuB1I8g3/y4D7bPRi8Oy1XY3RiripOapV9YOgtRiGsXfhyxtcB1ynqkU+2lWES6j+DXCGqi4TN+/qe/41c4GNqnpUULqjDV9YNB1XP2yVX3cBzrz8HzAZN8vIKqAHcGmk00jEzZ95M/BT9dX+xU35dAKuSn4ibiRjBi7I8jO14qhRwV7b1RitqJt0OtCCeoZh7H2E1Qx8EVdEGlxJg1xcLaxxqlrgB/b8TUTOVDfJ9BAR6R6M6uhDRDJwkUABXveDtR7DdTOm4EoB/dVvzwc2a+QnvM7AlSr6jbqCqLGqWqOqm0TkdWAwrrvxJa+zQrdN5G4EjHU1BoSZLsMwmgoR6QQ8j5vI+hZV3ew3PQr8FygDYkTkBFz30+9VdaGIxAEEWfYg2lDVQlyX4hqc4XoXl6Q+A9gHN73S80Cmqs6OtOkK03gCcL6IHKaqNVDXoF+Pu7ePVtUNqrreTFd0YREvwzCMlk934HNVfczneF2Iyz0aCTyEKx/xDG7Kst+o6lR/k46aQUjRhB8QdT4usjVZVWeKyENAGm6+yD64eoxBanxHRK4HHhCRy1T147AG/Tpc/S4jCrEcL8MwjBaOiAzGjWb7BXA8LtH7O9wN+Fxcgeb3RCRNVSOeBN5S8XUY7wUuC41G99XrE1S1IlBxnrBakZep6se+2v/vcCNVFwWrzmgMM16GYRh7ASJyLnARboTbrcBqVS0VN2n3LFV9KLzWk7Fr+HINd+KS098PVMwO8Br/hitrMQa4xBLpoxczXoZhGHsJIpKkquVhz0fh5l78iap+Gpyylo2IjAVuAo5S1bKA5TSKHzH/BG4QxYKg9Rg7xoyXYRjGXoaftuYw4A+4bsbXA5bU4hGRlGivgeUnxI5KY2hsw0Y1GoZh7EX45PouwHm4RHozXU1AtJsuADNdLQOLeBmGYeyFiEgbX7fLagYaRhRhxsswDMMwDCNCWFejYRiGYRhGhDDjZRiGYRiGESHMeBmGYRiGYUQIM16GYRiGYRgRwoyXYRiGYRhGhDDjZRg/QkRkfxF5+ge+x3siMnE39u8hInm7sN9wETn9h2iLBCJyk4gkhD1/XESuDlKTYRjRjxkvw9jLEZG4hs9V9QtVPScoTTthOBD1xgvIARJ2updhGEYYZrwMowUjIk+JyBci8rWITBGR9iIyWkRmi8jdIvIpcLKILBeR34rIu8ATfp8v/Hs8LCK/CHvPfURkvYjEi8hRIvKpiHwlIvNE5KLd1HeViCwWkQ+BS8LWx4nINK99vog8LSIpItIeN83N0f47POD3P0BE3vH7zxKRSTv53MdF5AEReVtEVojIXSJypIh84I/FdWH77u+/49ciMtPPb1gXoRORP4jIl/57TPDbHvAv/8TrbO+fDxSRt0RkkYi8FB4RMwzDAEBVbbHFlha6AG3DHt8I3AOMBmqBQ8O2LQceZFvR5NHAF/7xIcDcsH3/ANzuH7cBYv3jTP8+Hf3z94CJ36NtKLAW6OCf3wfk+ccCZIU9vh+43j+/EHgh7H1aA7PCPrctsALI/p7Pfhz4CEgEUoCNwKO4xmZnoBhIw0WsVuImFgY4FFgHpAI9AAVO9NvGAwvDPkOBtAaf+QmQDMQCHwNnBX2O2GKLLdG11OuCMAyjxXGOiJyHMxjJwHrgBWCRqn7UYN/HVHW7qSpU9RMf3dof+BI4HwjlbmUBj4hIX6AaZ3oG4czJzhgNvK6qG/zzh9jWhSjAtSJyHBAHZAAf7OB9DgH2Af4nIqF1AvTz33dH/FdVKwBEZCEwVVVrgTUiUoCbzzAeqFTVaf5YfCQiG3GmcR1Qoqqv+Pf7FOi1k+/8kvr58kRk5i7sbxjGjwwzXobRQhGRQ4GrgUNUdZOInAD8n99c3MhLGlsX4nFcpCkD2Kiq8/z6B4DXgEmqqiIyC0jaVYnfs+1s4AjgcFUtEpGfAod/z/t8rao72r4jysMe1zTyPM6/d2PzpoXWNXxN7G5+pl1jDcOoh+V4GUbLpQ2wFcj3uUSX/4D3egI4DbgCeKzBZ6zwputwYNhuvOe7wISw/KeLG7zvZm+60nGmL8RWnAEM8QnQR0TGhFb4kY9NkT/1LZAYem8ROQRoD8zdhdcWNdBpGIaxU8x4GUbL5X/AYpx5mAbM3tM3UtV1wBe4LsZ/h226EfiriHyGM0czduM9vwZuwSWgf4TL9wrxJJAmIguAl4APw7a9DaSKyBwReUBVC4Djgd/7dQuAP9ME1y9VrQQmAX8Ska+BO4HTVLVkF15+O/BOg+R6wzCM70UaSfkwDMMwDMMwmgGLeBmGYRiGYUQIS/w0DOMH4WtajWxk08GhEX7N9LnDcYMCGvKEqv69uT7XMAzjh2BdjYZhGIZhGBHCuhoNwzAMwzAihBkvwzAMwzCMCGHGyzAMwzAMI0KY8TIMwzAMw4gQZrwMwzAMwzAihBkvwzAMwzCMCPH/J3lTKGhL/q0AAAAASUVORK5CYII=\n",
      "text/plain": [
       "<Figure size 640x400 with 2 Axes>"
      ]
     },
     "metadata": {
      "needs_background": "light"
     },
     "output_type": "display_data"
    }
   ],
   "source": [
    "ordered_months = [\"January\", \"February\", \"March\", \"April\", \"May\", \"June\", \n",
    "          \"July\", \"August\", \"September\", \"October\", \"November\", \"December\"]\n",
    "d['arrival_date_month'] = pd.Categorical(d['arrival_date_month'], categories = ordered_months)\n",
    "\n",
    "\n",
    "plt.xticks(rotation=45)\n",
    "plt.tick_params(colors='purple',axis = 'y')\n",
    "sns.lineplot(x='arrival_date_month', y = 'ppp', data = d,color = 'purple')\n",
    "ax2 = plt.twinx()\n",
    "ax2.set_ylabel('Guests Per Month',color = 'g')\n",
    "d.groupby('arrival_date_month')['arrival_date_month'].count().plot(kind='line',color = 'g')\n",
    "ax2.tick_params(colors='g')\n",
    "\n",
    "\n",
    "plt.show()"
   ]
  },
  {
   "cell_type": "code",
   "execution_count": 22,
   "metadata": {},
   "outputs": [],
   "source": [
    "# Fill nan's in the `agent` column with 536 (original range of codes for `agent` is 1 to 535)\n",
    "d['agent'] = d['agent'].fillna(536)\n",
    "# Fill nan's in the `company` column with 536 (original range of codes for `agent` is 6 to 543)\n",
    "d['company'] = d['company'].fillna(544)\n",
    "\n",
    "# Assume no children if `children` is nan\n",
    "d['children'] = d['children'].fillna(0)\n",
    "# Assume no babies if `babies` is nan\n",
    "d['babies'] = d['babies'].fillna(0)\n",
    "\n",
    "# Assume country is PRT if `country` is nan\n",
    "#d['country'] = d['country'].fillna('PRT')"
   ]
  },
  {
   "cell_type": "code",
   "execution_count": 23,
   "metadata": {},
   "outputs": [],
   "source": [
    "# Compare whether assigned and reserved rooms are the same\n",
    "d['assigned_vs_reserved'] = (d['assigned_room_type'] == d['reserved_room_type'])"
   ]
  },
  {
   "cell_type": "code",
   "execution_count": 24,
   "metadata": {},
   "outputs": [],
   "source": [
    "d2 = d.drop(['arrival_date_year','arrival_date_month','arrival_date_day_of_month','children','babies','reserved_room_type','assigned_room_type','agent','company',\n",
    "        'required_car_parking_spaces','n_guests','weekday_diff','cancelation_ratio'], axis=1)"
   ]
  },
  {
   "cell_type": "markdown",
   "metadata": {},
   "source": [
    "## 3. Model Fitting and Tuning"
   ]
  },
  {
   "cell_type": "markdown",
   "metadata": {},
   "source": [
    "*In this section you should detail your choice of model and describe the process used to refine and fit that model. You are strongly encouraged to explore many different modeling methods (e.g. logistic regression, classification trees, SVC, etc.) but you should not include a detailed narrative of all of these attempts. At most this section should mention the methods explored and why they were rejected - most of your effort should go into describing the model you are using and your process for tuning and validatin it.*\n",
    "\n",
    "*This section should also include the full implementation of your final model, including all necessary validation. As with figures, any included code must also be addressed in the text of the document.*"
   ]
  },
  {
   "cell_type": "markdown",
   "metadata": {},
   "source": []
  },
  {
   "cell_type": "markdown",
   "metadata": {},
   "source": [
    "## BASELINE MODEL"
   ]
  },
  {
   "cell_type": "markdown",
   "metadata": {},
   "source": [
    "Below we have created a baseline logistic regression model which does not contain any of the newly generated features. The only columns that have been dropped from the original dataset are 'country', 'agent' and 'company'."
   ]
  },
  {
   "cell_type": "code",
   "execution_count": 461,
   "metadata": {},
   "outputs": [
    {
     "data": {
      "text/plain": [
       "['is_canceled',\n",
       " 'hotel',\n",
       " 'lead_time',\n",
       " 'arrival_date_year',\n",
       " 'arrival_date_month',\n",
       " 'arrival_date_week_number',\n",
       " 'arrival_date_day_of_month',\n",
       " 'stays_in_weekend_nights',\n",
       " 'stays_in_week_nights',\n",
       " 'adults',\n",
       " 'children',\n",
       " 'babies',\n",
       " 'meal',\n",
       " 'market_segment',\n",
       " 'distribution_channel',\n",
       " 'is_repeated_guest',\n",
       " 'previous_cancellations',\n",
       " 'previous_bookings_not_canceled',\n",
       " 'reserved_room_type',\n",
       " 'assigned_room_type',\n",
       " 'booking_changes',\n",
       " 'deposit_type',\n",
       " 'days_in_waiting_list',\n",
       " 'customer_type',\n",
       " 'adr',\n",
       " 'required_car_parking_spaces',\n",
       " 'total_of_special_requests']"
      ]
     },
     "execution_count": 461,
     "metadata": {},
     "output_type": "execute_result"
    }
   ],
   "source": [
    "d3 = d.drop(['agent','company','total_stay','weekday_diff', 'cancelation_ratio', 'customers_lead', 'ppp', 'assigned_vs_reserved', 'n_guests', 'family'],axis=1)\n",
    "\n",
    "list(d3.columns)"
   ]
  },
  {
   "cell_type": "code",
   "execution_count": 467,
   "metadata": {},
   "outputs": [],
   "source": [
    "y = d3.is_canceled\n",
    "X = pd.get_dummies(d3.drop([\"is_canceled\"], axis=1), drop_first=True)"
   ]
  },
  {
   "cell_type": "code",
   "execution_count": 468,
   "metadata": {},
   "outputs": [],
   "source": [
    "X_train, X_test, y_train, y_test = train_test_split(X, y, test_size=0.2, shuffle = True, random_state=1)"
   ]
  },
  {
   "cell_type": "code",
   "execution_count": 469,
   "metadata": {},
   "outputs": [],
   "source": [
    "from sklearn.linear_model import LogisticRegressionCV\n",
    "from sklearn import preprocessing\n",
    "\n",
    "scaler = preprocessing.StandardScaler().fit(X_train)\n",
    "X_scaled = scaler.transform(X_train)\n",
    "\n",
    "model = LogisticRegressionCV(cv=5, random_state=1, scoring = 'roc_auc', verbose=0, max_iter=1000).fit(X_scaled, y_train)"
   ]
  },
  {
   "cell_type": "code",
   "execution_count": 471,
   "metadata": {},
   "outputs": [
    {
     "data": {
      "text/plain": [
       "0.8629003882099499"
      ]
     },
     "execution_count": 471,
     "metadata": {},
     "output_type": "execute_result"
    }
   ],
   "source": [
    "model.score(X_scaled,y_train)"
   ]
  },
  {
   "cell_type": "markdown",
   "metadata": {},
   "source": [
    "## OPTIMIZED MODELS"
   ]
  },
  {
   "cell_type": "code",
   "execution_count": 25,
   "metadata": {},
   "outputs": [
    {
     "data": {
      "text/plain": [
       "['is_canceled',\n",
       " 'hotel',\n",
       " 'lead_time',\n",
       " 'arrival_date_week_number',\n",
       " 'stays_in_weekend_nights',\n",
       " 'stays_in_week_nights',\n",
       " 'adults',\n",
       " 'meal',\n",
       " 'market_segment',\n",
       " 'distribution_channel',\n",
       " 'is_repeated_guest',\n",
       " 'previous_cancellations',\n",
       " 'previous_bookings_not_canceled',\n",
       " 'booking_changes',\n",
       " 'deposit_type',\n",
       " 'days_in_waiting_list',\n",
       " 'customer_type',\n",
       " 'adr',\n",
       " 'total_of_special_requests',\n",
       " 'family',\n",
       " 'total_stay',\n",
       " 'customers_lead',\n",
       " 'ppp',\n",
       " 'assigned_vs_reserved']"
      ]
     },
     "execution_count": 25,
     "metadata": {},
     "output_type": "execute_result"
    }
   ],
   "source": [
    "list(d2.columns)"
   ]
  },
  {
   "cell_type": "code",
   "execution_count": 26,
   "metadata": {},
   "outputs": [
    {
     "data": {
      "text/html": [
       "<div>\n",
       "<style scoped>\n",
       "    .dataframe tbody tr th:only-of-type {\n",
       "        vertical-align: middle;\n",
       "    }\n",
       "\n",
       "    .dataframe tbody tr th {\n",
       "        vertical-align: top;\n",
       "    }\n",
       "\n",
       "    .dataframe thead th {\n",
       "        text-align: right;\n",
       "    }\n",
       "</style>\n",
       "<table border=\"1\" class=\"dataframe\">\n",
       "  <thead>\n",
       "    <tr style=\"text-align: right;\">\n",
       "      <th></th>\n",
       "      <th>No. of Missing Data</th>\n",
       "      <th>% Missing Data</th>\n",
       "    </tr>\n",
       "  </thead>\n",
       "  <tbody>\n",
       "    <tr>\n",
       "      <th>is_canceled</th>\n",
       "      <td>0.0</td>\n",
       "      <td>0.0</td>\n",
       "    </tr>\n",
       "    <tr>\n",
       "      <th>hotel</th>\n",
       "      <td>0.0</td>\n",
       "      <td>0.0</td>\n",
       "    </tr>\n",
       "    <tr>\n",
       "      <th>lead_time</th>\n",
       "      <td>0.0</td>\n",
       "      <td>0.0</td>\n",
       "    </tr>\n",
       "    <tr>\n",
       "      <th>arrival_date_week_number</th>\n",
       "      <td>0.0</td>\n",
       "      <td>0.0</td>\n",
       "    </tr>\n",
       "    <tr>\n",
       "      <th>stays_in_weekend_nights</th>\n",
       "      <td>0.0</td>\n",
       "      <td>0.0</td>\n",
       "    </tr>\n",
       "    <tr>\n",
       "      <th>stays_in_week_nights</th>\n",
       "      <td>0.0</td>\n",
       "      <td>0.0</td>\n",
       "    </tr>\n",
       "    <tr>\n",
       "      <th>adults</th>\n",
       "      <td>0.0</td>\n",
       "      <td>0.0</td>\n",
       "    </tr>\n",
       "    <tr>\n",
       "      <th>meal</th>\n",
       "      <td>0.0</td>\n",
       "      <td>0.0</td>\n",
       "    </tr>\n",
       "    <tr>\n",
       "      <th>market_segment</th>\n",
       "      <td>0.0</td>\n",
       "      <td>0.0</td>\n",
       "    </tr>\n",
       "    <tr>\n",
       "      <th>distribution_channel</th>\n",
       "      <td>0.0</td>\n",
       "      <td>0.0</td>\n",
       "    </tr>\n",
       "    <tr>\n",
       "      <th>is_repeated_guest</th>\n",
       "      <td>0.0</td>\n",
       "      <td>0.0</td>\n",
       "    </tr>\n",
       "    <tr>\n",
       "      <th>previous_cancellations</th>\n",
       "      <td>0.0</td>\n",
       "      <td>0.0</td>\n",
       "    </tr>\n",
       "    <tr>\n",
       "      <th>previous_bookings_not_canceled</th>\n",
       "      <td>0.0</td>\n",
       "      <td>0.0</td>\n",
       "    </tr>\n",
       "    <tr>\n",
       "      <th>booking_changes</th>\n",
       "      <td>0.0</td>\n",
       "      <td>0.0</td>\n",
       "    </tr>\n",
       "    <tr>\n",
       "      <th>deposit_type</th>\n",
       "      <td>0.0</td>\n",
       "      <td>0.0</td>\n",
       "    </tr>\n",
       "    <tr>\n",
       "      <th>days_in_waiting_list</th>\n",
       "      <td>0.0</td>\n",
       "      <td>0.0</td>\n",
       "    </tr>\n",
       "    <tr>\n",
       "      <th>customer_type</th>\n",
       "      <td>0.0</td>\n",
       "      <td>0.0</td>\n",
       "    </tr>\n",
       "    <tr>\n",
       "      <th>adr</th>\n",
       "      <td>0.0</td>\n",
       "      <td>0.0</td>\n",
       "    </tr>\n",
       "    <tr>\n",
       "      <th>total_of_special_requests</th>\n",
       "      <td>0.0</td>\n",
       "      <td>0.0</td>\n",
       "    </tr>\n",
       "    <tr>\n",
       "      <th>family</th>\n",
       "      <td>0.0</td>\n",
       "      <td>0.0</td>\n",
       "    </tr>\n",
       "    <tr>\n",
       "      <th>total_stay</th>\n",
       "      <td>0.0</td>\n",
       "      <td>0.0</td>\n",
       "    </tr>\n",
       "    <tr>\n",
       "      <th>customers_lead</th>\n",
       "      <td>0.0</td>\n",
       "      <td>0.0</td>\n",
       "    </tr>\n",
       "    <tr>\n",
       "      <th>ppp</th>\n",
       "      <td>0.0</td>\n",
       "      <td>0.0</td>\n",
       "    </tr>\n",
       "    <tr>\n",
       "      <th>assigned_vs_reserved</th>\n",
       "      <td>0.0</td>\n",
       "      <td>0.0</td>\n",
       "    </tr>\n",
       "  </tbody>\n",
       "</table>\n",
       "</div>"
      ],
      "text/plain": [
       "                                No. of Missing Data  % Missing Data\n",
       "is_canceled                                     0.0             0.0\n",
       "hotel                                           0.0             0.0\n",
       "lead_time                                       0.0             0.0\n",
       "arrival_date_week_number                        0.0             0.0\n",
       "stays_in_weekend_nights                         0.0             0.0\n",
       "stays_in_week_nights                            0.0             0.0\n",
       "adults                                          0.0             0.0\n",
       "meal                                            0.0             0.0\n",
       "market_segment                                  0.0             0.0\n",
       "distribution_channel                            0.0             0.0\n",
       "is_repeated_guest                               0.0             0.0\n",
       "previous_cancellations                          0.0             0.0\n",
       "previous_bookings_not_canceled                  0.0             0.0\n",
       "booking_changes                                 0.0             0.0\n",
       "deposit_type                                    0.0             0.0\n",
       "days_in_waiting_list                            0.0             0.0\n",
       "customer_type                                   0.0             0.0\n",
       "adr                                             0.0             0.0\n",
       "total_of_special_requests                       0.0             0.0\n",
       "family                                          0.0             0.0\n",
       "total_stay                                      0.0             0.0\n",
       "customers_lead                                  0.0             0.0\n",
       "ppp                                             0.0             0.0\n",
       "assigned_vs_reserved                            0.0             0.0"
      ]
     },
     "execution_count": 26,
     "metadata": {},
     "output_type": "execute_result"
    }
   ],
   "source": [
    "perc_missing_data = pd.DataFrame([d2.isnull().sum(),d2.isnull().sum()*100.0/d2.shape[0]]).T\n",
    "perc_missing_data.columns = ['No. of Missing Data', '% Missing Data']\n",
    "perc_missing_data"
   ]
  },
  {
   "cell_type": "code",
   "execution_count": 27,
   "metadata": {},
   "outputs": [],
   "source": [
    "y = d2.is_canceled\n",
    "X = pd.get_dummies(d2.drop([\"is_canceled\"], axis=1), drop_first=True)"
   ]
  },
  {
   "cell_type": "code",
   "execution_count": 28,
   "metadata": {},
   "outputs": [],
   "source": [
    "X_train, X_test, y_train, y_test = train_test_split(X, y, test_size=0.2, shuffle = True, random_state=1)"
   ]
  },
  {
   "cell_type": "code",
   "execution_count": 29,
   "metadata": {},
   "outputs": [],
   "source": [
    "pipeline = Pipeline([('DecisionTreeClassifier', DecisionTreeClassifier())])\n",
    "\n",
    "params = {'DecisionTreeClassifier__max_depth': np.arange(10,20)}\n",
    "\n",
    "KF = KFold(n_splits = 5, shuffle = True, random_state = 1)\n",
    "\n",
    "model = GridSearchCV(pipeline, params, cv = KF, scoring = 'roc_auc').fit(X_train, y_train)"
   ]
  },
  {
   "cell_type": "code",
   "execution_count": 30,
   "metadata": {},
   "outputs": [
    {
     "name": "stdout",
     "output_type": "stream",
     "text": [
      "Pipeline(steps=[('DecisionTreeClassifier',\n",
      "                 DecisionTreeClassifier(max_depth=13))])\n",
      "0.8807917621233183\n"
     ]
    }
   ],
   "source": [
    "print(model.best_estimator_)\n",
    "print(model.best_score_)"
   ]
  },
  {
   "cell_type": "code",
   "execution_count": 31,
   "metadata": {},
   "outputs": [
    {
     "data": {
      "image/png": "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\n",
      "text/plain": [
       "<Figure size 640x400 with 2 Axes>"
      ]
     },
     "metadata": {
      "needs_background": "light"
     },
     "output_type": "display_data"
    }
   ],
   "source": [
    "sns.heatmap(confusion_matrix(y_train, model.predict(X_train))/len(y_train), annot = True, cmap=\"Blues\");"
   ]
  },
  {
   "cell_type": "code",
<<<<<<< HEAD
   "execution_count": 426,
=======
   "execution_count": 32,
>>>>>>> a6dd4405f77968eb6483076ededc1e3ba2224ddd
   "metadata": {},
   "outputs": [],
   "source": [
    "# Logistic Regression\n",
    "pipeline = Pipeline([('StandardScaler', StandardScaler()), \n",
    "                     ('LogisticRegression', LogisticRegression(multi_class='ovr', solver='liblinear', verbose=0))])\n",
    "\n",
    "params = {'LogisticRegression__C': [200, 500, 1000, 2000, 5000], \n",
    "          'LogisticRegression__penalty': ['l1']} \n",
    "# Tried C = [0.01, 0.1, 1, 10, ..., 100000], and C = [200, 500, 1000, 2000, 5000]\n",
    "\n",
    "KF = KFold(n_splits = 5, shuffle = True, random_state = 1)\n",
    "\n",
    "model_LR = GridSearchCV(pipeline, params, cv = KF, scoring = 'roc_auc').fit(X_train, y_train)"
   ]
  },
  {
   "cell_type": "code",
<<<<<<< HEAD
   "execution_count": 427,
=======
   "execution_count": 33,
>>>>>>> a6dd4405f77968eb6483076ededc1e3ba2224ddd
   "metadata": {},
   "outputs": [
    {
     "name": "stdout",
     "output_type": "stream",
     "text": [
      "Pipeline(steps=[('StandardScaler', StandardScaler()),\n",
      "                ('LogisticRegression',\n",
<<<<<<< HEAD
      "                 LogisticRegression(C=200, multi_class='ovr',\n",
      "                                    solver='liblinear'))])\n",
      "0.8507632106534244\n"
=======
      "                 LogisticRegression(C=500, multi_class='ovr', penalty='l1',\n",
      "                                    solver='liblinear'))])\n",
      "0.850766613236966\n"
>>>>>>> a6dd4405f77968eb6483076ededc1e3ba2224ddd
     ]
    }
   ],
   "source": [
    "print(model_LR.best_estimator_)\n",
    "print(model_LR.best_score_)"
   ]
  },
  {
   "cell_type": "code",
<<<<<<< HEAD
   "execution_count": 428,
=======
   "execution_count": 34,
>>>>>>> a6dd4405f77968eb6483076ededc1e3ba2224ddd
   "metadata": {},
   "outputs": [
    {
     "data": {
      "image/png": "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\n",
      "text/plain": [
       "<Figure size 640x400 with 2 Axes>"
      ]
     },
     "metadata": {
      "needs_background": "light"
     },
     "output_type": "display_data"
    }
   ],
   "source": [
    "sns.heatmap(confusion_matrix(y_train, model_LR.predict(X_train))/len(y_train), annot = True, cmap=\"Blues\");"
   ]
  },
  {
   "cell_type": "code",
<<<<<<< HEAD
   "execution_count": 432,
=======
   "execution_count": 39,
>>>>>>> a6dd4405f77968eb6483076ededc1e3ba2224ddd
   "metadata": {},
   "outputs": [
    {
     "data": {
<<<<<<< HEAD
      "text/html": [
       "<div>\n",
       "<style scoped>\n",
       "    .dataframe tbody tr th:only-of-type {\n",
       "        vertical-align: middle;\n",
       "    }\n",
       "\n",
       "    .dataframe tbody tr th {\n",
       "        vertical-align: top;\n",
       "    }\n",
       "\n",
       "    .dataframe thead th {\n",
       "        text-align: right;\n",
       "    }\n",
       "</style>\n",
       "<table border=\"1\" class=\"dataframe\">\n",
       "  <thead>\n",
       "    <tr style=\"text-align: right;\">\n",
       "      <th></th>\n",
       "      <th>Feature</th>\n",
       "      <th>Weight</th>\n",
       "    </tr>\n",
       "  </thead>\n",
       "  <tbody>\n",
       "    <tr>\n",
       "      <th>6</th>\n",
       "      <td>previous_cancellations</td>\n",
       "      <td>2.204659</td>\n",
       "    </tr>\n",
       "    <tr>\n",
       "      <th>32</th>\n",
       "      <td>deposit_type_Non Refund</td>\n",
       "      <td>1.791917</td>\n",
       "    </tr>\n",
       "    <tr>\n",
       "      <th>16</th>\n",
       "      <td>assigned_vs_reserved</td>\n",
       "      <td>0.592182</td>\n",
       "    </tr>\n",
       "    <tr>\n",
       "      <th>27</th>\n",
       "      <td>market_segment_Online TA</td>\n",
       "      <td>0.437883</td>\n",
       "    </tr>\n",
       "    <tr>\n",
       "      <th>35</th>\n",
       "      <td>customer_type_Transient</td>\n",
       "      <td>0.364967</td>\n",
       "    </tr>\n",
       "    <tr>\n",
       "      <th>0</th>\n",
       "      <td>lead_time</td>\n",
       "      <td>0.200273</td>\n",
       "    </tr>\n",
       "    <tr>\n",
       "      <th>14</th>\n",
       "      <td>customers_lead</td>\n",
       "      <td>0.197104</td>\n",
       "    </tr>\n",
       "    <tr>\n",
       "      <th>36</th>\n",
       "      <td>customer_type_Transient-Party</td>\n",
       "      <td>0.155468</td>\n",
       "    </tr>\n",
       "    <tr>\n",
       "      <th>25</th>\n",
       "      <td>market_segment_Groups</td>\n",
       "      <td>0.105254</td>\n",
       "    </tr>\n",
       "    <tr>\n",
       "      <th>10</th>\n",
       "      <td>adr</td>\n",
       "      <td>0.081868</td>\n",
       "    </tr>\n",
       "    <tr>\n",
       "      <th>4</th>\n",
       "      <td>adults</td>\n",
       "      <td>0.073695</td>\n",
       "    </tr>\n",
       "    <tr>\n",
       "      <th>12</th>\n",
       "      <td>family</td>\n",
       "      <td>0.067879</td>\n",
       "    </tr>\n",
       "    <tr>\n",
       "      <th>15</th>\n",
       "      <td>ppp</td>\n",
       "      <td>0.066729</td>\n",
       "    </tr>\n",
       "    <tr>\n",
       "      <th>24</th>\n",
       "      <td>market_segment_Direct</td>\n",
       "      <td>0.059474</td>\n",
       "    </tr>\n",
       "    <tr>\n",
       "      <th>18</th>\n",
       "      <td>meal_FB</td>\n",
       "      <td>0.054838</td>\n",
       "    </tr>\n",
       "    <tr>\n",
       "      <th>3</th>\n",
       "      <td>stays_in_week_nights</td>\n",
       "      <td>0.047901</td>\n",
       "    </tr>\n",
       "    <tr>\n",
       "      <th>13</th>\n",
       "      <td>total_stay</td>\n",
       "      <td>0.044875</td>\n",
       "    </tr>\n",
       "    <tr>\n",
       "      <th>9</th>\n",
       "      <td>days_in_waiting_list</td>\n",
       "      <td>0.036557</td>\n",
       "    </tr>\n",
       "    <tr>\n",
       "      <th>20</th>\n",
       "      <td>meal_SC</td>\n",
       "      <td>0.033292</td>\n",
       "    </tr>\n",
       "    <tr>\n",
       "      <th>2</th>\n",
       "      <td>stays_in_weekend_nights</td>\n",
       "      <td>0.023043</td>\n",
       "    </tr>\n",
       "    <tr>\n",
       "      <th>23</th>\n",
       "      <td>market_segment_Corporate</td>\n",
       "      <td>0.016904</td>\n",
       "    </tr>\n",
       "    <tr>\n",
       "      <th>1</th>\n",
       "      <td>arrival_date_week_number</td>\n",
       "      <td>0.002408</td>\n",
       "    </tr>\n",
       "    <tr>\n",
       "      <th>33</th>\n",
       "      <td>deposit_type_Refundable</td>\n",
       "      <td>0.002309</td>\n",
       "    </tr>\n",
       "    <tr>\n",
       "      <th>17</th>\n",
       "      <td>hotel_Resort Hotel</td>\n",
       "      <td>-0.008397</td>\n",
       "    </tr>\n",
       "    <tr>\n",
       "      <th>34</th>\n",
       "      <td>customer_type_Group</td>\n",
       "      <td>-0.015674</td>\n",
       "    </tr>\n",
       "    <tr>\n",
       "      <th>30</th>\n",
       "      <td>distribution_channel_TA/TO</td>\n",
       "      <td>-0.020309</td>\n",
       "    </tr>\n",
       "    <tr>\n",
       "      <th>31</th>\n",
       "      <td>distribution_channel_Undefined</td>\n",
       "      <td>-0.023528</td>\n",
       "    </tr>\n",
       "    <tr>\n",
       "      <th>22</th>\n",
       "      <td>market_segment_Complementary</td>\n",
       "      <td>-0.028893</td>\n",
       "    </tr>\n",
       "    <tr>\n",
       "      <th>29</th>\n",
       "      <td>distribution_channel_GDS</td>\n",
       "      <td>-0.038631</td>\n",
       "    </tr>\n",
       "    <tr>\n",
       "      <th>19</th>\n",
       "      <td>meal_HB</td>\n",
       "      <td>-0.040884</td>\n",
       "    </tr>\n",
       "    <tr>\n",
       "      <th>21</th>\n",
       "      <td>meal_Undefined</td>\n",
       "      <td>-0.044498</td>\n",
       "    </tr>\n",
       "    <tr>\n",
       "      <th>5</th>\n",
       "      <td>is_repeated_guest</td>\n",
       "      <td>-0.101095</td>\n",
       "    </tr>\n",
       "    <tr>\n",
       "      <th>26</th>\n",
       "      <td>market_segment_Offline TA/TO</td>\n",
       "      <td>-0.143201</td>\n",
       "    </tr>\n",
       "    <tr>\n",
       "      <th>28</th>\n",
       "      <td>distribution_channel_Direct</td>\n",
       "      <td>-0.188070</td>\n",
       "    </tr>\n",
       "    <tr>\n",
       "      <th>8</th>\n",
       "      <td>booking_changes</td>\n",
       "      <td>-0.232944</td>\n",
       "    </tr>\n",
       "    <tr>\n",
       "      <th>11</th>\n",
       "      <td>total_of_special_requests</td>\n",
       "      <td>-0.564521</td>\n",
       "    </tr>\n",
       "    <tr>\n",
       "      <th>7</th>\n",
       "      <td>previous_bookings_not_canceled</td>\n",
       "      <td>-0.652991</td>\n",
       "    </tr>\n",
       "  </tbody>\n",
       "</table>\n",
       "</div>"
      ],
      "text/plain": [
       "                           Feature    Weight\n",
       "6           previous_cancellations  2.204659\n",
       "32         deposit_type_Non Refund  1.791917\n",
       "16            assigned_vs_reserved  0.592182\n",
       "27        market_segment_Online TA  0.437883\n",
       "35         customer_type_Transient  0.364967\n",
       "0                        lead_time  0.200273\n",
       "14                  customers_lead  0.197104\n",
       "36   customer_type_Transient-Party  0.155468\n",
       "25           market_segment_Groups  0.105254\n",
       "10                             adr  0.081868\n",
       "4                           adults  0.073695\n",
       "12                          family  0.067879\n",
       "15                             ppp  0.066729\n",
       "24           market_segment_Direct  0.059474\n",
       "18                         meal_FB  0.054838\n",
       "3             stays_in_week_nights  0.047901\n",
       "13                      total_stay  0.044875\n",
       "9             days_in_waiting_list  0.036557\n",
       "20                         meal_SC  0.033292\n",
       "2          stays_in_weekend_nights  0.023043\n",
       "23        market_segment_Corporate  0.016904\n",
       "1         arrival_date_week_number  0.002408\n",
       "33         deposit_type_Refundable  0.002309\n",
       "17              hotel_Resort Hotel -0.008397\n",
       "34             customer_type_Group -0.015674\n",
       "30      distribution_channel_TA/TO -0.020309\n",
       "31  distribution_channel_Undefined -0.023528\n",
       "22    market_segment_Complementary -0.028893\n",
       "29        distribution_channel_GDS -0.038631\n",
       "19                         meal_HB -0.040884\n",
       "21                  meal_Undefined -0.044498\n",
       "5                is_repeated_guest -0.101095\n",
       "26    market_segment_Offline TA/TO -0.143201\n",
       "28     distribution_channel_Direct -0.188070\n",
       "8                  booking_changes -0.232944\n",
       "11       total_of_special_requests -0.564521\n",
       "7   previous_bookings_not_canceled -0.652991"
      ]
     },
     "execution_count": 432,
     "metadata": {},
     "output_type": "execute_result"
=======
      "image/png": "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\n",
      "text/plain": [
       "<Figure size 640x400 with 1 Axes>"
      ]
     },
     "metadata": {
      "needs_background": "light"
     },
     "output_type": "display_data"
>>>>>>> a6dd4405f77968eb6483076ededc1e3ba2224ddd
    }
   ],
   "source": [
    "# Logistic regression weights\n",
    "model_LR_weights = pd.DataFrame({'Feature': X.columns, \n",
    "                                 'Weight': model_LR.best_estimator_.named_steps['LogisticRegression'].coef_[0]})\n",
    "\n",
    "model_LR_weights.sort_values(by='Weight', ascending=False)\n",
    "sns.barplot(x='Feature', y = 'Weight', data = model_LR_weights)\n",
    "plt.xticks(rotation=70)\n",
    "plt.show()"
   ]
  },
  {
   "cell_type": "markdown",
   "metadata": {},
   "source": [
    "## 4. Discussion & Conclusions\n"
   ]
  },
  {
   "cell_type": "markdown",
   "metadata": {},
   "source": [
    "*In this section you should provide a general overview of your final model, its performance, and reliability. You should discuss what the implications of your model are in terms of the included features, predictive performance, and anything else you think is relevant.*\n",
    "\n",
    "*This should be written with a target audience of the client who is with the hotel data and university level mathematics but not necessarily someone who has taken a postgraduate statistical modeling course. Your goal should be to convince this audience that your model is both accurate and useful.*\n",
    "\n",
    "*Keep in mind that a negative result, i.e. a model that does not work well predictively, that is well explained and justified in terms of why it failed will likely receive higher marks than a model with strong predictive performance but with poor or incorrect explinations / justifications.*"
   ]
  },
  {
   "cell_type": "markdown",
   "metadata": {},
   "source": [
    "## 5. Convert Document"
   ]
  },
  {
   "cell_type": "code",
   "execution_count": 36,
   "metadata": {},
   "outputs": [],
   "source": [
    "# Run the following to render to PDF\n",
    "!jupyter nbconvert --to pdf proj2.ipynb"
   ]
  },
  {
   "cell_type": "code",
   "execution_count": null,
   "metadata": {},
   "outputs": [],
   "source": []
  }
 ],
 "metadata": {
  "kernelspec": {
   "display_name": "Python 3",
   "language": "python",
   "name": "python3"
  },
  "language_info": {
   "codemirror_mode": {
    "name": "ipython",
    "version": 3
   },
   "file_extension": ".py",
   "mimetype": "text/x-python",
   "name": "python",
   "nbconvert_exporter": "python",
   "pygments_lexer": "ipython3",
   "version": "3.8.5"
  }
 },
 "nbformat": 4,
 "nbformat_minor": 4
}

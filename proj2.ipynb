{
 "cells": [
  {
   "cell_type": "markdown",
   "metadata": {},
   "source": [
    "# Machine Learning in Python - Project 1\n",
    "\n",
    "Due Friday, April 9th by 5 pm UK local time."
   ]
  },
  {
   "cell_type": "markdown",
   "metadata": {},
   "source": [
    "Abu Mazhar, Adrian Lee, Elliot Kovanda, Gianluca Bianchi."
   ]
  },
  {
   "cell_type": "markdown",
   "metadata": {},
   "source": [
    "## 0. Setup"
   ]
  },
  {
   "cell_type": "code",
   "execution_count": 85,
   "metadata": {},
   "outputs": [],
   "source": [
    "# Install required packages\n",
    "!pip install -q -r requirements.txt"
   ]
  },
  {
   "cell_type": "code",
   "execution_count": 86,
   "metadata": {},
   "outputs": [],
   "source": [
    "# Add any additional libraries or submodules below\n",
    "\n",
    "# Display plots inline\n",
    "%matplotlib inline\n",
    "\n",
    "# Data libraries\n",
    "import pandas as pd\n",
    "import numpy as np\n",
    "\n",
    "# Plotting libraries\n",
    "import matplotlib.pyplot as plt\n",
    "import seaborn as sns\n",
    "\n",
    "# Plotting defaults\n",
    "plt.rcParams['figure.figsize'] = (8,5)\n",
    "plt.rcParams['figure.dpi'] = 80\n",
    "\n",
    "# sklearn modules\n",
    "import sklearn\n",
    "from sklearn.pipeline import Pipeline\n",
    "from sklearn.model_selection import train_test_split\n",
    "from sklearn.model_selection import KFold\n",
    "from sklearn.model_selection import GridSearchCV\n",
    "from sklearn.preprocessing import StandardScaler\n",
    "from sklearn.linear_model import LogisticRegression\n",
    "from sklearn.ensemble import RandomForestClassifier\n",
    "from sklearn.tree import DecisionTreeClassifier\n",
    "from sklearn.tree import plot_tree\n",
    "from sklearn.tree import export_text\n",
    "from sklearn.metrics import confusion_matrix"
   ]
  },
  {
   "cell_type": "code",
   "execution_count": 87,
   "metadata": {},
   "outputs": [],
   "source": [
    "# Load data\n",
    "d = pd.read_csv(\"hotel.csv\")"
   ]
  },
  {
   "cell_type": "markdown",
   "metadata": {},
   "source": [
    "## 1. Introduction\n",
    "\n",
    "Hotel rooms are typically booked well in advance of the visit. The lead-time between the booking and scheduled stay is usually many months, occasionally over a year long. While this long planning horizon may allow hotel owners to schedule their staff and adjust their pricing optimally, the opposite is often the case: Hotels hold back rooms for extended periods however, a significant proportion of customers cancel short-term or do not show up for their booking. Since hotel rooms are essentially a perishable product with no value once each day has passed, any cancellations that cannot be filled constitute lost revenue for the hotel. Predicting which customers are likely to cancel their booking would allow hotels to respond effectively and gain a competitive advantage. Specifically, Antonio, Almeida and Nunes (2017a) report that the hospitality has two primary responses to a likely cancellation: First, hotels may attempt a persuasion strategy. Here, customers predicted to cancel their booking should be persuaded to stay through small nudges. A brief phone call reminding the customer of their booking and enquiring about any special requests may be sufficient, alternatively offering room upgrades or discounts can be effective as well. While this is a low-risk strategy, many customers (such as corporate guests) are price insensitive and may not be persuaded by such offerings. Therefore, hotels may persue a different strategy. By strategically overbooking rooms, hotels can reduce the number of vacant rooms directly. While widespread across the hospitality industry, this strategy is more risky because customers will be severely dissatisfied if their room were no longer available due to overbooking. Implementing the overbooking strategy effectively requires high confidence in the predictions being made. Typically hotels use a combination of both strategies and which is emphasised depends on the confidence in their predictions and supply-demand situation. Generally, the more confident hotels are in their prediction of cancellations the more they can rely on the overbooking strategy. Conversely, if confidence or demand is low, more effort should be placed on retaining customers who have already made a booking.\n",
    "\n",
    "In the following report we developed a machine learning model which predicts whether a customers is likely to cancel their booking. The hotel bookings data set published by XXX (YYY) was used to train and evaluate the model. This data contains around 120,000 individual bookings made at two Portuguese hotels between 2015 and 2017. The data is labelled, showing for each booking whether or not it was cancelled. Additionally, the data contains 29 features including the price and time of the booking, details on the guests, their requests and the distribution channel to name a few. The task was to develop a classification model that has high performance but is also explainable, thereby allowing the hotel owners to respond to predicted cancellations and deploy strategies to reduce cancellation rates in future.\n",
    "\n",
    "Before the model was devloped and evaluated we cleaned the data. This included removing unplausible entries such as bookings for 0 guests, only children or 0 fees. We engineered additional features, for instance a simple indicator whether a booking was made by a family and the average daily rate per person. More complex features were engineered such as the relative daily rate per person which specifies how expensive the booking was, compared to other similar bookings. Further exploratory data analysis revealed several features unrelated to the outcome variable. To reduce the large feature space, these were excluded from further analysis, analogously to Antonio, Almeida and Nunes (2017b). Having read background literature we understood that some of the data was inherently biased: For instance, nationality often defaults to Portuguese and is only changed once customers check-in. Similarly, rooms are assigned upon check-in. Clearly, if customers cancel, these data will not be updated leading to inherent bias in the data. For this reason, we decided to exclude the country and the assigned room variables from further analysis.\n",
    "\n",
    "Having created a high-quality dataset we fitted several models, namely logistic regressions, decision trees and random forests. When evaluating the models several different metrics were considered: The AUC is a popular, comprehensive measure of a classifiers performance across the entire tradeoff of false positive and false negative errors. As the precise cost of these errors to the hotel are unknown to us, this measure was used as our primary metric. For context, we report the accuracy, that is the percentage of correct classifications at the optimal threshold and the precision, that is the proportion of cancellation classifications that was actually correct. Precision is reported because we believe that hotels are particularly concerned about false positive errors. Specifically, we believe hotels should overbook rooms when customers are likely to cancel reselling these rooms increases revenue. However, if this prediction is false (a false positive) then this is very costly, thus a high precision is essential.\n",
    "\n",
    "Ultimatley, we decided that a regularized logistic regression model provided the best predictions. This model has a high cross-validated AUC of XXX and provides a good balance between false positives and false negatives. The cross-validated accuracy is at YYY and precision is ZZZ. Specific features related to cancellations are the cancellation history of the customer, the refund type, the number of special requests and the lead time. Sensibly, customers who had cancelled previously are more likely to cancel again and vice versa. Interestingly, non-refundable bookings were more likely to be cancelled. This is counterintuitive and may be better explained by a third factor which distuishes non-refundable bookings from refundable ones. Finally, as lead-time increases so does the likelihood of a cancellation while cancellations decrease as customers make more special requests. Both of these relationships appear plausible.\n",
    "\n",
    "We believe that this model will allow hotels to predict which customers are particularly likely to cancel their bookings. Thereby, hotels can approach these customers attempting to persuade them to stay with a reminder or special offers. Additionally, hotels can predict the number of total cancellations at any time and adjust their overbooking strategy accordingly. Finally, some insights can be gain to drive strategic changes in order to reduce cancellation rates long-term."
   ]
  },
  {
   "cell_type": "markdown",
   "metadata": {},
   "source": [
    "## 2. Exploratory Data Analysis and Feature Engineering"
   ]
  },
  {
   "cell_type": "markdown",
   "metadata": {},
   "source": [
    "*Include a detailed discussion of the data with a particular emphasis on the features of the data that are relevant for the subsequent modeling. Including visualizations of the data is strongly encouraged - all code and plots must also be described in the write up. Think carefully about whether each plot needs to be included in your final draft - your report should include figures but they should be as focused and impactful as possible.*\n",
    "\n",
    "*Additionally, this section should also implement and describe any preprocessing / feature engineering of the data. Specifically, this should be any code that you use to generate new columns in the data frame `d`. All of this processing is explicitly meant to occur before we split the data in to training and testing subsets. Processing that will be performed as part of an sklearn pipeline can be mentioned here but should be implemented in the following section.*\n",
    "\n",
    "*All code and figures should be accompanied by text that provides an overview / context to what is being done or presented.*"
   ]
  },
  {
   "cell_type": "code",
   "execution_count": 88,
   "metadata": {},
   "outputs": [
    {
     "name": "stdout",
     "output_type": "stream",
     "text": [
      "<class 'pandas.core.frame.DataFrame'>\n",
      "RangeIndex: 119390 entries, 0 to 119389\n",
      "Data columns (total 30 columns):\n",
      " #   Column                          Non-Null Count   Dtype  \n",
      "---  ------                          --------------   -----  \n",
      " 0   is_canceled                     119390 non-null  int64  \n",
      " 1   hotel                           119390 non-null  object \n",
      " 2   lead_time                       119390 non-null  int64  \n",
      " 3   arrival_date_year               119390 non-null  int64  \n",
      " 4   arrival_date_month              119390 non-null  object \n",
      " 5   arrival_date_week_number        119390 non-null  int64  \n",
      " 6   arrival_date_day_of_month       119390 non-null  int64  \n",
      " 7   stays_in_weekend_nights         119390 non-null  int64  \n",
      " 8   stays_in_week_nights            119390 non-null  int64  \n",
      " 9   adults                          119390 non-null  int64  \n",
      " 10  children                        119386 non-null  float64\n",
      " 11  babies                          119390 non-null  int64  \n",
      " 12  meal                            119390 non-null  object \n",
      " 13  country                         118902 non-null  object \n",
      " 14  market_segment                  119390 non-null  object \n",
      " 15  distribution_channel            119390 non-null  object \n",
      " 16  is_repeated_guest               119390 non-null  int64  \n",
      " 17  previous_cancellations          119390 non-null  int64  \n",
      " 18  previous_bookings_not_canceled  119390 non-null  int64  \n",
      " 19  reserved_room_type              119390 non-null  object \n",
      " 20  assigned_room_type              119390 non-null  object \n",
      " 21  booking_changes                 119390 non-null  int64  \n",
      " 22  deposit_type                    119390 non-null  object \n",
      " 23  agent                           103050 non-null  float64\n",
      " 24  company                         6797 non-null    float64\n",
      " 25  days_in_waiting_list            119390 non-null  int64  \n",
      " 26  customer_type                   119390 non-null  object \n",
      " 27  adr                             119390 non-null  float64\n",
      " 28  required_car_parking_spaces     119390 non-null  int64  \n",
      " 29  total_of_special_requests       119390 non-null  int64  \n",
      "dtypes: float64(4), int64(16), object(10)\n",
      "memory usage: 22.8+ MB\n"
     ]
    }
   ],
   "source": [
    "d.info()"
   ]
  },
  {
   "cell_type": "code",
   "execution_count": 89,
   "metadata": {},
   "outputs": [],
   "source": [
    "pd.set_option('display.max_columns', 500)"
   ]
  },
  {
   "cell_type": "code",
   "execution_count": 90,
   "metadata": {},
   "outputs": [
    {
     "data": {
      "text/plain": [
       "Index(['is_canceled', 'hotel', 'lead_time', 'arrival_date_year',\n",
       "       'arrival_date_month', 'arrival_date_week_number',\n",
       "       'arrival_date_day_of_month', 'stays_in_weekend_nights',\n",
       "       'stays_in_week_nights', 'adults', 'children', 'babies', 'meal',\n",
       "       'country', 'market_segment', 'distribution_channel',\n",
       "       'is_repeated_guest', 'previous_cancellations',\n",
       "       'previous_bookings_not_canceled', 'reserved_room_type',\n",
       "       'assigned_room_type', 'booking_changes', 'deposit_type', 'agent',\n",
       "       'company', 'days_in_waiting_list', 'customer_type', 'adr',\n",
       "       'required_car_parking_spaces', 'total_of_special_requests'],\n",
       "      dtype='object')"
      ]
     },
     "execution_count": 90,
     "metadata": {},
     "output_type": "execute_result"
    }
   ],
   "source": [
    "d.columns"
   ]
  },
  {
   "cell_type": "code",
   "execution_count": 91,
   "metadata": {},
   "outputs": [
    {
     "data": {
      "image/png": "[encoded data removed]",
      "text/plain": [
       "<Figure size 640x400 with 1 Axes>"
      ]
     },
     "metadata": {
      "needs_background": "light"
     },
     "output_type": "display_data"
    }
   ],
   "source": [
    "res_book_year = d.loc[(d[\"hotel\"] == \"Resort Hotel\")].groupby(\"arrival_date_year\")[\"hotel\"].count()\n",
    "res_cancel_year = d.loc[(d[\"hotel\"] == \"Resort Hotel\")].groupby(\"arrival_date_year\")[\"is_canceled\"].sum()\n",
    "    \n",
    "cit_book_year = d.loc[(d[\"hotel\"] == \"City Hotel\")].groupby(\"arrival_date_year\")[\"hotel\"].count()\n",
    "cit_cancel_year = d.loc[(d[\"hotel\"] == \"City Hotel\")].groupby(\"arrival_date_year\")[\"is_canceled\"].sum()\n",
    "   \n",
    "res_cancel_data = pd.DataFrame({\"Hotel\": \"Resort Hotel\",\n",
    "                                \"Year\": list(res_book_year.index),\n",
    "                                \"Bookings\": list(res_book_year.values),\n",
    "                                \"Cancelations\": list(res_cancel_year.values)})\n",
    "\n",
    "cit_cancel_data = pd.DataFrame({\"Hotel\": \"City Hotel\",\n",
    "                                \"Year\": list(cit_book_year.index),\n",
    "                                \"Bookings\": list(cit_book_year.values),\n",
    "                                \"Cancelations\": list(cit_cancel_year.values)})\n",
    "\n",
    "all_cancel = pd.concat([res_cancel_data,cit_cancel_data],ignore_index = True)\n",
    "all_cancel[\"cancel_percent\"] = all_cancel[\"Cancelations\"]/all_cancel[\"Bookings\"]*100\n",
    "\n",
    "sns.barplot(x='Year',y='cancel_percent',hue='Hotel',data=all_cancel)\n",
    "plt.title('Yearly Cancellations')\n",
    "plt.ylabel('Cancellation Percentage')\n",
    "plt.show()"
   ]
  },
  {
   "cell_type": "markdown",
   "metadata": {},
   "source": [
    "### Guest Data Irregularities\n"
   ]
  },
  {
   "cell_type": "markdown",
   "metadata": {},
   "source": [
    "An initial check on our data to decide if a given booking was valid or not was to check that there were the correct number of guests on a booking. This first involved removing bookings with no guests at all. We then proceeded to remove all bookings which contain no adults as we thought this unreasonable for children to be making bookings without adults."
   ]
  },
  {
   "cell_type": "code",
   "execution_count": 92,
   "metadata": {},
   "outputs": [],
   "source": [
    "# Total guests \n",
    "d[\"n_guests\"] = d.adults + d.children + d.babies\n",
    "\n",
    "# Drop if no guests\n",
    "d.drop(d[(d.n_guests < 1) | (np.isnan(d.n_guests))].index, inplace = True)\n",
    "\n",
    "# # Drop if baby but no adult\n",
    "d.drop(d[(d.adults < 1) & (d.babies >= 1)].index, inplace = True)\n",
    "\n",
    "# # Bookings with only children\n",
    "d[(d.adults < 1) & (d.children >= 1)]\n",
    "\n",
    "#drop entries with no adults\n",
    "d = d[~(d.adults==0)]"
   ]
  },
  {
   "cell_type": "markdown",
   "metadata": {},
   "source": [
    "Finally we decided to join the children and baby variable into a 'family' variable."
   ]
  },
  {
   "cell_type": "code",
   "execution_count": 93,
   "metadata": {},
   "outputs": [],
   "source": [
    "d['family'] = ((d['children'] > 0) | (d['babies'] > 0))"
   ]
  },
  {
   "cell_type": "markdown",
   "metadata": {},
   "source": [
    "For the `adr` column, we removed rows with an Average Daily Rate of 0 as this would also be infeasible."
   ]
  },
  {
   "cell_type": "code",
   "execution_count": 94,
   "metadata": {},
   "outputs": [],
   "source": [
    "# drop entries with `adr` == 0\n",
    "d = d[~(d.adr==0)]"
   ]
  },
  {
   "cell_type": "markdown",
   "metadata": {},
   "source": [
    "Following the elimination of the invalid rows, we could make more eliminations by considering the parking space requirement for each booking. We said that it was reasonable for each adult on a booking to have their own car parking space, or not have one at all. However, if there was more than one parking space per adult this would be infeasible. We subsequently removed those columns."
   ]
  },
  {
   "cell_type": "code",
   "execution_count": 95,
   "metadata": {},
   "outputs": [],
   "source": [
    "# drop entries with more than one car parking space requested per adult (7 in total)\n",
    "d = d[~(d.required_car_parking_spaces/d.adults > 1)]"
   ]
  },
  {
   "cell_type": "markdown",
   "metadata": {},
   "source": [
    "#### Total stay and weekday_stay per weekend_stay\n",
    "Delete obervations when total stay = 0\n",
    "\n",
    "Long stays appear to check out. At least they are staying continouously for weekdays and weekends."
   ]
  },
  {
   "cell_type": "code",
   "execution_count": 96,
   "metadata": {},
   "outputs": [],
   "source": [
    "d[\"total_stay\"] = d.stays_in_weekend_nights + d.stays_in_week_nights\n",
    "\n",
    "d.drop(d[(d.total_stay < 1)].index, inplace = True)\n",
    "\n",
    "# Weekday_diff indicates whether stay was continuous (weekdays per weekends should be constant and not above 5)\n",
    "d[\"weekday_diff\"] = (d.stays_in_weekend_nights - d.stays_in_week_nights) / (1+(0.5*d.stays_in_weekend_nights)) \n",
    "#d2[((d2.total_stay > 20) & (d2.weekday_diff < -3))]"
   ]
  },
  {
   "cell_type": "code",
   "execution_count": 97,
   "metadata": {},
   "outputs": [
    {
     "name": "stdout",
     "output_type": "stream",
     "text": [
      "is_portugal  hotel       \n",
      "0            City Hotel      0.269590\n",
      "             Resort Hotel    0.165445\n",
      "1            City Hotel      0.667246\n",
      "             Resort Hotel    0.431115\n",
      "Name: is_canceled, dtype: float64\n",
      "0.3748762502987062\n"
     ]
    }
   ],
   "source": [
    "# Creates a binary column whether booking is from Portugal or not \n",
    "d['is_portugal'] = np.where(d.country == 'PRT', 1, 0)\n",
    "\n",
    "print(d.groupby([\"is_portugal\", \"hotel\"]).is_canceled.mean())\n",
    "print(d.is_canceled.mean())"
   ]
  },
  {
   "cell_type": "code",
   "execution_count": 98,
   "metadata": {},
   "outputs": [],
   "source": [
    "d.drop([\"country\", \"is_portugal\"], axis = \"columns\", inplace = True)"
   ]
  },
  {
   "cell_type": "markdown",
   "metadata": {},
   "source": [
    "#### Cancellation ratio\n",
    "Gives insight into fraction of bookings cancelled. \n",
    "\n",
    "Problem: 2 cancellations / 2 bookings = 1 cancellation / 1 booking = 1"
   ]
  },
  {
   "cell_type": "code",
   "execution_count": 99,
   "metadata": {},
   "outputs": [],
   "source": [
    "d[\"cancelation_ratio\"] = d.previous_cancellations / (d.previous_cancellations + d.previous_bookings_not_canceled)\n",
    "#d2.cancelation_ratio\n",
    "\n",
    "#d2[\"cancelation_ratio\"] = d2.previous_cancellations / (d2.previous_cancellations + d2.previous_bookings_not_canceled)\n",
    "d[\"cancelation_ratio\"] = np.where(d.is_repeated_guest == 0, 0,\n",
    "                                   d.previous_cancellations / (d.previous_cancellations + d.previous_bookings_not_canceled))\n",
    "\n",
    "#d2.cancelation_ratio.unique"
   ]
  },
  {
   "cell_type": "markdown",
   "metadata": {},
   "source": [
    "#### Customer's lead time\n",
    "Time between confirmation of booking and arrival. \n",
    "\n",
    "Problem: There's little variance in waiting time and waiting time is small relative to lead time. Therefore, near perfect correlation between lead_time and customers_lead.\n"
   ]
  },
  {
   "cell_type": "code",
   "execution_count": 100,
   "metadata": {},
   "outputs": [],
   "source": [
    "import scipy\n",
    "\n",
    "d[\"customers_lead\"] = d.lead_time - d.days_in_waiting_list\n",
    "\n",
    "#d2.customers_lead.mean()\n",
    "#d2.days_in_waiting_list.mean()\n",
    "\n",
    "#scipy.stats.pearsonr(d2.customers_lead, d2.lead_time)"
   ]
  },
  {
   "cell_type": "code",
   "execution_count": 101,
   "metadata": {},
   "outputs": [],
   "source": [
    "d[\"ppp\"] = d.adr / (d.adults + d.children)\n",
    "\n",
    "#d2.ppp.nlargest(5)\n",
    "#d2.adr.nlargest(5)\n",
    "\n",
    "# We drop the excessive ppp > 2000\n",
    "#d2.drop(d2[(d2.ppp > 2000)].index, inplace = True)\n",
    "\n",
    "\n",
    "#d2[(d2.ppp > 250)]"
   ]
  },
  {
   "cell_type": "markdown",
   "metadata": {},
   "source": [
    "### Room Type, Allocation and Price"
   ]
  },
  {
   "cell_type": "markdown",
   "metadata": {},
   "source": [
    "First we studied the avergae price per person \n",
    "per night for each of the different room types. The table below shows reasonable results for all rooms types except room type L. We thus choose to drop all features with room type L."
   ]
  },
  {
   "cell_type": "code",
   "execution_count": 102,
   "metadata": {},
   "outputs": [
    {
     "data": {
      "text/plain": [
       "assigned_room_type\n",
       "L     4.000000\n",
       "I    46.113427\n",
       "C    47.785518\n",
       "H    52.349578\n",
       "B    55.424493\n",
       "A    55.505688\n",
       "D    55.722988\n",
       "G    59.340325\n",
       "F    60.263067\n",
       "E    61.579533\n",
       "K    65.199925\n",
       "Name: ppp, dtype: float64"
      ]
     },
     "execution_count": 102,
     "metadata": {},
     "output_type": "execute_result"
    }
   ],
   "source": [
    "d.groupby(\"assigned_room_type\").ppp.mean().sort_values()"
   ]
  },
  {
   "cell_type": "code",
   "execution_count": 103,
   "metadata": {},
   "outputs": [],
   "source": [
    "d.drop(d[(d.assigned_room_type == \"L\")].index, inplace = True)"
   ]
  },
  {
   "cell_type": "markdown",
   "metadata": {},
   "source": [
    "We thought it more reasonable to consider a variable combining `assigned_room_type` and `reserved_room_type`. This is acting under the assumption that if a customer does not get what they asked for they will be unhappier and thus more likely to cancel."
   ]
  },
  {
   "cell_type": "code",
   "execution_count": 104,
   "metadata": {},
   "outputs": [],
   "source": [
    "# Compare whether assigned and reserved rooms are the same\n",
    "d['assigned_vs_reserved'] = (d['assigned_room_type'] == d['reserved_room_type'])"
   ]
  },
  {
   "cell_type": "markdown",
   "metadata": {},
   "source": [
    "We can observe from the histogram below (on a subset of the data) that there are a number of unusually low rates which form a second hump. We should exclude these.###not sure if we should"
   ]
  },
  {
   "cell_type": "code",
   "execution_count": 105,
   "metadata": {},
   "outputs": [],
   "source": [
    "#sns.displot(\n",
    "    #data = d2[(d2.ppp < 500)],\n",
    "    #x = \"ppp\",\n",
    "    #kind = \"hist\",\n",
    "    #bins = 50\n",
    "           #)"
   ]
  },
  {
   "cell_type": "markdown",
   "metadata": {},
   "source": []
  },
  {
   "cell_type": "code",
   "execution_count": 106,
   "metadata": {},
   "outputs": [
    {
     "data": {
      "image/png": "[encoded data removed]",
      "text/plain": [
       "<Figure size 640x400 with 2 Axes>"
      ]
     },
     "metadata": {
      "needs_background": "light"
     },
     "output_type": "display_data"
    }
   ],
   "source": [
    "ordered_months = [\"January\", \"February\", \"March\", \"April\", \"May\", \"June\", \n",
    "          \"July\", \"August\", \"September\", \"October\", \"November\", \"December\"]\n",
    "d['arrival_date_month'] = pd.Categorical(d['arrival_date_month'], categories = ordered_months)\n",
    "\n",
    "\n",
    "plt.xticks(rotation=45)\n",
    "plt.tick_params(colors='purple',axis = 'y')\n",
    "sns.lineplot(x='arrival_date_month', y = 'ppp', data = d,color = 'purple')\n",
    "ax2 = plt.twinx()\n",
    "ax2.set_ylabel('Guests Per Month',color = 'g')\n",
    "d.groupby('arrival_date_month')['arrival_date_month'].count().plot(kind='line',color = 'g')\n",
    "ax2.tick_params(colors='g')\n",
    "\n",
    "\n",
    "plt.show()"
   ]
  },
  {
   "cell_type": "code",
   "execution_count": 107,
   "metadata": {},
   "outputs": [],
   "source": [
    "# Fill nan's in the `agent` column with 536 (original range of codes for `agent` is 1 to 535)\n",
    "d['agent'] = d['agent'].fillna(536)\n",
    "# Fill nan's in the `company` column with 536 (original range of codes for `agent` is 6 to 543)\n",
    "d['company'] = d['company'].fillna(544)\n",
    "\n",
    "# Assume no children if `children` is nan\n",
    "d['children'] = d['children'].fillna(0)\n",
    "# Assume no babies if `babies` is nan\n",
    "d['babies'] = d['babies'].fillna(0)\n",
    "\n",
    "# Assume country is PRT if `country` is nan\n",
    "#d['country'] = d['country'].fillna('PRT')"
   ]
  },
  {
   "cell_type": "code",
   "execution_count": 108,
   "metadata": {},
   "outputs": [],
   "source": [
    "# Compare whether assigned and reserved rooms are the same\n",
    "d['assigned_vs_reserved'] = (d['assigned_room_type'] == d['reserved_room_type'])"
   ]
  },
  {
   "cell_type": "code",
   "execution_count": 109,
   "metadata": {},
   "outputs": [],
   "source": [
    "d2 = d.drop(['arrival_date_year','arrival_date_month','arrival_date_day_of_month','children','babies','reserved_room_type','assigned_room_type','agent','company',\n",
    "        'required_car_parking_spaces','n_guests','weekday_diff','cancelation_ratio'], axis=1)"
   ]
  },
  {
   "cell_type": "markdown",
   "metadata": {},
   "source": [
    "## 3. Model Fitting and Tuning"
   ]
  },
  {
   "cell_type": "markdown",
   "metadata": {},
   "source": [
    "*In this section you should detail your choice of model and describe the process used to refine and fit that model. You are strongly encouraged to explore many different modeling methods (e.g. logistic regression, classification trees, SVC, etc.) but you should not include a detailed narrative of all of these attempts. At most this section should mention the methods explored and why they were rejected - most of your effort should go into describing the model you are using and your process for tuning and validatin it.*\n",
    "\n",
    "*This section should also include the full implementation of your final model, including all necessary validation. As with figures, any included code must also be addressed in the text of the document.*"
   ]
  },
  {
   "cell_type": "markdown",
   "metadata": {},
   "source": []
  },
  {
   "cell_type": "markdown",
   "metadata": {},
   "source": [
    "## BASELINE MODEL"
   ]
  },
  {
   "cell_type": "code",
   "execution_count": 110,
   "metadata": {},
   "outputs": [
    {
     "data": {
      "text/plain": [
       "['is_canceled',\n",
       " 'hotel',\n",
       " 'lead_time',\n",
       " 'arrival_date_year',\n",
       " 'arrival_date_month',\n",
       " 'arrival_date_week_number',\n",
       " 'arrival_date_day_of_month',\n",
       " 'stays_in_weekend_nights',\n",
       " 'stays_in_week_nights',\n",
       " 'adults',\n",
       " 'children',\n",
       " 'babies',\n",
       " 'meal',\n",
       " 'market_segment',\n",
       " 'distribution_channel',\n",
       " 'is_repeated_guest',\n",
       " 'previous_cancellations',\n",
       " 'previous_bookings_not_canceled',\n",
       " 'reserved_room_type',\n",
       " 'assigned_room_type',\n",
       " 'booking_changes',\n",
       " 'deposit_type',\n",
       " 'days_in_waiting_list',\n",
       " 'customer_type',\n",
       " 'adr',\n",
       " 'required_car_parking_spaces',\n",
       " 'total_of_special_requests']"
      ]
     },
     "execution_count": 110,
     "metadata": {},
     "output_type": "execute_result"
    }
   ],
   "source": [
    "d3 = d.drop(['n_guests','weekday_diff','cancelation_ratio','family','total_stay','customers_lead','ppp','assigned_vs_reserved','agent','company'],axis=1)\n",
    "\n",
    "list(d3.columns)"
   ]
  },
  {
   "cell_type": "code",
   "execution_count": 111,
   "metadata": {},
   "outputs": [],
   "source": [
    "y = d3.is_canceled\n",
    "X = pd.get_dummies(d3.drop([\"is_canceled\"], axis=1), drop_first=True)"
   ]
  },
  {
   "cell_type": "code",
   "execution_count": 112,
   "metadata": {},
   "outputs": [],
   "source": [
    "X_train, X_test, y_train, y_test = train_test_split(X, y, test_size=0.2, shuffle = True, random_state=1)"
   ]
  },
  {
   "cell_type": "code",
   "execution_count": 113,
   "metadata": {},
   "outputs": [],
   "source": [
    "from sklearn.preprocessing import StandardScaler\n",
    "from sklearn.linear_model import LogisticRegressionCV\n",
    "\n",
    "\n",
    "scaler = StandardScaler().fit(X_train)\n",
    "X_scaled = scaler.transform(X_train)\n",
    "\n",
    "\n",
    "base_model = LogisticRegressionCV(cv = 5, scoring = 'roc_auc', max_iter=1000).fit(X_scaled, y_train)"
   ]
  },
  {
   "cell_type": "code",
   "execution_count": 114,
   "metadata": {},
   "outputs": [
    {
     "data": {
      "text/plain": [
       "0.862899577017314"
      ]
     },
     "execution_count": 114,
     "metadata": {},
     "output_type": "execute_result"
    }
   ],
   "source": [
    "base_model.score(X_scaled, y_train)"
   ]
  },
  {
   "cell_type": "markdown",
   "metadata": {},
   "source": [
    "## OPTIMIZED MODELS"
   ]
  },
  {
   "cell_type": "code",
   "execution_count": 115,
   "metadata": {},
   "outputs": [
    {
     "data": {
      "text/plain": [
       "['is_canceled',\n",
       " 'hotel',\n",
       " 'lead_time',\n",
       " 'arrival_date_week_number',\n",
       " 'stays_in_weekend_nights',\n",
       " 'stays_in_week_nights',\n",
       " 'adults',\n",
       " 'meal',\n",
       " 'market_segment',\n",
       " 'distribution_channel',\n",
       " 'is_repeated_guest',\n",
       " 'previous_cancellations',\n",
       " 'previous_bookings_not_canceled',\n",
       " 'booking_changes',\n",
       " 'deposit_type',\n",
       " 'days_in_waiting_list',\n",
       " 'customer_type',\n",
       " 'adr',\n",
       " 'total_of_special_requests',\n",
       " 'family',\n",
       " 'total_stay',\n",
       " 'customers_lead',\n",
       " 'ppp',\n",
       " 'assigned_vs_reserved']"
      ]
     },
     "execution_count": 115,
     "metadata": {},
     "output_type": "execute_result"
    }
   ],
   "source": [
    "list(d2.columns)"
   ]
  },
  {
   "cell_type": "code",
   "execution_count": 116,
   "metadata": {},
   "outputs": [
    {
     "data": {
      "text/html": [
       "<div>\n",
       "<style scoped>\n",
       "    .dataframe tbody tr th:only-of-type {\n",
       "        vertical-align: middle;\n",
       "    }\n",
       "\n",
       "    .dataframe tbody tr th {\n",
       "        vertical-align: top;\n",
       "    }\n",
       "\n",
       "    .dataframe thead th {\n",
       "        text-align: right;\n",
       "    }\n",
       "</style>\n",
       "<table border=\"1\" class=\"dataframe\">\n",
       "  <thead>\n",
       "    <tr style=\"text-align: right;\">\n",
       "      <th></th>\n",
       "      <th>No. of Missing Data</th>\n",
       "      <th>% Missing Data</th>\n",
       "    </tr>\n",
       "  </thead>\n",
       "  <tbody>\n",
       "    <tr>\n",
       "      <th>is_canceled</th>\n",
       "      <td>0.0</td>\n",
       "      <td>0.0</td>\n",
       "    </tr>\n",
       "    <tr>\n",
       "      <th>hotel</th>\n",
       "      <td>0.0</td>\n",
       "      <td>0.0</td>\n",
       "    </tr>\n",
       "    <tr>\n",
       "      <th>lead_time</th>\n",
       "      <td>0.0</td>\n",
       "      <td>0.0</td>\n",
       "    </tr>\n",
       "    <tr>\n",
       "      <th>arrival_date_week_number</th>\n",
       "      <td>0.0</td>\n",
       "      <td>0.0</td>\n",
       "    </tr>\n",
       "    <tr>\n",
       "      <th>stays_in_weekend_nights</th>\n",
       "      <td>0.0</td>\n",
       "      <td>0.0</td>\n",
       "    </tr>\n",
       "    <tr>\n",
       "      <th>stays_in_week_nights</th>\n",
       "      <td>0.0</td>\n",
       "      <td>0.0</td>\n",
       "    </tr>\n",
       "    <tr>\n",
       "      <th>adults</th>\n",
       "      <td>0.0</td>\n",
       "      <td>0.0</td>\n",
       "    </tr>\n",
       "    <tr>\n",
       "      <th>meal</th>\n",
       "      <td>0.0</td>\n",
       "      <td>0.0</td>\n",
       "    </tr>\n",
       "    <tr>\n",
       "      <th>market_segment</th>\n",
       "      <td>0.0</td>\n",
       "      <td>0.0</td>\n",
       "    </tr>\n",
       "    <tr>\n",
       "      <th>distribution_channel</th>\n",
       "      <td>0.0</td>\n",
       "      <td>0.0</td>\n",
       "    </tr>\n",
       "    <tr>\n",
       "      <th>is_repeated_guest</th>\n",
       "      <td>0.0</td>\n",
       "      <td>0.0</td>\n",
       "    </tr>\n",
       "    <tr>\n",
       "      <th>previous_cancellations</th>\n",
       "      <td>0.0</td>\n",
       "      <td>0.0</td>\n",
       "    </tr>\n",
       "    <tr>\n",
       "      <th>previous_bookings_not_canceled</th>\n",
       "      <td>0.0</td>\n",
       "      <td>0.0</td>\n",
       "    </tr>\n",
       "    <tr>\n",
       "      <th>booking_changes</th>\n",
       "      <td>0.0</td>\n",
       "      <td>0.0</td>\n",
       "    </tr>\n",
       "    <tr>\n",
       "      <th>deposit_type</th>\n",
       "      <td>0.0</td>\n",
       "      <td>0.0</td>\n",
       "    </tr>\n",
       "    <tr>\n",
       "      <th>days_in_waiting_list</th>\n",
       "      <td>0.0</td>\n",
       "      <td>0.0</td>\n",
       "    </tr>\n",
       "    <tr>\n",
       "      <th>customer_type</th>\n",
       "      <td>0.0</td>\n",
       "      <td>0.0</td>\n",
       "    </tr>\n",
       "    <tr>\n",
       "      <th>adr</th>\n",
       "      <td>0.0</td>\n",
       "      <td>0.0</td>\n",
       "    </tr>\n",
       "    <tr>\n",
       "      <th>total_of_special_requests</th>\n",
       "      <td>0.0</td>\n",
       "      <td>0.0</td>\n",
       "    </tr>\n",
       "    <tr>\n",
       "      <th>family</th>\n",
       "      <td>0.0</td>\n",
       "      <td>0.0</td>\n",
       "    </tr>\n",
       "    <tr>\n",
       "      <th>total_stay</th>\n",
       "      <td>0.0</td>\n",
       "      <td>0.0</td>\n",
       "    </tr>\n",
       "    <tr>\n",
       "      <th>customers_lead</th>\n",
       "      <td>0.0</td>\n",
       "      <td>0.0</td>\n",
       "    </tr>\n",
       "    <tr>\n",
       "      <th>ppp</th>\n",
       "      <td>0.0</td>\n",
       "      <td>0.0</td>\n",
       "    </tr>\n",
       "    <tr>\n",
       "      <th>assigned_vs_reserved</th>\n",
       "      <td>0.0</td>\n",
       "      <td>0.0</td>\n",
       "    </tr>\n",
       "  </tbody>\n",
       "</table>\n",
       "</div>"
      ],
      "text/plain": [
       "                                No. of Missing Data  % Missing Data\n",
       "is_canceled                                     0.0             0.0\n",
       "hotel                                           0.0             0.0\n",
       "lead_time                                       0.0             0.0\n",
       "arrival_date_week_number                        0.0             0.0\n",
       "stays_in_weekend_nights                         0.0             0.0\n",
       "stays_in_week_nights                            0.0             0.0\n",
       "adults                                          0.0             0.0\n",
       "meal                                            0.0             0.0\n",
       "market_segment                                  0.0             0.0\n",
       "distribution_channel                            0.0             0.0\n",
       "is_repeated_guest                               0.0             0.0\n",
       "previous_cancellations                          0.0             0.0\n",
       "previous_bookings_not_canceled                  0.0             0.0\n",
       "booking_changes                                 0.0             0.0\n",
       "deposit_type                                    0.0             0.0\n",
       "days_in_waiting_list                            0.0             0.0\n",
       "customer_type                                   0.0             0.0\n",
       "adr                                             0.0             0.0\n",
       "total_of_special_requests                       0.0             0.0\n",
       "family                                          0.0             0.0\n",
       "total_stay                                      0.0             0.0\n",
       "customers_lead                                  0.0             0.0\n",
       "ppp                                             0.0             0.0\n",
       "assigned_vs_reserved                            0.0             0.0"
      ]
     },
     "execution_count": 116,
     "metadata": {},
     "output_type": "execute_result"
    }
   ],
   "source": [
    "perc_missing_data = pd.DataFrame([d2.isnull().sum(),d2.isnull().sum()*100.0/d2.shape[0]]).T\n",
    "perc_missing_data.columns = ['No. of Missing Data', '% Missing Data']\n",
    "perc_missing_data"
   ]
  },
  {
   "cell_type": "code",
   "execution_count": 117,
   "metadata": {},
   "outputs": [],
   "source": [
    "y = d2.is_canceled\n",
    "X = pd.get_dummies(d2.drop([\"is_canceled\"], axis=1), drop_first=True)"
   ]
  },
  {
   "cell_type": "code",
   "execution_count": 118,
   "metadata": {},
   "outputs": [],
   "source": [
    "X_train, X_test, y_train, y_test = train_test_split(X, y, test_size=0.2, shuffle = True, random_state=1)"
   ]
  },
  {
   "cell_type": "code",
   "execution_count": 119,
   "metadata": {},
   "outputs": [],
   "source": [
    "pipeline = Pipeline([('DecisionTreeClassifier', DecisionTreeClassifier())])\n",
    "\n",
    "params = {'DecisionTreeClassifier__max_depth': np.arange(10,20)}\n",
    "\n",
    "KF = KFold(n_splits = 5, shuffle = True, random_state = 1)\n",
    "\n",
    "model = GridSearchCV(pipeline, params, cv = KF, scoring = 'roc_auc').fit(X_train, y_train)"
   ]
  },
  {
   "cell_type": "code",
   "execution_count": 120,
   "metadata": {},
   "outputs": [
    {
     "name": "stdout",
     "output_type": "stream",
     "text": [
      "Pipeline(steps=[('DecisionTreeClassifier',\n",
      "                 DecisionTreeClassifier(max_depth=13))])\n",
      "0.8806662104173171\n"
     ]
    }
   ],
   "source": [
    "print(model.best_estimator_)\n",
    "print(model.best_score_)"
   ]
  },
  {
   "cell_type": "code",
   "execution_count": 121,
   "metadata": {},
   "outputs": [
    {
     "data": {
      "image/png": "[encoded data removed]",
      "text/plain": [
       "<Figure size 640x400 with 2 Axes>"
      ]
     },
     "metadata": {
      "needs_background": "light"
     },
     "output_type": "display_data"
    }
   ],
   "source": [
    "ax= plt.subplot()\n",
    "sns.heatmap(confusion_matrix(y_train, model.predict(X_train))/len(y_train), annot = True, cmap=\"Blues\")\n",
    "# labels, title and ticks\n",
    "ax.set_xlabel('Predicted labels');ax.set_ylabel('True labels'); \n",
    "ax.set_title('Confusion Matrix'); \n",
    "ax.xaxis.set_ticklabels(['Not Cancel', 'Cancel']); ax.yaxis.set_ticklabels(['Not Cancel', 'Cancel']);"
   ]
  },
  {
   "cell_type": "code",
   "execution_count": 122,
   "metadata": {},
   "outputs": [],
   "source": [
    "# Logistic Regression\n",
    "pipeline = Pipeline([('StandardScaler', StandardScaler()), \n",
    "                     ('LogisticRegression', LogisticRegression(multi_class='ovr', solver='liblinear', verbose=0))])\n",
    "\n",
    "params = {'LogisticRegression__C': [200, 500, 1000, 2000, 5000], \n",
    "          'LogisticRegression__penalty': ['l1']} \n",
    "# Tried C = [0.01, 0.1, 1, 10, ..., 100000], and C = [200, 500, 1000, 2000, 5000]\n",
    "\n",
    "KF = KFold(n_splits = 5, shuffle = True, random_state = 1)\n",
    "\n",
    "model_LR = GridSearchCV(pipeline, params, cv = KF, scoring = 'roc_auc').fit(X_train, y_train)"
   ]
  },
  {
   "cell_type": "code",
   "execution_count": 123,
   "metadata": {},
   "outputs": [
    {
     "name": "stdout",
     "output_type": "stream",
     "text": [
      "Pipeline(steps=[('StandardScaler', StandardScaler()),\n",
      "                ('LogisticRegression',\n",
      "                 LogisticRegression(C=500, multi_class='ovr', penalty='l1',\n",
      "                                    solver='liblinear'))])\n",
      "0.8507640542168936\n"
     ]
    }
   ],
   "source": [
    "print(model_LR.best_estimator_)\n",
    "print(model_LR.best_score_)"
   ]
  },
  {
   "cell_type": "code",
   "execution_count": 124,
   "metadata": {},
   "outputs": [
    {
     "data": {
      "image/png": "[encoded data removed]",
      "text/plain": [
       "<Figure size 640x400 with 2 Axes>"
      ]
     },
     "metadata": {
      "needs_background": "light"
     },
     "output_type": "display_data"
    }
   ],
   "source": [
    "ax= plt.subplot()\n",
    "sns.heatmap(confusion_matrix(y_train, model_LR.predict(X_train))/len(y_train), annot = True, cmap=\"Blues\");\n",
    "# labels, title and ticks\n",
    "ax.set_xlabel('Predicted labels');ax.set_ylabel('True labels'); \n",
    "ax.set_title('Confusion Matrix'); \n",
    "ax.xaxis.set_ticklabels(['Not Cancel', 'Cancel']); ax.yaxis.set_ticklabels(['Not Cancel', 'Cancel']);"
   ]
  },
  {
   "cell_type": "code",
   "execution_count": 125,
   "metadata": {},
   "outputs": [
    {
     "data": {
      "image/png": "[encoded data removed]",
      "text/plain": [
       "<Figure size 640x400 with 1 Axes>"
      ]
     },
     "metadata": {
      "needs_background": "light"
     },
     "output_type": "display_data"
    }
   ],
   "source": [
    "# Logistic regression weights\n",
    "model_LR_weights = pd.DataFrame({'Feature': X.columns, \n",
    "                                 'Weight': model_LR.best_estimator_.named_steps['LogisticRegression'].coef_[0], \n",
    "                                 'abs_weight': abs(model_LR.best_estimator_.named_steps['LogisticRegression'].coef_[0])})\n",
    "\n",
    "# Sort weights by absolute values\n",
    "model_LR_weights = model_LR_weights.sort_values(by='abs_weight', ascending=False).drop(['abs_weight'], axis=1)\n",
    "\n",
    "# Specify colors for positive and negative values\n",
    "colors = ['#ff7f0e' if x < 0 else '#3776ab' for x in model_LR_weights.Weight]\n",
    "\n",
    "sns.barplot(y = 'Feature', x = 'Weight', data = model_LR_weights, palette = colors)\n",
    "plt.show();"
   ]
  },
  {
   "cell_type": "code",
   "execution_count": null,
   "metadata": {},
   "outputs": [],
   "source": []
  },
  {
   "cell_type": "markdown",
   "metadata": {},
   "source": [
    "## 4. Discussion & Conclusions\n"
   ]
  },
  {
   "cell_type": "markdown",
   "metadata": {},
   "source": [
    "*In this section you should provide a general overview of your final model, its performance, and reliability. You should discuss what the implications of your model are in terms of the included features, predictive performance, and anything else you think is relevant.*\n",
    "\n",
    "*This should be written with a target audience of the client who is with the hotel data and university level mathematics but not necessarily someone who has taken a postgraduate statistical modeling course. Your goal should be to convince this audience that your model is both accurate and useful.*\n",
    "\n",
    "*Keep in mind that a negative result, i.e. a model that does not work well predictively, that is well explained and justified in terms of why it failed will likely receive higher marks than a model with strong predictive performance but with poor or incorrect explinations / justifications.*"
   ]
  },
  {
   "cell_type": "markdown",
   "metadata": {},
   "source": [
    "## 5. Convert Document"
   ]
  },
  {
   "cell_type": "code",
   "execution_count": 126,
   "metadata": {},
   "outputs": [],
   "source": [
    "# Run the following to render to PDF\n",
    "!jupyter nbconvert --to pdf proj2.ipynb"
   ]
  },
  {
   "cell_type": "code",
   "execution_count": null,
   "metadata": {},
   "outputs": [],
   "source": []
  }
 ],
 "metadata": {
  "kernelspec": {
   "display_name": "Python 3",
   "language": "python",
   "name": "python3"
  },
  "language_info": {
   "codemirror_mode": {
    "name": "ipython",
    "version": 3
   },
   "file_extension": ".py",
   "mimetype": "text/x-python",
   "name": "python",
   "nbconvert_exporter": "python",
   "pygments_lexer": "ipython3",
   "version": "3.8.5"
  }
 },
 "nbformat": 4,
 "nbformat_minor": 4
}

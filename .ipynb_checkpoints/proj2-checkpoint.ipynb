{
 "cells": [
  {
   "cell_type": "markdown",
   "metadata": {},
   "source": [
    "# Machine Learning in Python - Project 1\n",
    "\n",
    "Due Friday, April 9th by 5 pm UK local time."
   ]
  },
  {
   "cell_type": "markdown",
   "metadata": {},
   "source": [
    "Abu Mazhar, Adrian Lee, Elliot Kovanda, Gianluca Bianchi."
   ]
  },
  {
   "cell_type": "markdown",
   "metadata": {},
   "source": [
    "## 0. Setup"
   ]
  },
  {
   "cell_type": "code",
   "execution_count": 295,
   "metadata": {},
   "outputs": [],
   "source": [
    "# Install required packages\n",
    "!pip install -q -r requirements.txt"
   ]
  },
  {
   "cell_type": "code",
   "execution_count": 296,
   "metadata": {},
   "outputs": [],
   "source": [
    "# Add any additional libraries or submodules below\n",
    "\n",
    "# Display plots inline\n",
    "%matplotlib inline\n",
    "\n",
    "# Data libraries\n",
    "import pandas as pd\n",
    "import numpy as np\n",
    "\n",
    "# Plotting libraries\n",
    "import matplotlib.pyplot as plt\n",
    "import seaborn as sns\n",
    "\n",
    "# Plotting defaults\n",
    "plt.rcParams['figure.figsize'] = (8,5)\n",
    "plt.rcParams['figure.dpi'] = 80\n",
    "\n",
    "# sklearn modules\n",
    "import sklearn\n",
    "from sklearn.model_selection import train_test_split\n",
    "from sklearn.tree import DecisionTreeClassifier\n",
    "from sklearn.tree import plot_tree\n",
    "from sklearn.pipeline import Pipeline\n",
    "from sklearn.preprocessing import OneHotEncoder\n",
    "from sklearn.model_selection import KFold\n",
    "from sklearn.model_selection import GridSearchCV\n",
    "from sklearn.metrics import confusion_matrix"
   ]
  },
  {
   "cell_type": "code",
   "execution_count": 297,
   "metadata": {},
   "outputs": [],
   "source": [
    "# Load data\n",
    "d = pd.read_csv(\"hotel.csv\")"
   ]
  },
  {
   "cell_type": "markdown",
   "metadata": {},
   "source": [
    "## 1. Introduction\n",
    "\n",
    "*This section should include a brief introduction to the task and the data (assume this is a report you are delivering to a client). If you use any additional data sources, you should introduce them here and discuss why they were included.*\n",
    "\n",
    "*Briefly outline the approaches being used and the conclusions that you are able to draw.*\n",
    "\n",
    "In the following report we will devlop a model, based upon the hotel bookins data set, which aims to predict whether a booking is likely to be cancelled or not. We aim for our model to be used by the hotel so that they can give booked rooms out to other customers, provided the booking has a high likelihood of being cancelled. Our hope is that the results we produce will help the hotels better understand what causes customers to cancel so that they might improve these aspects of their hotel where possible. \n",
    "\n",
    "Before the model was devloped and tested we cleaned the data removing irregularities and what we deem to be incorrect entries. We then studied the data to gain insights about the most significant features affecting the cancellation decsion of a given booking, following this we removed the \n",
    "\n",
    "With the now good quality dataset we fitted several models, namely logistic regression, decision trees and random forests. Ultimatley we decided that #### was the superior model with a precidictive accuracy of ####.\n",
    "\n"
   ]
  },
  {
   "cell_type": "markdown",
   "metadata": {},
   "source": [
    "## 2. Exploratory Data Analysis and Feature Engineering"
   ]
  },
  {
   "cell_type": "markdown",
   "metadata": {},
   "source": [
    "*Include a detailed discussion of the data with a particular emphasis on the features of the data that are relevant for the subsequent modeling. Including visualizations of the data is strongly encouraged - all code and plots must also be described in the write up. Think carefully about whether each plot needs to be included in your final draft - your report should include figures but they should be as focused and impactful as possible.*\n",
    "\n",
    "*Additionally, this section should also implement and describe any preprocessing / feature engineering of the data. Specifically, this should be any code that you use to generate new columns in the data frame `d`. All of this processing is explicitly meant to occur before we split the data in to training and testing subsets. Processing that will be performed as part of an sklearn pipeline can be mentioned here but should be implemented in the following section.*\n",
    "\n",
    "*All code and figures should be accompanied by text that provides an overview / context to what is being done or presented.*"
   ]
  },
  {
   "cell_type": "code",
   "execution_count": 298,
   "metadata": {},
   "outputs": [
    {
     "name": "stdout",
     "output_type": "stream",
     "text": [
      "<class 'pandas.core.frame.DataFrame'>\n",
      "RangeIndex: 119390 entries, 0 to 119389\n",
      "Data columns (total 30 columns):\n",
      " #   Column                          Non-Null Count   Dtype  \n",
      "---  ------                          --------------   -----  \n",
      " 0   is_canceled                     119390 non-null  int64  \n",
      " 1   hotel                           119390 non-null  object \n",
      " 2   lead_time                       119390 non-null  int64  \n",
      " 3   arrival_date_year               119390 non-null  int64  \n",
      " 4   arrival_date_month              119390 non-null  object \n",
      " 5   arrival_date_week_number        119390 non-null  int64  \n",
      " 6   arrival_date_day_of_month       119390 non-null  int64  \n",
      " 7   stays_in_weekend_nights         119390 non-null  int64  \n",
      " 8   stays_in_week_nights            119390 non-null  int64  \n",
      " 9   adults                          119390 non-null  int64  \n",
      " 10  children                        119386 non-null  float64\n",
      " 11  babies                          119390 non-null  int64  \n",
      " 12  meal                            119390 non-null  object \n",
      " 13  country                         118902 non-null  object \n",
      " 14  market_segment                  119390 non-null  object \n",
      " 15  distribution_channel            119390 non-null  object \n",
      " 16  is_repeated_guest               119390 non-null  int64  \n",
      " 17  previous_cancellations          119390 non-null  int64  \n",
      " 18  previous_bookings_not_canceled  119390 non-null  int64  \n",
      " 19  reserved_room_type              119390 non-null  object \n",
      " 20  assigned_room_type              119390 non-null  object \n",
      " 21  booking_changes                 119390 non-null  int64  \n",
      " 22  deposit_type                    119390 non-null  object \n",
      " 23  agent                           103050 non-null  float64\n",
      " 24  company                         6797 non-null    float64\n",
      " 25  days_in_waiting_list            119390 non-null  int64  \n",
      " 26  customer_type                   119390 non-null  object \n",
      " 27  adr                             119390 non-null  float64\n",
      " 28  required_car_parking_spaces     119390 non-null  int64  \n",
      " 29  total_of_special_requests       119390 non-null  int64  \n",
      "dtypes: float64(4), int64(16), object(10)\n",
      "memory usage: 27.3+ MB\n"
     ]
    }
   ],
   "source": [
    "d.info()"
   ]
  },
  {
   "cell_type": "code",
   "execution_count": 299,
   "metadata": {},
   "outputs": [],
   "source": [
    "pd.set_option('display.max_columns', 500)"
   ]
  },
  {
   "cell_type": "code",
   "execution_count": 300,
   "metadata": {},
   "outputs": [
    {
     "data": {
      "text/plain": [
       "Index(['is_canceled', 'hotel', 'lead_time', 'arrival_date_year',\n",
       "       'arrival_date_month', 'arrival_date_week_number',\n",
       "       'arrival_date_day_of_month', 'stays_in_weekend_nights',\n",
       "       'stays_in_week_nights', 'adults', 'children', 'babies', 'meal',\n",
       "       'country', 'market_segment', 'distribution_channel',\n",
       "       'is_repeated_guest', 'previous_cancellations',\n",
       "       'previous_bookings_not_canceled', 'reserved_room_type',\n",
       "       'assigned_room_type', 'booking_changes', 'deposit_type', 'agent',\n",
       "       'company', 'days_in_waiting_list', 'customer_type', 'adr',\n",
       "       'required_car_parking_spaces', 'total_of_special_requests'],\n",
       "      dtype='object')"
      ]
     },
     "execution_count": 300,
     "metadata": {},
     "output_type": "execute_result"
    }
   ],
   "source": [
    "\n",
    "d.columns"
   ]
  },
  {
   "cell_type": "markdown",
   "metadata": {},
   "source": [
    "### Guest Data Irregularities\n"
   ]
  },
  {
   "cell_type": "markdown",
   "metadata": {},
   "source": [
    "An initial check on our data to decide if a given booking was valid or not was to check that there were the correct number of guests on a booking. This first involved removing bookings with no guests at all. We then proceeded to remove all bookings which contain no adults as we thought this unreasonable for children to be making bookings without adults."
   ]
  },
  {
   "cell_type": "code",
   "execution_count": 301,
   "metadata": {},
   "outputs": [],
   "source": [
    "# Total guests \n",
    "d[\"n_guests\"] = d.adults + d.children + d.babies\n",
    "\n",
    "# Drop if no guests\n",
    "d.drop(d[(d.n_guests < 1) | (np.isnan(d.n_guests))].index, inplace = True)\n",
    "\n",
    "# # Drop if baby but no adult\n",
    "# d2.drop(d2[(d2.adults < 1) & (d2.babies >= 1)].index, inplace = True)\n",
    "\n",
    "# # Bookings with only children\n",
    "# d2[(d2.adults < 1) & (d2.children >= 1)]\n",
    "\n",
    "# drop entries with no adults\n",
    "#d = d[~(d.adults==0)]"
   ]
  },
  {
   "cell_type": "markdown",
   "metadata": {},
   "source": [
    "Finally we decided to join the children and baby variable into a 'family' variable."
   ]
  },
  {
   "cell_type": "code",
   "execution_count": 302,
   "metadata": {},
   "outputs": [],
   "source": [
    "d['family'] = ((d['children'] > 0) | (d['babies'] > 0))"
   ]
  },
  {
   "cell_type": "markdown",
   "metadata": {},
   "source": [
    "Following the elimination of the invalid rows we could make more eliminations by considering the parking space requirement for each booking. We said that it was reasonable for each adult on a booking to have their own car parking space, or not have one at all. However, if there was more than one parking space per adult this would be infeasible. We subsequently removed those columns."
   ]
  },
  {
   "cell_type": "code",
   "execution_count": 303,
   "metadata": {},
   "outputs": [],
   "source": [
    "# drop entries with more than one car parking space requested per adult (7 in total)\n",
    "d = d[~(d.required_car_parking_spaces/d.adults > 1)]"
   ]
  },
  {
   "cell_type": "markdown",
   "metadata": {},
   "source": [
    "#### Total stay and weekday_stay per weekend_stay\n",
    "Delete obervations when total stay = 0\n",
    "\n",
    "Long stays appear to check out. At least they are staying continouously for weekdays and weekends."
   ]
  },
  {
   "cell_type": "code",
   "execution_count": 304,
   "metadata": {},
   "outputs": [],
   "source": [
    "d[\"total_stay\"] = d.stays_in_weekend_nights + d.stays_in_week_nights\n",
    "\n",
    "d.drop(d[(d.total_stay < 1)].index, inplace = True)\n",
    "\n",
    "# Weekday_diff indicates whether stay was continuous (weekdays per weekends should be constant and not above 5)\n",
    "d[\"weekday_diff\"] = (d.stays_in_weekend_nights - d.stays_in_week_nights) / (1+(0.5*d.stays_in_weekend_nights)) \n",
    "#d2[((d2.total_stay > 20) & (d2.weekday_diff < -3))]"
   ]
  },
  {
   "cell_type": "code",
   "execution_count": 305,
   "metadata": {},
   "outputs": [
    {
     "name": "stdout",
     "output_type": "stream",
     "text": [
      "is_portugal  hotel       \n",
      "0            City Hotel      0.269442\n",
      "             Resort Hotel    0.164557\n",
      "1            City Hotel      0.654838\n",
      "             Resort Hotel    0.429438\n",
      "Name: is_canceled, dtype: float64\n",
      "0.37259599163236384\n"
     ]
    }
   ],
   "source": [
    "# Creates a binary column whether booking is from Portugal or not \n",
    "d['is_portugal'] = np.where(d.country == 'PRT', 1, 0)\n",
    "\n",
    "print(d.groupby([\"is_portugal\", \"hotel\"]).is_canceled.mean())\n",
    "print(d.is_canceled.mean())"
   ]
  },
  {
   "cell_type": "code",
   "execution_count": 306,
   "metadata": {},
   "outputs": [],
   "source": [
    "d.drop([\"country\", \"is_portugal\"], axis = \"columns\", inplace = True)"
   ]
  },
  {
   "cell_type": "markdown",
   "metadata": {},
   "source": [
    "#### Cancellation ratio\n",
    "Gives insight into fraction of bookings cancelled. \n",
    "\n",
    "Problem: 2 cancellations / 2 bookings = 1 cancellation / 1 booking = 1"
   ]
  },
  {
   "cell_type": "code",
   "execution_count": 307,
   "metadata": {},
   "outputs": [],
   "source": [
    "#d2[\"cancelation_ratio\"] = d2.previous_cancellations / (d2.previous_cancellations + d2.previous_bookings_not_canceled)\n",
    "#d2.cancelation_ratio\n",
    "\n",
    "#d2[\"cancelation_ratio\"] = d2.previous_cancellations / (d2.previous_cancellations + d2.previous_bookings_not_canceled)\n",
    "#d2[\"cancelation_ratio\"] = np.where(d2.is_repeated_guest == 0, 0,\n",
    "                                   #d2.previous_cancellations / (d2.previous_cancellations + d2.previous_bookings_not_canceled))\n",
    "\n",
    "#d2.cancelation_ratio.unique"
   ]
  },
  {
   "cell_type": "markdown",
   "metadata": {},
   "source": [
    "#### Customer's lead time\n",
    "Time between confirmation of booking and arrival. \n",
    "\n",
    "Problem: There's little variance in waiting time and waiting time is small relative to lead time. Therefore, near perfect correlation between lead_time and customers_lead.\n"
   ]
  },
  {
   "cell_type": "code",
   "execution_count": 308,
   "metadata": {},
   "outputs": [],
   "source": [
    "import scipy\n",
    "\n",
    "#d2[\"customers_lead\"] = d2.lead_time - d2.days_in_waiting_list\n",
    "\n",
    "#d2.customers_lead.mean()\n",
    "#d2.days_in_waiting_list.mean()\n",
    "\n",
    "#scipy.stats.pearsonr(d2.customers_lead, d2.lead_time)"
   ]
  },
  {
   "cell_type": "code",
   "execution_count": 309,
   "metadata": {},
   "outputs": [],
   "source": [
    "#d2[\"ppp\"] = d2.adr / (d2.adults + d2.children)\n",
    "\n",
    "#d2.ppp.nlargest(5)\n",
    "#d2.adr.nlargest(5)\n",
    "\n",
    "# We drop the excessive ppp > 2000\n",
    "#d2.drop(d2[(d2.ppp > 2000)].index, inplace = True)\n",
    "\n",
    "\n",
    "#d2[(d2.ppp > 250)]"
   ]
  },
  {
   "cell_type": "markdown",
   "metadata": {},
   "source": [
    "### Check price by room type\n",
    "Clearly, room type L (only booked once) should not exist. So we drop it."
   ]
  },
  {
   "cell_type": "code",
   "execution_count": 310,
   "metadata": {},
   "outputs": [],
   "source": [
    "#d2.groupby(\"assigned_room_type\").ppp.mean().sort_values()"
   ]
  },
  {
   "cell_type": "code",
   "execution_count": 311,
   "metadata": {},
   "outputs": [],
   "source": [
    "#d2.drop(d2[(d2.assigned_room_type == \"L\")].index, inplace = True)"
   ]
  },
  {
   "cell_type": "markdown",
   "metadata": {},
   "source": [
    "We can observe from the histogram below (on a subset of the data) that there are a number of unusually low rates which form a second hump. We should exclude these."
   ]
  },
  {
   "cell_type": "code",
   "execution_count": 312,
   "metadata": {},
   "outputs": [],
   "source": [
    "#sns.displot(\n",
    "    #data = d2[(d2.ppp < 500)],\n",
    "    #x = \"ppp\",\n",
    "    #kind = \"hist\",\n",
    "    #bins = 50\n",
    "           #)"
   ]
  },
  {
   "cell_type": "code",
   "execution_count": 313,
   "metadata": {},
   "outputs": [],
   "source": [
    "# Fill nan's in the `agent` column with 536 (original range of codes for `agent` is 1 to 535)\n",
    "d['agent'] = d['agent'].fillna(536)\n",
    "# Fill nan's in the `company` column with 536 (original range of codes for `agent` is 6 to 543)\n",
    "d['company'] = d['company'].fillna(544)\n",
    "\n",
    "# Assume no children if `children` is nan\n",
    "d['children'] = d['children'].fillna(0)\n",
    "# Assume no babies if `babies` is nan\n",
    "d['babies'] = d['babies'].fillna(0)\n",
    "\n",
    "# Assume country is PRT if `country` is nan\n",
    "#d['country'] = d['country'].fillna('PRT')"
   ]
  },
  {
   "cell_type": "code",
   "execution_count": 314,
   "metadata": {},
   "outputs": [],
   "source": [
    "# drop entries with no adults\n",
    "d = d[~(d.adults==0)]"
   ]
  },
  {
   "cell_type": "code",
   "execution_count": 315,
   "metadata": {},
   "outputs": [],
   "source": [
    "# Compare whether assigned and reserved rooms are the same\n",
    "d['assigned_vs_reserved'] = (d['assigned_room_type'] == d['reserved_room_type'])\n",
    "\n",
    "# Check whether customer is a parent\n",
    "d['family'] = ((d['children'] > 0) | (d['babies'] > 0))"
   ]
  },
  {
   "cell_type": "code",
   "execution_count": 316,
   "metadata": {},
   "outputs": [],
   "source": [
    "d2 = d.drop(['arrival_date_year','arrival_date_month','arrival_date_day_of_month','children','babies','reserved_room_type','assigned_room_type','agent','company',\n",
    "        'required_car_parking_spaces','n_guests','weekday_diff'], axis=1)"
   ]
  },
  {
   "cell_type": "markdown",
   "metadata": {},
   "source": [
    "## 3. Model Fitting and Tuning"
   ]
  },
  {
   "cell_type": "markdown",
   "metadata": {},
   "source": [
    "*In this section you should detail your choice of model and describe the process used to refine and fit that model. You are strongly encouraged to explore many different modeling methods (e.g. logistic regression, classification trees, SVC, etc.) but you should not include a detailed narrative of all of these attempts. At most this section should mention the methods explored and why they were rejected - most of your effort should go into describing the model you are using and your process for tuning and validatin it.*\n",
    "\n",
    "*This section should also include the full implementation of your final model, including all necessary validation. As with figures, any included code must also be addressed in the text of the document.*"
   ]
  },
  {
   "cell_type": "markdown",
   "metadata": {},
   "source": []
  },
  {
   "cell_type": "code",
   "execution_count": 317,
   "metadata": {},
   "outputs": [
    {
     "data": {
      "text/plain": [
       "['is_canceled',\n",
       " 'hotel',\n",
       " 'lead_time',\n",
       " 'arrival_date_week_number',\n",
       " 'stays_in_weekend_nights',\n",
       " 'stays_in_week_nights',\n",
       " 'adults',\n",
       " 'meal',\n",
       " 'market_segment',\n",
       " 'distribution_channel',\n",
       " 'is_repeated_guest',\n",
       " 'previous_cancellations',\n",
       " 'previous_bookings_not_canceled',\n",
       " 'booking_changes',\n",
       " 'deposit_type',\n",
       " 'days_in_waiting_list',\n",
       " 'customer_type',\n",
       " 'adr',\n",
       " 'total_of_special_requests',\n",
       " 'family',\n",
       " 'total_stay',\n",
       " 'assigned_vs_reserved']"
      ]
     },
     "execution_count": 317,
     "metadata": {},
     "output_type": "execute_result"
    }
   ],
   "source": [
    "list(d2.columns)"
   ]
  },
  {
   "cell_type": "code",
   "execution_count": 318,
   "metadata": {},
   "outputs": [
    {
     "data": {
      "text/html": [
       "<div>\n",
       "<style scoped>\n",
       "    .dataframe tbody tr th:only-of-type {\n",
       "        vertical-align: middle;\n",
       "    }\n",
       "\n",
       "    .dataframe tbody tr th {\n",
       "        vertical-align: top;\n",
       "    }\n",
       "\n",
       "    .dataframe thead th {\n",
       "        text-align: right;\n",
       "    }\n",
       "</style>\n",
       "<table border=\"1\" class=\"dataframe\">\n",
       "  <thead>\n",
       "    <tr style=\"text-align: right;\">\n",
       "      <th></th>\n",
       "      <th>No. of Missing Data</th>\n",
       "      <th>% Missing Data</th>\n",
       "    </tr>\n",
       "  </thead>\n",
       "  <tbody>\n",
       "    <tr>\n",
       "      <th>is_canceled</th>\n",
       "      <td>0.0</td>\n",
       "      <td>0.0</td>\n",
       "    </tr>\n",
       "    <tr>\n",
       "      <th>hotel</th>\n",
       "      <td>0.0</td>\n",
       "      <td>0.0</td>\n",
       "    </tr>\n",
       "    <tr>\n",
       "      <th>lead_time</th>\n",
       "      <td>0.0</td>\n",
       "      <td>0.0</td>\n",
       "    </tr>\n",
       "    <tr>\n",
       "      <th>arrival_date_week_number</th>\n",
       "      <td>0.0</td>\n",
       "      <td>0.0</td>\n",
       "    </tr>\n",
       "    <tr>\n",
       "      <th>stays_in_weekend_nights</th>\n",
       "      <td>0.0</td>\n",
       "      <td>0.0</td>\n",
       "    </tr>\n",
       "    <tr>\n",
       "      <th>stays_in_week_nights</th>\n",
       "      <td>0.0</td>\n",
       "      <td>0.0</td>\n",
       "    </tr>\n",
       "    <tr>\n",
       "      <th>adults</th>\n",
       "      <td>0.0</td>\n",
       "      <td>0.0</td>\n",
       "    </tr>\n",
       "    <tr>\n",
       "      <th>meal</th>\n",
       "      <td>0.0</td>\n",
       "      <td>0.0</td>\n",
       "    </tr>\n",
       "    <tr>\n",
       "      <th>market_segment</th>\n",
       "      <td>0.0</td>\n",
       "      <td>0.0</td>\n",
       "    </tr>\n",
       "    <tr>\n",
       "      <th>distribution_channel</th>\n",
       "      <td>0.0</td>\n",
       "      <td>0.0</td>\n",
       "    </tr>\n",
       "    <tr>\n",
       "      <th>is_repeated_guest</th>\n",
       "      <td>0.0</td>\n",
       "      <td>0.0</td>\n",
       "    </tr>\n",
       "    <tr>\n",
       "      <th>previous_cancellations</th>\n",
       "      <td>0.0</td>\n",
       "      <td>0.0</td>\n",
       "    </tr>\n",
       "    <tr>\n",
       "      <th>previous_bookings_not_canceled</th>\n",
       "      <td>0.0</td>\n",
       "      <td>0.0</td>\n",
       "    </tr>\n",
       "    <tr>\n",
       "      <th>booking_changes</th>\n",
       "      <td>0.0</td>\n",
       "      <td>0.0</td>\n",
       "    </tr>\n",
       "    <tr>\n",
       "      <th>deposit_type</th>\n",
       "      <td>0.0</td>\n",
       "      <td>0.0</td>\n",
       "    </tr>\n",
       "    <tr>\n",
       "      <th>days_in_waiting_list</th>\n",
       "      <td>0.0</td>\n",
       "      <td>0.0</td>\n",
       "    </tr>\n",
       "    <tr>\n",
       "      <th>customer_type</th>\n",
       "      <td>0.0</td>\n",
       "      <td>0.0</td>\n",
       "    </tr>\n",
       "    <tr>\n",
       "      <th>adr</th>\n",
       "      <td>0.0</td>\n",
       "      <td>0.0</td>\n",
       "    </tr>\n",
       "    <tr>\n",
       "      <th>total_of_special_requests</th>\n",
       "      <td>0.0</td>\n",
       "      <td>0.0</td>\n",
       "    </tr>\n",
       "    <tr>\n",
       "      <th>family</th>\n",
       "      <td>0.0</td>\n",
       "      <td>0.0</td>\n",
       "    </tr>\n",
       "    <tr>\n",
       "      <th>total_stay</th>\n",
       "      <td>0.0</td>\n",
       "      <td>0.0</td>\n",
       "    </tr>\n",
       "    <tr>\n",
       "      <th>assigned_vs_reserved</th>\n",
       "      <td>0.0</td>\n",
       "      <td>0.0</td>\n",
       "    </tr>\n",
       "  </tbody>\n",
       "</table>\n",
       "</div>"
      ],
      "text/plain": [
       "                                No. of Missing Data  % Missing Data\n",
       "is_canceled                                     0.0             0.0\n",
       "hotel                                           0.0             0.0\n",
       "lead_time                                       0.0             0.0\n",
       "arrival_date_week_number                        0.0             0.0\n",
       "stays_in_weekend_nights                         0.0             0.0\n",
       "stays_in_week_nights                            0.0             0.0\n",
       "adults                                          0.0             0.0\n",
       "meal                                            0.0             0.0\n",
       "market_segment                                  0.0             0.0\n",
       "distribution_channel                            0.0             0.0\n",
       "is_repeated_guest                               0.0             0.0\n",
       "previous_cancellations                          0.0             0.0\n",
       "previous_bookings_not_canceled                  0.0             0.0\n",
       "booking_changes                                 0.0             0.0\n",
       "deposit_type                                    0.0             0.0\n",
       "days_in_waiting_list                            0.0             0.0\n",
       "customer_type                                   0.0             0.0\n",
       "adr                                             0.0             0.0\n",
       "total_of_special_requests                       0.0             0.0\n",
       "family                                          0.0             0.0\n",
       "total_stay                                      0.0             0.0\n",
       "assigned_vs_reserved                            0.0             0.0"
      ]
     },
     "execution_count": 318,
     "metadata": {},
     "output_type": "execute_result"
    }
   ],
   "source": [
    "perc_missing_data = pd.DataFrame([d2.isnull().sum(),d2.isnull().sum()*100.0/d2.shape[0]]).T\n",
    "perc_missing_data.columns = ['No. of Missing Data', '% Missing Data']\n",
    "perc_missing_data"
   ]
  },
  {
   "cell_type": "code",
   "execution_count": 319,
   "metadata": {},
   "outputs": [],
   "source": [
    "y = d2.is_canceled\n",
    "X = pd.get_dummies(d2.drop([\"is_canceled\",\"deposit_type\"], axis=1), drop_first=True)"
   ]
  },
  {
   "cell_type": "code",
   "execution_count": 320,
   "metadata": {},
   "outputs": [],
   "source": [
    "X_train, X_test, y_train, y_test = train_test_split(X, y, test_size=0.2, shuffle = True, random_state=1)"
   ]
  },
  {
   "cell_type": "code",
   "execution_count": 321,
   "metadata": {},
   "outputs": [],
   "source": [
    "pipeline = Pipeline([('DecisionTreeClassifier', DecisionTreeClassifier())])\n",
    "\n",
    "params = {'DecisionTreeClassifier__max_depth': np.arange(10,20)}\n",
    "\n",
    "KF = KFold(n_splits = 5, shuffle = True, random_state = 1)\n",
    "\n",
    "model = GridSearchCV(pipeline, params, cv = KF, scoring = 'roc_auc').fit(X_train, y_train)"
   ]
  },
  {
   "cell_type": "code",
   "execution_count": 322,
   "metadata": {},
   "outputs": [
    {
     "name": "stdout",
     "output_type": "stream",
     "text": [
      "Pipeline(steps=[('DecisionTreeClassifier',\n",
      "                 DecisionTreeClassifier(max_depth=14))])\n",
      "0.871556642742409\n"
     ]
    }
   ],
   "source": [
    "print(model.best_estimator_)\n",
    "print(model.best_score_)"
   ]
  },
  {
   "cell_type": "code",
   "execution_count": 323,
   "metadata": {},
   "outputs": [
    {
     "data": {
      "image/png": "[encoded data removed]",
      "text/plain": [
       "<Figure size 640x400 with 2 Axes>"
      ]
     },
     "metadata": {
      "needs_background": "light"
     },
     "output_type": "display_data"
    }
   ],
   "source": [
    "sns.heatmap(confusion_matrix(y_train, model.predict(X_train))/len(y_train), annot = True, cmap=\"Blues\");"
   ]
  },
  {
   "cell_type": "markdown",
   "metadata": {},
   "source": [
    "## 4. Discussion & Conclusions\n"
   ]
  },
  {
   "cell_type": "markdown",
   "metadata": {},
   "source": [
    "*In this section you should provide a general overview of your final model, its performance, and reliability. You should discuss what the implications of your model are in terms of the included features, predictive performance, and anything else you think is relevant.*\n",
    "\n",
    "*This should be written with a target audience of the client who is with the hotel data and university level mathematics but not necessarily someone who has taken a postgraduate statistical modeling course. Your goal should be to convince this audience that your model is both accurate and useful.*\n",
    "\n",
    "*Keep in mind that a negative result, i.e. a model that does not work well predictively, that is well explained and justified in terms of why it failed will likely receive higher marks than a model with strong predictive performance but with poor or incorrect explinations / justifications.*"
   ]
  },
  {
   "cell_type": "markdown",
   "metadata": {},
   "source": [
    "## 5. Convert Document"
   ]
  },
  {
   "cell_type": "code",
   "execution_count": null,
   "metadata": {},
   "outputs": [],
   "source": [
    "# Run the following to render to PDF\n",
    "!jupyter nbconvert --to pdf proj2.ipynb"
   ]
  },
  {
   "cell_type": "code",
   "execution_count": null,
   "metadata": {},
   "outputs": [],
   "source": []
  }
 ],
 "metadata": {
  "kernelspec": {
   "display_name": "Python 3",
   "language": "python",
   "name": "python3"
  },
  "language_info": {
   "codemirror_mode": {
    "name": "ipython",
    "version": 3
   },
   "file_extension": ".py",
   "mimetype": "text/x-python",
   "name": "python",
   "nbconvert_exporter": "python",
   "pygments_lexer": "ipython3",
   "version": "3.7.6"
  }
 },
 "nbformat": 4,
 "nbformat_minor": 4
}
